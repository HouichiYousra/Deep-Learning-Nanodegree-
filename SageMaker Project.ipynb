{
 "cells": [
  {
   "cell_type": "markdown",
   "metadata": {},
   "source": [
    "# Creating a Sentiment Analysis Web App\n",
    "## Using PyTorch and SageMaker\n",
    "\n",
    "_Deep Learning Nanodegree Program | Deployment_\n",
    "\n",
    "---\n",
    "\n",
    "Now that we have a basic understanding of how SageMaker works we will try to use it to construct a complete project from end to end. Our goal will be to have a simple web page which a user can use to enter a movie review. The web page will then send the review off to our deployed model which will predict the sentiment of the entered review.\n",
    "\n",
    "## Instructions\n",
    "\n",
    "Some template code has already been provided for you, and you will need to implement additional functionality to successfully complete this notebook. You will not need to modify the included code beyond what is requested. Sections that begin with '**TODO**' in the header indicate that you need to complete or implement some portion within them. Instructions will be provided for each section and the specifics of the implementation are marked in the code block with a `# TODO: ...` comment. Please be sure to read the instructions carefully!\n",
    "\n",
    "In addition to implementing code, there will be questions for you to answer which relate to the task and your implementation. Each section where you will answer a question is preceded by a '**Question:**' header. Carefully read each question and provide your answer below the '**Answer:**' header by editing the Markdown cell.\n",
    "\n",
    "> **Note**: Code and Markdown cells can be executed using the **Shift+Enter** keyboard shortcut. In addition, a cell can be edited by typically clicking it (double-click for Markdown cells) or by pressing **Enter** while it is highlighted.\n",
    "\n",
    "## General Outline\n",
    "\n",
    "Recall the general outline for SageMaker projects using a notebook instance.\n",
    "\n",
    "1. Download or otherwise retrieve the data.\n",
    "2. Process / Prepare the data.\n",
    "3. Upload the processed data to S3.\n",
    "4. Train a chosen model.\n",
    "5. Test the trained model (typically using a batch transform job).\n",
    "6. Deploy the trained model.\n",
    "7. Use the deployed model.\n",
    "\n",
    "For this project, you will be following the steps in the general outline with some modifications. \n",
    "\n",
    "First, you will not be testing the model in its own step. You will still be testing the model, however, you will do it by deploying your model and then using the deployed model by sending the test data to it. One of the reasons for doing this is so that you can make sure that your deployed model is working correctly before moving forward.\n",
    "\n",
    "In addition, you will deploy and use your trained model a second time. In the second iteration you will customize the way that your trained model is deployed by including some of your own code. In addition, your newly deployed model will be used in the sentiment analysis web app."
   ]
  },
  {
   "cell_type": "markdown",
   "metadata": {},
   "source": [
    "## Step 1: Downloading the data\n",
    "\n",
    "As in the XGBoost in SageMaker notebook, we will be using the [IMDb dataset](http://ai.stanford.edu/~amaas/data/sentiment/)\n",
    "\n",
    "> Maas, Andrew L., et al. [Learning Word Vectors for Sentiment Analysis](http://ai.stanford.edu/~amaas/data/sentiment/). In _Proceedings of the 49th Annual Meeting of the Association for Computational Linguistics: Human Language Technologies_. Association for Computational Linguistics, 2011."
   ]
  },
  {
   "cell_type": "code",
   "execution_count": 14,
   "metadata": {},
   "outputs": [
    {
     "name": "stdout",
     "output_type": "stream",
     "text": [
      "mkdir: cannot create directory ‘../data’: File exists\n",
      "--2019-12-22 18:01:18--  http://ai.stanford.edu/~amaas/data/sentiment/aclImdb_v1.tar.gz\n",
      "Resolving ai.stanford.edu (ai.stanford.edu)... 171.64.68.10\n",
      "Connecting to ai.stanford.edu (ai.stanford.edu)|171.64.68.10|:80... connected.\n",
      "HTTP request sent, awaiting response... 200 OK\n",
      "Length: 84125825 (80M) [application/x-gzip]\n",
      "Saving to: ‘../data/aclImdb_v1.tar.gz’\n",
      "\n",
      "../data/aclImdb_v1. 100%[===================>]  80.23M  10.3MB/s    in 10s     \n",
      "\n",
      "2019-12-22 18:01:29 (7.70 MB/s) - ‘../data/aclImdb_v1.tar.gz’ saved [84125825/84125825]\n",
      "\n"
     ]
    }
   ],
   "source": [
    "%mkdir ../data\n",
    "!wget -O ../data/aclImdb_v1.tar.gz http://ai.stanford.edu/~amaas/data/sentiment/aclImdb_v1.tar.gz\n",
    "!tar -zxf ../data/aclImdb_v1.tar.gz -C ../data"
   ]
  },
  {
   "cell_type": "markdown",
   "metadata": {},
   "source": [
    "## Step 2: Preparing and Processing the data\n",
    "\n",
    "Also, as in the XGBoost notebook, we will be doing some initial data processing. The first few steps are the same as in the XGBoost example. To begin with, we will read in each of the reviews and combine them into a single input structure. Then, we will split the dataset into a training set and a testing set."
   ]
  },
  {
   "cell_type": "code",
   "execution_count": 15,
   "metadata": {},
   "outputs": [],
   "source": [
    "import os\n",
    "import glob\n",
    "\n",
    "def read_imdb_data(data_dir='../data/aclImdb'):\n",
    "    data = {}\n",
    "    labels = {}\n",
    "    \n",
    "    for data_type in ['train', 'test']:\n",
    "        data[data_type] = {}\n",
    "        labels[data_type] = {}\n",
    "        \n",
    "        for sentiment in ['pos', 'neg']:\n",
    "            data[data_type][sentiment] = []\n",
    "            labels[data_type][sentiment] = []\n",
    "            \n",
    "            path = os.path.join(data_dir, data_type, sentiment, '*.txt')\n",
    "            files = glob.glob(path)\n",
    "            \n",
    "            for f in files:\n",
    "                with open(f) as review:\n",
    "                    data[data_type][sentiment].append(review.read())\n",
    "                    # Here we represent a positive review by '1' and a negative review by '0'\n",
    "                    labels[data_type][sentiment].append(1 if sentiment == 'pos' else 0)\n",
    "                    \n",
    "            assert len(data[data_type][sentiment]) == len(labels[data_type][sentiment]), \\\n",
    "                    \"{}/{} data size does not match labels size\".format(data_type, sentiment)\n",
    "                \n",
    "    return data, labels"
   ]
  },
  {
   "cell_type": "code",
   "execution_count": 16,
   "metadata": {},
   "outputs": [
    {
     "name": "stdout",
     "output_type": "stream",
     "text": [
      "IMDB reviews: train = 12500 pos / 12500 neg, test = 12500 pos / 12500 neg\n"
     ]
    }
   ],
   "source": [
    "data, labels = read_imdb_data()\n",
    "print(\"IMDB reviews: train = {} pos / {} neg, test = {} pos / {} neg\".format(\n",
    "            len(data['train']['pos']), len(data['train']['neg']),\n",
    "            len(data['test']['pos']), len(data['test']['neg'])))"
   ]
  },
  {
   "cell_type": "markdown",
   "metadata": {},
   "source": [
    "Now that we've read the raw training and testing data from the downloaded dataset, we will combine the positive and negative reviews and shuffle the resulting records."
   ]
  },
  {
   "cell_type": "code",
   "execution_count": 17,
   "metadata": {},
   "outputs": [],
   "source": [
    "from sklearn.utils import shuffle\n",
    "\n",
    "def prepare_imdb_data(data, labels):\n",
    "    \"\"\"Prepare training and test sets from IMDb movie reviews.\"\"\"\n",
    "    \n",
    "    #Combine positive and negative reviews and labels\n",
    "    data_train = data['train']['pos'] + data['train']['neg']\n",
    "    data_test = data['test']['pos'] + data['test']['neg']\n",
    "    labels_train = labels['train']['pos'] + labels['train']['neg']\n",
    "    labels_test = labels['test']['pos'] + labels['test']['neg']\n",
    "    \n",
    "    #Shuffle reviews and corresponding labels within training and test sets\n",
    "    data_train, labels_train = shuffle(data_train, labels_train)\n",
    "    data_test, labels_test = shuffle(data_test, labels_test)\n",
    "    \n",
    "    # Return a unified training data, test data, training labels, test labets\n",
    "    return data_train, data_test, labels_train, labels_test"
   ]
  },
  {
   "cell_type": "code",
   "execution_count": 18,
   "metadata": {},
   "outputs": [
    {
     "name": "stdout",
     "output_type": "stream",
     "text": [
      "IMDb reviews (combined): train = 25000, test = 25000\n"
     ]
    }
   ],
   "source": [
    "train_X, test_X, train_y, test_y = prepare_imdb_data(data, labels)\n",
    "print(\"IMDb reviews (combined): train = {}, test = {}\".format(len(train_X), len(test_X)))"
   ]
  },
  {
   "cell_type": "markdown",
   "metadata": {},
   "source": [
    "Now that we have our training and testing sets unified and prepared, we should do a quick check and see an example of the data our model will be trained on. This is generally a good idea as it allows you to see how each of the further processing steps affects the reviews and it also ensures that the data has been loaded correctly."
   ]
  },
  {
   "cell_type": "code",
   "execution_count": 19,
   "metadata": {},
   "outputs": [
    {
     "name": "stdout",
     "output_type": "stream",
     "text": [
      "Although in some aspects Seven Pounds is solid and interesting in some of its narrative style, Gabriele Muccino's project is rather mediocre. The movie becomes more and more sappy and manipulative as it move toward the end: hearts human and emotional, eyes physical and metaphorical. Seven Pounds is more of an amateurish imitation of Alejandro González Iñárritu's Amores Perros and 21 Grams, with lots and lots of flashbacks. The problem is the story is quite predictable from VERY easily on through the movie. That's too bad, because Seven Pounds could have been as authentically \"good\" if Ben and Emily had been put in the right hands.\n",
      "0\n"
     ]
    }
   ],
   "source": [
    "print(train_X[100])\n",
    "print(train_y[100])"
   ]
  },
  {
   "cell_type": "markdown",
   "metadata": {},
   "source": [
    "The first step in processing the reviews is to make sure that any html tags that appear should be removed. In addition we wish to tokenize our input, that way words such as *entertained* and *entertaining* are considered the same with regard to sentiment analysis."
   ]
  },
  {
   "cell_type": "code",
   "execution_count": 20,
   "metadata": {},
   "outputs": [],
   "source": [
    "import nltk\n",
    "from nltk.corpus import stopwords\n",
    "from nltk.stem.porter import *\n",
    "\n",
    "import re\n",
    "from bs4 import BeautifulSoup\n",
    "\n",
    "def review_to_words(review):\n",
    "    nltk.download(\"stopwords\", quiet=True)\n",
    "    stemmer = PorterStemmer()\n",
    "    \n",
    "    text = BeautifulSoup(review, \"html.parser\").get_text() # Remove HTML tags\n",
    "    text = re.sub(r\"[^a-zA-Z0-9]\", \" \", text.lower()) # Convert to lower case\n",
    "    words = text.split() # Split string into words\n",
    "    words = [w for w in words if w not in stopwords.words(\"english\")] # Remove stopwords\n",
    "    words = [PorterStemmer().stem(w) for w in words] # stem\n",
    "    \n",
    "    return words"
   ]
  },
  {
   "cell_type": "markdown",
   "metadata": {},
   "source": [
    "The `review_to_words` method defined above uses `BeautifulSoup` to remove any html tags that appear and uses the `nltk` package to tokenize the reviews. As a check to ensure we know how everything is working, try applying `review_to_words` to one of the reviews in the training set."
   ]
  },
  {
   "cell_type": "code",
   "execution_count": 21,
   "metadata": {},
   "outputs": [
    {
     "name": "stdout",
     "output_type": "stream",
     "text": [
      "['although', 'aspect', 'seven', 'pound', 'solid', 'interest', 'narr', 'style', 'gabriel', 'muccino', 'project', 'rather', 'mediocr', 'movi', 'becom', 'sappi', 'manipul', 'move', 'toward', 'end', 'heart', 'human', 'emot', 'eye', 'physic', 'metaphor', 'seven', 'pound', 'amateurish', 'imit', 'alejandro', 'gonz', 'lez', 'rritu', 'amor', 'perro', '21', 'gram', 'lot', 'lot', 'flashback', 'problem', 'stori', 'quit', 'predict', 'easili', 'movi', 'bad', 'seven', 'pound', 'could', 'authent', 'good', 'ben', 'emili', 'put', 'right', 'hand']\n"
     ]
    }
   ],
   "source": [
    "# TODO: Apply review_to_words to a review (train_X[100] or any other review)\n",
    "print(review_to_words(train_X[100]))\n",
    "\n"
   ]
  },
  {
   "cell_type": "markdown",
   "metadata": {},
   "source": [
    "**Question:** Above we mentioned that `review_to_words` method removes html formatting and allows us to tokenize the words found in a review, for example, converting *entertained* and *entertaining* into *entertain* so that they are treated as though they are the same word. What else, if anything, does this method do to the input?"
   ]
  },
  {
   "cell_type": "markdown",
   "metadata": {},
   "source": [
    "**Answer:** Review_to_words converts all the words to lower case and removes ponctuation"
   ]
  },
  {
   "cell_type": "markdown",
   "metadata": {},
   "source": [
    "The method below applies the `review_to_words` method to each of the reviews in the training and testing datasets. In addition it caches the results. This is because performing this processing step can take a long time. This way if you are unable to complete the notebook in the current session, you can come back without needing to process the data a second time."
   ]
  },
  {
   "cell_type": "code",
   "execution_count": 22,
   "metadata": {},
   "outputs": [],
   "source": [
    "import pickle\n",
    "\n",
    "cache_dir = os.path.join(\"../cache\", \"sentiment_analysis\")  # where to store cache files\n",
    "os.makedirs(cache_dir, exist_ok=True)  # ensure cache directory exists\n",
    "\n",
    "def preprocess_data(data_train, data_test, labels_train, labels_test,\n",
    "                    cache_dir=cache_dir, cache_file=\"preprocessed_data.pkl\"):\n",
    "    \"\"\"Convert each review to words; read from cache if available.\"\"\"\n",
    "\n",
    "    # If cache_file is not None, try to read from it first\n",
    "    cache_data = None\n",
    "    if cache_file is not None:\n",
    "        try:\n",
    "            with open(os.path.join(cache_dir, cache_file), \"rb\") as f:\n",
    "                cache_data = pickle.load(f)\n",
    "            print(\"Read preprocessed data from cache file:\", cache_file)\n",
    "        except:\n",
    "            pass  # unable to read from cache, but that's okay\n",
    "    \n",
    "    # If cache is missing, then do the heavy lifting\n",
    "    if cache_data is None:\n",
    "        # Preprocess training and test data to obtain words for each review\n",
    "        #words_train = list(map(review_to_words, data_train))\n",
    "        #words_test = list(map(review_to_words, data_test))\n",
    "        words_train = [review_to_words(review) for review in data_train]\n",
    "        words_test = [review_to_words(review) for review in data_test]\n",
    "        \n",
    "        # Write to cache file for future runs\n",
    "        if cache_file is not None:\n",
    "            cache_data = dict(words_train=words_train, words_test=words_test,\n",
    "                              labels_train=labels_train, labels_test=labels_test)\n",
    "            with open(os.path.join(cache_dir, cache_file), \"wb\") as f:\n",
    "                pickle.dump(cache_data, f)\n",
    "            print(\"Wrote preprocessed data to cache file:\", cache_file)\n",
    "    else:\n",
    "        # Unpack data loaded from cache file\n",
    "        words_train, words_test, labels_train, labels_test = (cache_data['words_train'],\n",
    "                cache_data['words_test'], cache_data['labels_train'], cache_data['labels_test'])\n",
    "    \n",
    "    return words_train, words_test, labels_train, labels_test"
   ]
  },
  {
   "cell_type": "code",
   "execution_count": 23,
   "metadata": {},
   "outputs": [
    {
     "name": "stdout",
     "output_type": "stream",
     "text": [
      "Wrote preprocessed data to cache file: preprocessed_data.pkl\n"
     ]
    }
   ],
   "source": [
    "# Preprocess data\n",
    "train_X, test_X, train_y, test_y = preprocess_data(train_X, test_X, train_y, test_y)"
   ]
  },
  {
   "cell_type": "markdown",
   "metadata": {},
   "source": [
    "## Transform the data\n",
    "\n",
    "In the XGBoost notebook we transformed the data from its word representation to a bag-of-words feature representation. For the model we are going to construct in this notebook we will construct a feature representation which is very similar. To start, we will represent each word as an integer. Of course, some of the words that appear in the reviews occur very infrequently and so likely don't contain much information for the purposes of sentiment analysis. The way we will deal with this problem is that we will fix the size of our working vocabulary and we will only include the words that appear most frequently. We will then combine all of the infrequent words into a single category and, in our case, we will label it as `1`.\n",
    "\n",
    "Since we will be using a recurrent neural network, it will be convenient if the length of each review is the same. To do this, we will fix a size for our reviews and then pad short reviews with the category 'no word' (which we will label `0`) and truncate long reviews."
   ]
  },
  {
   "cell_type": "markdown",
   "metadata": {},
   "source": [
    "### (TODO) Create a word dictionary\n",
    "\n",
    "To begin with, we need to construct a way to map words that appear in the reviews to integers. Here we fix the size of our vocabulary (including the 'no word' and 'infrequent' categories) to be `5000` but you may wish to change this to see how it affects the model.\n",
    "\n",
    "> **TODO:** Complete the implementation for the `build_dict()` method below. Note that even though the vocab_size is set to `5000`, we only want to construct a mapping for the most frequently appearing `4998` words. This is because we want to reserve the special labels `0` for 'no word' and `1` for 'infrequent word'."
   ]
  },
  {
   "cell_type": "code",
   "execution_count": 24,
   "metadata": {},
   "outputs": [],
   "source": [
    "import numpy as np\n",
    "\n",
    "def build_dict(data, vocab_size = 5000):\n",
    "    \"\"\"Construct and return a dictionary mapping each of the most frequently appearing words to a unique integer.\"\"\"\n",
    "    \n",
    "    # TODO: Determine how often each word appears in `data`. Note that `data` is a list of sentences and that a\n",
    "    #       sentence is a list of words.\n",
    "    \n",
    "    word_count = {} # A dict storing the words that appear in the reviews along with how often they occur\n",
    "    \n",
    "    # TODO: Sort the words found in `data` so that sorted_words[0] is the most frequently appearing word and\n",
    "    #       sorted_words[-1] is the least frequently appearing word.\n",
    "    for sentence in data:\n",
    "        for word in sentence:\n",
    "            if word in word_count:\n",
    "                word_count[word] += 1\n",
    "            else:\n",
    "                word_count[word] = 1\n",
    "                \n",
    "    sorted_words = sorted(word_count, key=word_count.get, reverse=True)\n",
    "    \n",
    "    word_dict = {} # This is what we are building, a dictionary that translates words into integers\n",
    "    for idx, word in enumerate(sorted_words[:vocab_size - 2]): # The -2 is so that we save room for the 'no word'\n",
    "        word_dict[word] = idx + 2                              # 'infrequent' labels\n",
    "        \n",
    "    return word_dict"
   ]
  },
  {
   "cell_type": "code",
   "execution_count": 25,
   "metadata": {},
   "outputs": [],
   "source": [
    "word_dict = build_dict(train_X)"
   ]
  },
  {
   "cell_type": "markdown",
   "metadata": {},
   "source": [
    "**Question:** What are the five most frequently appearing (tokenized) words in the training set? Does it makes sense that these words appear frequently in the training set?"
   ]
  },
  {
   "cell_type": "markdown",
   "metadata": {},
   "source": [
    "**Answer:** movi, film, one, like, time. It makes sense since they are related to the general theme of the reviews but it doesn't make sense for the sentiment analysis because these words are neutral."
   ]
  },
  {
   "cell_type": "code",
   "execution_count": 26,
   "metadata": {},
   "outputs": [
    {
     "name": "stdout",
     "output_type": "stream",
     "text": [
      "{'movi': 2, 'film': 3, 'one': 4, 'like': 5, 'time': 6, 'good': 7, 'make': 8, 'charact': 9, 'get': 10, 'see': 11, 'watch': 12, 'stori': 13, 'even': 14, 'would': 15, 'realli': 16, 'well': 17, 'scene': 18, 'look': 19, 'show': 20, 'much': 21, 'end': 22, 'peopl': 23, 'bad': 24, 'go': 25, 'great': 26, 'also': 27, 'first': 28, 'love': 29, 'think': 30, 'way': 31, 'act': 32, 'play': 33, 'made': 34, 'thing': 35, 'could': 36, 'know': 37, 'say': 38, 'seem': 39, 'work': 40, 'plot': 41, 'two': 42, 'actor': 43, 'year': 44, 'come': 45, 'mani': 46, 'seen': 47, 'take': 48, 'want': 49, 'life': 50, 'never': 51, 'littl': 52, 'best': 53, 'tri': 54, 'man': 55, 'ever': 56, 'give': 57, 'better': 58, 'still': 59, 'perform': 60, 'find': 61, 'feel': 62, 'part': 63, 'back': 64, 'use': 65, 'someth': 66, 'director': 67, 'actual': 68, 'interest': 69, 'lot': 70, 'real': 71, 'old': 72, 'cast': 73, 'though': 74, 'live': 75, 'star': 76, 'enjoy': 77, 'guy': 78, 'anoth': 79, 'new': 80, 'role': 81, 'noth': 82, '10': 83, 'funni': 84, 'music': 85, 'point': 86, 'start': 87, 'set': 88, 'girl': 89, 'origin': 90, 'day': 91, 'world': 92, 'everi': 93, 'believ': 94, 'turn': 95, 'quit': 96, 'us': 97, 'direct': 98, 'thought': 99, 'fact': 100, 'minut': 101, 'horror': 102, 'kill': 103, 'action': 104, 'comedi': 105, 'pretti': 106, 'young': 107, 'wonder': 108, 'happen': 109, 'around': 110, 'got': 111, 'effect': 112, 'right': 113, 'long': 114, 'howev': 115, 'big': 116, 'line': 117, 'famili': 118, 'enough': 119, 'seri': 120, 'may': 121, 'need': 122, 'fan': 123, 'bit': 124, 'script': 125, 'beauti': 126, 'person': 127, 'becom': 128, 'without': 129, 'must': 130, 'alway': 131, 'friend': 132, 'tell': 133, 'reason': 134, 'saw': 135, 'last': 136, 'final': 137, 'kid': 138, 'almost': 139, 'put': 140, 'least': 141, 'sure': 142, 'done': 143, 'whole': 144, 'place': 145, 'complet': 146, 'kind': 147, 'differ': 148, 'expect': 149, 'shot': 150, 'far': 151, 'mean': 152, 'anyth': 153, 'book': 154, 'laugh': 155, 'might': 156, 'name': 157, 'sinc': 158, 'begin': 159, '2': 160, 'probabl': 161, 'woman': 162, 'help': 163, 'entertain': 164, 'let': 165, 'screen': 166, 'call': 167, 'tv': 168, 'moment': 169, 'away': 170, 'read': 171, 'yet': 172, 'rather': 173, 'worst': 174, 'run': 175, 'fun': 176, 'lead': 177, 'hard': 178, 'audienc': 179, 'idea': 180, 'anyon': 181, 'episod': 182, 'american': 183, 'found': 184, 'appear': 185, 'bore': 186, 'especi': 187, 'although': 188, 'hope': 189, 'cours': 190, 'keep': 191, 'anim': 192, 'job': 193, 'goe': 194, 'move': 195, 'sens': 196, 'dvd': 197, 'version': 198, 'war': 199, 'money': 200, 'someon': 201, 'mind': 202, 'mayb': 203, 'problem': 204, 'true': 205, 'hous': 206, 'everyth': 207, 'nice': 208, 'second': 209, 'rate': 210, 'three': 211, 'night': 212, 'follow': 213, 'face': 214, 'recommend': 215, 'product': 216, 'main': 217, 'worth': 218, 'leav': 219, 'human': 220, 'special': 221, 'excel': 222, 'togeth': 223, 'wast': 224, 'sound': 225, 'everyon': 226, 'john': 227, 'hand': 228, '1': 229, 'father': 230, 'later': 231, 'eye': 232, 'said': 233, 'view': 234, 'instead': 235, 'review': 236, 'boy': 237, 'high': 238, 'hour': 239, 'miss': 240, 'classic': 241, 'talk': 242, 'wife': 243, 'understand': 244, 'left': 245, 'care': 246, 'black': 247, 'death': 248, 'open': 249, 'murder': 250, 'write': 251, 'half': 252, 'head': 253, 'rememb': 254, 'chang': 255, 'viewer': 256, 'fight': 257, 'gener': 258, 'surpris': 259, 'short': 260, 'includ': 261, 'die': 262, 'fall': 263, 'less': 264, 'els': 265, 'entir': 266, 'piec': 267, 'involv': 268, 'pictur': 269, 'simpli': 270, 'top': 271, 'power': 272, 'home': 273, 'total': 274, 'usual': 275, 'budget': 276, 'attempt': 277, 'suppos': 278, 'releas': 279, 'hollywood': 280, 'terribl': 281, 'song': 282, 'men': 283, 'possibl': 284, 'featur': 285, 'portray': 286, 'disappoint': 287, 'poor': 288, '3': 289, 'coupl': 290, 'stupid': 291, 'camera': 292, 'dead': 293, 'wrong': 294, 'produc': 295, 'low': 296, 'video': 297, 'either': 298, 'aw': 299, 'definit': 300, 'except': 301, 'rest': 302, 'given': 303, 'absolut': 304, 'women': 305, 'lack': 306, 'word': 307, 'writer': 308, 'titl': 309, 'talent': 310, 'decid': 311, 'full': 312, 'perfect': 313, 'along': 314, 'style': 315, 'close': 316, 'truli': 317, 'school': 318, 'emot': 319, 'save': 320, 'age': 321, 'sex': 322, 'next': 323, 'bring': 324, 'mr': 325, 'case': 326, 'killer': 327, 'heart': 328, 'comment': 329, 'sort': 330, 'creat': 331, 'perhap': 332, 'came': 333, 'brother': 334, 'sever': 335, 'joke': 336, 'art': 337, 'dialogu': 338, 'game': 339, 'small': 340, 'base': 341, 'flick': 342, 'written': 343, 'sequenc': 344, 'meet': 345, 'earli': 346, 'often': 347, 'other': 348, 'mother': 349, 'develop': 350, 'humor': 351, 'actress': 352, 'consid': 353, 'dark': 354, 'guess': 355, 'amaz': 356, 'unfortun': 357, 'lost': 358, 'light': 359, 'exampl': 360, 'cinema': 361, 'drama': 362, 'white': 363, 'ye': 364, 'experi': 365, 'imagin': 366, 'mention': 367, 'stop': 368, 'natur': 369, 'forc': 370, 'manag': 371, 'felt': 372, 'cut': 373, 'present': 374, 'children': 375, 'fail': 376, 'son': 377, 'car': 378, 'support': 379, 'qualiti': 380, 'ask': 381, 'hit': 382, 'side': 383, 'voic': 384, 'extrem': 385, 'impress': 386, 'wors': 387, 'evil': 388, 'went': 389, 'stand': 390, 'certainli': 391, 'basic': 392, 'oh': 393, 'overal': 394, 'favorit': 395, 'horribl': 396, 'mysteri': 397, 'number': 398, 'type': 399, 'danc': 400, 'wait': 401, 'hero': 402, '5': 403, 'alreadi': 404, 'learn': 405, 'matter': 406, '4': 407, 'michael': 408, 'genr': 409, 'fine': 410, 'despit': 411, 'throughout': 412, 'walk': 413, 'success': 414, 'histori': 415, 'question': 416, 'zombi': 417, 'town': 418, 'relationship': 419, 'realiz': 420, 'child': 421, 'past': 422, 'daughter': 423, 'late': 424, 'b': 425, 'wish': 426, 'credit': 427, 'hate': 428, 'event': 429, 'theme': 430, 'touch': 431, 'citi': 432, 'today': 433, 'sometim': 434, 'behind': 435, 'god': 436, 'twist': 437, 'sit': 438, 'deal': 439, 'stay': 440, 'annoy': 441, 'abl': 442, 'rent': 443, 'pleas': 444, 'edit': 445, 'blood': 446, 'deserv': 447, 'comic': 448, 'anyway': 449, 'appar': 450, 'soon': 451, 'gave': 452, 'etc': 453, 'level': 454, 'slow': 455, 'chanc': 456, 'score': 457, 'bodi': 458, 'brilliant': 459, 'incred': 460, 'figur': 461, 'situat': 462, 'major': 463, 'self': 464, 'stuff': 465, 'decent': 466, 'element': 467, 'return': 468, 'dream': 469, 'obvious': 470, 'order': 471, 'continu': 472, 'pace': 473, 'ridicul': 474, 'happi': 475, 'group': 476, 'highli': 477, 'add': 478, 'thank': 479, 'ladi': 480, 'novel': 481, 'pain': 482, 'speak': 483, 'career': 484, 'shoot': 485, 'strang': 486, 'heard': 487, 'sad': 488, 'polic': 489, 'husband': 490, 'import': 491, 'break': 492, 'took': 493, 'strong': 494, 'cannot': 495, 'predict': 496, 'robert': 497, 'violenc': 498, 'hilari': 499, 'recent': 500, 'countri': 501, 'known': 502, 'particularli': 503, 'pick': 504, 'documentari': 505, 'season': 506, 'critic': 507, 'jame': 508, 'compar': 509, 'obviou': 510, 'alon': 511, 'told': 512, 'state': 513, 'visual': 514, 'rock': 515, 'offer': 516, 'theater': 517, 'exist': 518, 'opinion': 519, 'gore': 520, 'crap': 521, 'hold': 522, 'result': 523, 'room': 524, 'realiti': 525, 'hear': 526, 'effort': 527, 'clich': 528, 'thriller': 529, 'caus': 530, 'serious': 531, 'explain': 532, 'sequel': 533, 'king': 534, 'local': 535, 'ago': 536, 'hell': 537, 'none': 538, 'note': 539, 'allow': 540, 'david': 541, 'sister': 542, 'simpl': 543, 'femal': 544, 'deliv': 545, 'ok': 546, 'class': 547, 'convinc': 548, 'check': 549, 'suspens': 550, 'win': 551, 'buy': 552, 'oscar': 553, 'huge': 554, 'valu': 555, 'sexual': 556, 'scari': 557, 'cool': 558, 'excit': 559, 'similar': 560, 'exactli': 561, 'apart': 562, 'provid': 563, 'shown': 564, 'avoid': 565, 'seriou': 566, 'english': 567, 'taken': 568, 'whose': 569, 'cinematographi': 570, 'shock': 571, 'polit': 572, 'spoiler': 573, 'offic': 574, 'across': 575, 'middl': 576, 'street': 577, 'pass': 578, 'messag': 579, 'charm': 580, 'somewhat': 581, 'silli': 582, 'modern': 583, 'confus': 584, 'filmmak': 585, 'form': 586, 'tale': 587, 'singl': 588, 'jack': 589, 'mostli': 590, 'william': 591, 'attent': 592, 'carri': 593, 'sing': 594, 'five': 595, 'subject': 596, 'richard': 597, 'prove': 598, 'stage': 599, 'team': 600, 'unlik': 601, 'cop': 602, 'georg': 603, 'televis': 604, 'monster': 605, 'earth': 606, 'cover': 607, 'villain': 608, 'pay': 609, 'marri': 610, 'toward': 611, 'build': 612, 'parent': 613, 'pull': 614, 'due': 615, 'respect': 616, 'fill': 617, 'dialog': 618, 'four': 619, 'remind': 620, 'futur': 621, 'typic': 622, 'weak': 623, '7': 624, 'cheap': 625, 'intellig': 626, 'atmospher': 627, 'british': 628, '80': 629, 'clearli': 630, 'non': 631, 'paul': 632, 'dog': 633, '8': 634, 'artist': 635, 'fast': 636, 'knew': 637, 'crime': 638, 'easili': 639, 'escap': 640, 'doubt': 641, 'adult': 642, 'detail': 643, 'date': 644, 'fire': 645, 'member': 646, 'romant': 647, 'drive': 648, 'gun': 649, 'straight': 650, 'beyond': 651, 'fit': 652, 'attack': 653, 'imag': 654, 'upon': 655, 'posit': 656, 'whether': 657, 'fantast': 658, 'peter': 659, 'appreci': 660, 'captur': 661, 'aspect': 662, 'ten': 663, 'plan': 664, 'discov': 665, 'remain': 666, 'period': 667, 'near': 668, 'realist': 669, 'air': 670, 'mark': 671, 'red': 672, 'dull': 673, 'adapt': 674, 'within': 675, 'lose': 676, 'spend': 677, 'materi': 678, 'color': 679, 'chase': 680, 'mari': 681, 'storylin': 682, 'forget': 683, 'bunch': 684, 'clear': 685, 'lee': 686, 'victim': 687, 'nearli': 688, 'box': 689, 'york': 690, 'match': 691, 'inspir': 692, 'mess': 693, 'finish': 694, 'standard': 695, 'easi': 696, 'truth': 697, 'busi': 698, 'suffer': 699, 'bill': 700, 'space': 701, 'dramat': 702, 'western': 703, 'e': 704, 'list': 705, 'battl': 706, 'notic': 707, 'de': 708, 'french': 709, 'ad': 710, '9': 711, 'tom': 712, 'larg': 713, 'among': 714, 'eventu': 715, 'accept': 716, 'train': 717, 'agre': 718, 'spirit': 719, 'soundtrack': 720, 'third': 721, 'teenag': 722, 'soldier': 723, 'adventur': 724, 'drug': 725, 'suggest': 726, 'famou': 727, 'sorri': 728, 'normal': 729, 'babi': 730, 'cri': 731, 'troubl': 732, 'ultim': 733, 'contain': 734, 'certain': 735, 'cultur': 736, 'romanc': 737, 'rare': 738, 'lame': 739, 'somehow': 740, 'mix': 741, 'disney': 742, 'gone': 743, 'cartoon': 744, 'student': 745, 'reveal': 746, 'fear': 747, 'kept': 748, 'suck': 749, 'attract': 750, 'appeal': 751, 'premis': 752, 'greatest': 753, 'secret': 754, 'design': 755, 'shame': 756, 'throw': 757, 'scare': 758, 'copi': 759, 'wit': 760, 'america': 761, 'admit': 762, 'brought': 763, 'relat': 764, 'particular': 765, 'screenplay': 766, 'whatev': 767, 'pure': 768, '70': 769, 'harri': 770, 'averag': 771, 'master': 772, 'describ': 773, 'male': 774, 'treat': 775, '20': 776, 'fantasi': 777, 'issu': 778, 'warn': 779, 'inde': 780, 'forward': 781, 'background': 782, 'project': 783, 'free': 784, 'memor': 785, 'japanes': 786, 'poorli': 787, 'award': 788, 'locat': 789, 'amus': 790, 'potenti': 791, 'struggl': 792, 'weird': 793, 'magic': 794, 'societi': 795, 'okay': 796, 'doctor': 797, 'accent': 798, 'imdb': 799, 'water': 800, 'hot': 801, 'express': 802, 'alien': 803, '30': 804, 'dr': 805, 'odd': 806, 'choic': 807, 'crazi': 808, 'fiction': 809, 'studio': 810, 'becam': 811, 'control': 812, 'masterpiec': 813, 'fli': 814, 'difficult': 815, 'joe': 816, 'scream': 817, 'costum': 818, 'lover': 819, 'refer': 820, 'uniqu': 821, 'remak': 822, 'vampir': 823, 'girlfriend': 824, 'prison': 825, 'execut': 826, 'wear': 827, 'jump': 828, 'unless': 829, 'wood': 830, 'creepi': 831, 'cheesi': 832, 'superb': 833, 'otherwis': 834, 'parti': 835, 'ghost': 836, 'roll': 837, 'mad': 838, 'public': 839, 'depict': 840, 'moral': 841, 'badli': 842, 'earlier': 843, 'jane': 844, 'week': 845, 'fi': 846, 'dumb': 847, 'grow': 848, 'flaw': 849, 'sci': 850, 'deep': 851, 'maker': 852, 'cat': 853, 'older': 854, 'connect': 855, 'footag': 856, 'bother': 857, 'plenti': 858, 'outsid': 859, 'stick': 860, 'gay': 861, 'catch': 862, 'plu': 863, 'co': 864, 'popular': 865, 'equal': 866, 'social': 867, 'quickli': 868, 'disturb': 869, 'perfectli': 870, 'dress': 871, 'era': 872, '90': 873, 'mistak': 874, 'lie': 875, 'previou': 876, 'ride': 877, 'combin': 878, 'band': 879, 'concept': 880, 'rich': 881, 'answer': 882, 'surviv': 883, 'front': 884, 'sweet': 885, 'christma': 886, 'insid': 887, 'eat': 888, 'concern': 889, 'bare': 890, 'ben': 891, 'listen': 892, 'beat': 893, 'c': 894, 'term': 895, 'serv': 896, 'meant': 897, 'la': 898, 'german': 899, 'hardli': 900, 'stereotyp': 901, 'innoc': 902, 'law': 903, 'desper': 904, 'promis': 905, 'memori': 906, 'intent': 907, 'cute': 908, 'steal': 909, 'variou': 910, 'inform': 911, 'brain': 912, 'post': 913, 'tone': 914, 'island': 915, 'amount': 916, 'compani': 917, 'track': 918, 'nuditi': 919, 'store': 920, 'claim': 921, 'flat': 922, '50': 923, 'hair': 924, 'univers': 925, 'land': 926, 'fairli': 927, 'kick': 928, 'scott': 929, 'danger': 930, 'player': 931, 'plain': 932, 'crew': 933, 'step': 934, 'toni': 935, 'share': 936, 'tast': 937, 'centuri': 938, 'achiev': 939, 'engag': 940, 'travel': 941, 'cold': 942, 'rip': 943, 'record': 944, 'suit': 945, 'sadli': 946, 'manner': 947, 'wrote': 948, 'tension': 949, 'spot': 950, 'intens': 951, 'fascin': 952, 'familiar': 953, 'remark': 954, 'depth': 955, 'burn': 956, 'histor': 957, 'destroy': 958, 'sleep': 959, 'purpos': 960, 'languag': 961, 'ruin': 962, 'ignor': 963, 'delight': 964, 'unbeliev': 965, 'italian': 966, 'abil': 967, 'collect': 968, 'soul': 969, 'clever': 970, 'detect': 971, 'violent': 972, 'rape': 973, 'reach': 974, 'door': 975, 'trash': 976, 'liter': 977, 'scienc': 978, 'caught': 979, 'commun': 980, 'reveng': 981, 'creatur': 982, 'approach': 983, 'trip': 984, 'intrigu': 985, 'fashion': 986, 'skill': 987, 'paint': 988, 'introduc': 989, 'complex': 990, 'channel': 991, 'camp': 992, 'christian': 993, 'hole': 994, 'extra': 995, 'limit': 996, 'immedi': 997, 'mental': 998, 'ann': 999, '6': 1000, 'comput': 1001, 'mere': 1002, 'million': 1003, 'slightli': 1004, 'conclus': 1005, 'slasher': 1006, 'suddenli': 1007, 'imposs': 1008, 'teen': 1009, 'neither': 1010, 'crimin': 1011, 'spent': 1012, 'nation': 1013, 'physic': 1014, 'respons': 1015, 'planet': 1016, 'fake': 1017, 'receiv': 1018, 'blue': 1019, 'sick': 1020, 'bizarr': 1021, 'embarrass': 1022, 'indian': 1023, 'ring': 1024, '15': 1025, 'drop': 1026, 'pop': 1027, 'drag': 1028, 'haunt': 1029, 'suspect': 1030, 'pointless': 1031, 'search': 1032, 'edg': 1033, 'handl': 1034, 'biggest': 1035, 'common': 1036, 'arriv': 1037, 'faith': 1038, 'hurt': 1039, 'technic': 1040, 'angel': 1041, 'dad': 1042, 'genuin': 1043, 'solid': 1044, 'f': 1045, 'awesom': 1046, 'former': 1047, 'van': 1048, 'colleg': 1049, 'focu': 1050, 'count': 1051, 'tear': 1052, 'heavi': 1053, 'rais': 1054, 'wall': 1055, 'visit': 1056, 'younger': 1057, 'laughabl': 1058, 'sign': 1059, 'excus': 1060, 'fair': 1061, 'cult': 1062, 'tough': 1063, 'key': 1064, 'motion': 1065, 'desir': 1066, 'super': 1067, 'stun': 1068, 'addit': 1069, 'cloth': 1070, 'exploit': 1071, 'tortur': 1072, 'smith': 1073, 'davi': 1074, 'race': 1075, 'cross': 1076, 'author': 1077, 'jim': 1078, 'consist': 1079, 'minor': 1080, 'compel': 1081, 'focus': 1082, 'commit': 1083, 'pathet': 1084, 'chemistri': 1085, 'park': 1086, 'tradit': 1087, 'obsess': 1088, 'frank': 1089, 'grade': 1090, '60': 1091, 'asid': 1092, 'brutal': 1093, 'somewher': 1094, 'steve': 1095, 'rule': 1096, 'explor': 1097, 'depress': 1098, 'opportun': 1099, 'grant': 1100, 'u': 1101, 'honest': 1102, 'besid': 1103, 'anti': 1104, 'dub': 1105, 'trailer': 1106, 'intend': 1107, 'bar': 1108, 'longer': 1109, 'regard': 1110, 'west': 1111, 'scientist': 1112, 'judg': 1113, 'decad': 1114, 'silent': 1115, 'armi': 1116, 'creativ': 1117, 'wild': 1118, 'g': 1119, 'stewart': 1120, 'south': 1121, 'draw': 1122, 'road': 1123, 'govern': 1124, 'boss': 1125, 'ex': 1126, 'practic': 1127, 'surprisingli': 1128, 'motiv': 1129, 'festiv': 1130, 'gang': 1131, 'club': 1132, 'green': 1133, 'redeem': 1134, 'london': 1135, 'page': 1136, 'militari': 1137, 'display': 1138, 'machin': 1139, 'aliv': 1140, 'idiot': 1141, 'repeat': 1142, 'thrill': 1143, 'folk': 1144, '100': 1145, 'nobodi': 1146, 'yeah': 1147, '40': 1148, 'garbag': 1149, 'journey': 1150, 'smile': 1151, 'tire': 1152, 'ground': 1153, 'bought': 1154, 'mood': 1155, 'cost': 1156, 'sam': 1157, 'stone': 1158, 'noir': 1159, 'mouth': 1160, 'agent': 1161, 'terrif': 1162, 'utterli': 1163, 'requir': 1164, 'honestli': 1165, 'sexi': 1166, 'area': 1167, 'report': 1168, 'geniu': 1169, 'humour': 1170, 'enter': 1171, 'glad': 1172, 'investig': 1173, 'serial': 1174, 'narr': 1175, 'occasion': 1176, 'passion': 1177, 'marriag': 1178, 'climax': 1179, 'industri': 1180, 'studi': 1181, 'center': 1182, 'nowher': 1183, 'demon': 1184, 'charli': 1185, 'ship': 1186, 'loos': 1187, 'bear': 1188, 'hors': 1189, 'wow': 1190, 'hang': 1191, 'graphic': 1192, 'admir': 1193, 'giant': 1194, 'send': 1195, 'damn': 1196, 'loud': 1197, 'profession': 1198, 'subtl': 1199, 'rel': 1200, 'nake': 1201, 'blow': 1202, 'bottom': 1203, 'batman': 1204, 'insult': 1205, 'doubl': 1206, 'boyfriend': 1207, 'r': 1208, 'kelli': 1209, 'initi': 1210, 'frame': 1211, 'gem': 1212, 'opera': 1213, 'drawn': 1214, 'cinemat': 1215, 'church': 1216, 'affect': 1217, 'challeng': 1218, 'l': 1219, 'j': 1220, 'fulli': 1221, 'evid': 1222, 'nightmar': 1223, 'seek': 1224, 'conflict': 1225, 'essenti': 1226, 'arm': 1227, 'christoph': 1228, 'grace': 1229, 'henri': 1230, 'wind': 1231, 'witch': 1232, 'assum': 1233, 'narrat': 1234, 'hunt': 1235, 'push': 1236, 'wise': 1237, 'chri': 1238, 'month': 1239, 'nomin': 1240, 'repres': 1241, 'affair': 1242, 'sceneri': 1243, 'avail': 1244, 'hide': 1245, 'smart': 1246, 'thu': 1247, 'justic': 1248, 'bond': 1249, 'flashback': 1250, 'outstand': 1251, 'interview': 1252, 'satisfi': 1253, 'presenc': 1254, 'constantli': 1255, 'bed': 1256, 'central': 1257, 'sell': 1258, 'iron': 1259, 'content': 1260, 'everybodi': 1261, 'gag': 1262, 'hotel': 1263, 'slowli': 1264, 'hire': 1265, 'system': 1266, 'adam': 1267, 'hey': 1268, 'individu': 1269, 'charl': 1270, 'thrown': 1271, 'jone': 1272, 'allen': 1273, 'mediocr': 1274, 'billi': 1275, 'ray': 1276, 'lesson': 1277, 'photographi': 1278, 'cameo': 1279, 'fellow': 1280, 'pari': 1281, 'strike': 1282, 'independ': 1283, 'rise': 1284, 'absurd': 1285, 'brief': 1286, 'neg': 1287, 'impact': 1288, 'phone': 1289, 'born': 1290, 'model': 1291, 'ill': 1292, 'angl': 1293, 'spoil': 1294, 'fresh': 1295, 'likabl': 1296, 'abus': 1297, 'discuss': 1298, 'hill': 1299, 'ahead': 1300, 'sight': 1301, 'sent': 1302, 'photograph': 1303, 'shine': 1304, 'occur': 1305, 'blame': 1306, 'logic': 1307, 'bruce': 1308, 'mainli': 1309, 'forev': 1310, 'commerci': 1311, 'skip': 1312, 'surround': 1313, 'teacher': 1314, 'segment': 1315, 'held': 1316, 'blond': 1317, 'zero': 1318, 'trap': 1319, 'resembl': 1320, 'satir': 1321, 'summer': 1322, 'fool': 1323, 'ball': 1324, 'six': 1325, 'queen': 1326, 'tragedi': 1327, 'twice': 1328, 'sub': 1329, 'pack': 1330, 'reaction': 1331, 'bomb': 1332, 'will': 1333, 'protagonist': 1334, 'hospit': 1335, 'sport': 1336, 'mile': 1337, 'vote': 1338, 'mom': 1339, 'drink': 1340, 'jerri': 1341, 'trust': 1342, 'encount': 1343, 'plane': 1344, 'al': 1345, 'station': 1346, 'current': 1347, 'program': 1348, 'celebr': 1349, 'choos': 1350, 'martin': 1351, 'join': 1352, 'round': 1353, 'favourit': 1354, 'tragic': 1355, 'lord': 1356, 'field': 1357, 'vision': 1358, 'jean': 1359, 'robot': 1360, 'arthur': 1361, 'tie': 1362, 'random': 1363, 'roger': 1364, 'fortun': 1365, 'intern': 1366, 'psycholog': 1367, 'dread': 1368, 'prefer': 1369, 'nonsens': 1370, 'epic': 1371, 'improv': 1372, 'pleasur': 1373, 'highlight': 1374, 'legend': 1375, 'formula': 1376, 'tape': 1377, '11': 1378, 'dollar': 1379, 'gorgeou': 1380, 'porn': 1381, 'thin': 1382, 'fox': 1383, 'wide': 1384, 'object': 1385, 'ugli': 1386, 'influenc': 1387, 'buddi': 1388, 'nasti': 1389, 'prepar': 1390, 'ii': 1391, 'reflect': 1392, 'progress': 1393, 'supposedli': 1394, 'warm': 1395, 'youth': 1396, 'worthi': 1397, 'unusu': 1398, 'length': 1399, 'latter': 1400, 'crash': 1401, 'seven': 1402, 'childhood': 1403, 'shop': 1404, 'superior': 1405, 'remot': 1406, 'theatr': 1407, 'paid': 1408, 'funniest': 1409, 'disgust': 1410, 'pilot': 1411, 'fell': 1412, 'convers': 1413, 'trick': 1414, 'castl': 1415, 'disast': 1416, 'rob': 1417, 'establish': 1418, 'gangster': 1419, 'ident': 1420, 'mine': 1421, 'suicid': 1422, 'disappear': 1423, 'heaven': 1424, 'singer': 1425, 'decis': 1426, 'tend': 1427, 'forgotten': 1428, 'heroin': 1429, 'mask': 1430, 'brian': 1431, 'partner': 1432, 'desert': 1433, 'alan': 1434, 'recogn': 1435, 'ms': 1436, 'sky': 1437, 'stuck': 1438, 'thoroughli': 1439, 'p': 1440, 'replac': 1441, 'accur': 1442, 'market': 1443, 'commentari': 1444, 'seemingli': 1445, 'clue': 1446, 'uncl': 1447, 'eddi': 1448, 'danni': 1449, 'andi': 1450, 'devil': 1451, 'jackson': 1452, 'therefor': 1453, 'that': 1454, 'refus': 1455, 'pair': 1456, 'unit': 1457, 'accid': 1458, 'fate': 1459, 'river': 1460, 'ed': 1461, 'fault': 1462, 'tune': 1463, 'afraid': 1464, 'clean': 1465, 'stephen': 1466, 'hidden': 1467, 'russian': 1468, 'test': 1469, 'captain': 1470, 'convey': 1471, 'instanc': 1472, 'readi': 1473, 'irrit': 1474, 'quick': 1475, 'european': 1476, 'daniel': 1477, 'frustrat': 1478, 'insan': 1479, '1950': 1480, 'food': 1481, 'chines': 1482, 'rescu': 1483, 'wed': 1484, 'dirti': 1485, 'lock': 1486, 'angri': 1487, 'joy': 1488, 'price': 1489, 'steven': 1490, 'bland': 1491, 'cage': 1492, 'anymor': 1493, 'rang': 1494, 'wooden': 1495, 'n': 1496, 'news': 1497, 'rush': 1498, 'jason': 1499, 'led': 1500, 'martial': 1501, 'worri': 1502, 'board': 1503, '12': 1504, 'twenti': 1505, 'symbol': 1506, 'hunter': 1507, 'transform': 1508, 'cgi': 1509, 'invent': 1510, 'piti': 1511, 'x': 1512, 'johnni': 1513, 'onto': 1514, 'sentiment': 1515, 'explan': 1516, 'process': 1517, 'attitud': 1518, 'awar': 1519, 'owner': 1520, 'aim': 1521, 'floor': 1522, 'favor': 1523, 'energi': 1524, 'target': 1525, 'necessari': 1526, 'opposit': 1527, 'religi': 1528, 'blind': 1529, 'chick': 1530, 'insight': 1531, 'window': 1532, 'movement': 1533, 'mountain': 1534, 'possess': 1535, 'deepli': 1536, 'comparison': 1537, 'research': 1538, 'comed': 1539, 'rain': 1540, 'grand': 1541, 'whatsoev': 1542, 'shadow': 1543, 'mid': 1544, 'began': 1545, 'bank': 1546, 'parodi': 1547, 'princ': 1548, 'credibl': 1549, 'pre': 1550, 'taylor': 1551, 'weapon': 1552, 'friendship': 1553, 'dougla': 1554, 'teach': 1555, 'flesh': 1556, 'bloodi': 1557, 'terror': 1558, 'protect': 1559, 'hint': 1560, 'marvel': 1561, 'leader': 1562, 'watchabl': 1563, 'drunk': 1564, 'anybodi': 1565, 'load': 1566, 'accord': 1567, 'superman': 1568, 'freddi': 1569, 'brown': 1570, 'tim': 1571, 'appropri': 1572, 'seat': 1573, 'hitler': 1574, 'jeff': 1575, 'villag': 1576, 'unknown': 1577, 'knock': 1578, 'charg': 1579, 'keaton': 1580, 'unnecessari': 1581, 'england': 1582, 'enemi': 1583, 'media': 1584, 'empti': 1585, 'dare': 1586, 'utter': 1587, 'buck': 1588, 'strength': 1589, 'craft': 1590, 'wave': 1591, 'perspect': 1592, 'contrast': 1593, 'correct': 1594, 'kiss': 1595, 'ford': 1596, 'nativ': 1597, 'anywher': 1598, 'chill': 1599, 'knowledg': 1600, 'magnific': 1601, 'nazi': 1602, 'soap': 1603, 'speed': 1604, 'distract': 1605, 'mission': 1606, 'ice': 1607, '1980': 1608, 'breath': 1609, 'fred': 1610, 'jr': 1611, 'crowd': 1612, 'joan': 1613, 'moon': 1614, 'frighten': 1615, 'soft': 1616, '000': 1617, 'kate': 1618, 'hundr': 1619, 'nick': 1620, 'dick': 1621, 'dan': 1622, 'dozen': 1623, 'radio': 1624, 'somebodi': 1625, 'simon': 1626, 'thousand': 1627, 'andrew': 1628, 'academi': 1629, 'shakespear': 1630, 'loss': 1631, 'quot': 1632, 'vehicl': 1633, 'sum': 1634, 'account': 1635, 'root': 1636, '1970': 1637, 'behavior': 1638, 'leg': 1639, 'convent': 1640, 'gold': 1641, 'regular': 1642, 'compet': 1643, 'demand': 1644, 'worker': 1645, 'pretenti': 1646, 'notabl': 1647, 'stretch': 1648, 'lynch': 1649, 'interpret': 1650, 'explos': 1651, 'japan': 1652, 'candi': 1653, 'privat': 1654, 'constant': 1655, 'debut': 1656, 'tarzan': 1657, 'prais': 1658, 'translat': 1659, 'sea': 1660, 'revolv': 1661, 'spi': 1662, 'ass': 1663, 'failur': 1664, 'franc': 1665, 'threaten': 1666, 'sat': 1667, 'jesu': 1668, 'quiet': 1669, 'technolog': 1670, 'toy': 1671, 'punch': 1672, 'met': 1673, 'higher': 1674, 'aid': 1675, 'kevin': 1676, 'interact': 1677, 'vh': 1678, 'mike': 1679, 'abandon': 1680, 'confront': 1681, 'separ': 1682, 'bet': 1683, 'command': 1684, 'stunt': 1685, 'techniqu': 1686, 'gotten': 1687, 'recal': 1688, 'site': 1689, 'belong': 1690, 'servic': 1691, 'bug': 1692, 'cabl': 1693, 'freak': 1694, 'foot': 1695, 'jimmi': 1696, 'capabl': 1697, 'bright': 1698, 'fu': 1699, 'african': 1700, 'stock': 1701, 'clark': 1702, 'fat': 1703, 'presid': 1704, 'boat': 1705, 'succeed': 1706, 'spanish': 1707, 'gene': 1708, 'structur': 1709, 'kidnap': 1710, 'paper': 1711, 'belief': 1712, 'factor': 1713, 'whilst': 1714, 'educ': 1715, 'realism': 1716, 'witti': 1717, 'tree': 1718, 'complic': 1719, 'attend': 1720, 'realis': 1721, 'bob': 1722, 'finest': 1723, 'santa': 1724, 'assist': 1725, 'broken': 1726, 'smoke': 1727, 'depart': 1728, 'v': 1729, 'determin': 1730, 'observ': 1731, 'up': 1732, 'hat': 1733, 'domin': 1734, 'rubbish': 1735, 'lewi': 1736, 'oper': 1737, 'fame': 1738, 'routin': 1739, 'foreign': 1740, 'morgan': 1741, 'advanc': 1742, 'lone': 1743, 'safe': 1744, 'kinda': 1745, 'hook': 1746, 'numer': 1747, 'rank': 1748, 'civil': 1749, 'vs': 1750, 'shape': 1751, 'shallow': 1752, 'washington': 1753, 'rose': 1754, 'werewolf': 1755, 'gari': 1756, 'morn': 1757, 'winner': 1758, 'ordinari': 1759, 'accomplish': 1760, 'kong': 1761, 'virtual': 1762, 'whenev': 1763, 'peac': 1764, 'grab': 1765, 'h': 1766, 'luck': 1767, 'offens': 1768, 'bigger': 1769, 'contriv': 1770, 'patient': 1771, 'complain': 1772, 'welcom': 1773, 'unfunni': 1774, 'activ': 1775, 'pretend': 1776, 'dimension': 1777, 'trek': 1778, 'con': 1779, 'eric': 1780, 'wake': 1781, 'flash': 1782, 'dri': 1783, 'code': 1784, 'cain': 1785, 'lesbian': 1786, 'guard': 1787, 'corrupt': 1788, 'manipul': 1789, 'albert': 1790, 'dancer': 1791, 'statu': 1792, 'gain': 1793, 'speech': 1794, 'sourc': 1795, 'awkward': 1796, 'context': 1797, 'signific': 1798, '13': 1799, 'corni': 1800, 'psycho': 1801, 'anthoni': 1802, 'clip': 1803, 'sean': 1804, 'w': 1805, 'theatric': 1806, 'reli': 1807, 'priest': 1808, 'advic': 1809, 'religion': 1810, 'curiou': 1811, 'addict': 1812, 'flow': 1813, 'jennif': 1814, 'secur': 1815, 'specif': 1816, 'howard': 1817, 'skin': 1818, 'asian': 1819, 'core': 1820, 'organ': 1821, 'promot': 1822, 'golden': 1823, 'comfort': 1824, 'luke': 1825, 'cash': 1826, 'lucki': 1827, 'cheat': 1828, 'associ': 1829, 'lower': 1830, 'dislik': 1831, 'frankli': 1832, 'wing': 1833, 'devic': 1834, 'degre': 1835, 'frequent': 1836, 'contribut': 1837, 'spell': 1838, 'balanc': 1839, 'regret': 1840, 'print': 1841, 'lake': 1842, 'forgiv': 1843, 'sake': 1844, 'betti': 1845, 'thoma': 1846, 'mass': 1847, 'crack': 1848, 'gordon': 1849, 'unexpect': 1850, 'unfold': 1851, 'amateur': 1852, 'categori': 1853, 'invit': 1854, 'construct': 1855, 'grown': 1856, 'depend': 1857, 'anna': 1858, 'honor': 1859, 'matur': 1860, 'grew': 1861, 'intellectu': 1862, 'walter': 1863, 'condit': 1864, 'mirror': 1865, 'sudden': 1866, 'sole': 1867, 'spectacular': 1868, 'veteran': 1869, 'overli': 1870, 'gift': 1871, 'liner': 1872, 'experienc': 1873, 'grip': 1874, 'meanwhil': 1875, 'freedom': 1876, 'card': 1877, 'demonstr': 1878, 'robin': 1879, 'colour': 1880, 'oliv': 1881, 'unabl': 1882, 'circumst': 1883, 'brilliantli': 1884, 'subtitl': 1885, 'theori': 1886, 'drew': 1887, 'sheriff': 1888, 'section': 1889, 'crappi': 1890, 'cook': 1891, 'laughter': 1892, 'altern': 1893, 'parker': 1894, 'sheer': 1895, 'pile': 1896, 'path': 1897, 'matt': 1898, 'relief': 1899, 'accident': 1900, 'wander': 1901, 'treatment': 1902, 'hall': 1903, 'lawyer': 1904, 'defin': 1905, 'sinatra': 1906, 'captiv': 1907, 'dragon': 1908, 'hank': 1909, 'gratuit': 1910, 'moor': 1911, 'halloween': 1912, 'k': 1913, 'jacki': 1914, 'broadway': 1915, 'unintent': 1916, 'wound': 1917, 'kung': 1918, 'cowboy': 1919, 'barbara': 1920, 'wayn': 1921, 'spoof': 1922, 'winter': 1923, 'statement': 1924, 'canadian': 1925, 'surreal': 1926, 'fish': 1927, 'compos': 1928, 'cheer': 1929, 'treasur': 1930, 'gonna': 1931, 'fare': 1932, 'emerg': 1933, 'unrealist': 1934, 'woodi': 1935, 'victor': 1936, 'sensit': 1937, 'ran': 1938, 'neighbor': 1939, 'driven': 1940, 'sympathet': 1941, 'glass': 1942, 'menac': 1943, 'overlook': 1944, 'authent': 1945, 'topic': 1946, 'expos': 1947, 'gross': 1948, 'michel': 1949, 'handsom': 1950, 'ancient': 1951, 'chief': 1952, 'nevertheless': 1953, 'comedian': 1954, 'feet': 1955, 'stranger': 1956, 'built': 1957, 'contemporari': 1958, 'russel': 1959, 'network': 1960, 'pleasant': 1961, 'cinderella': 1962, 'endless': 1963, 'miser': 1964, 'gori': 1965, 'blockbust': 1966, 'earn': 1967, 'consider': 1968, 'underr': 1969, 'letter': 1970, 'solv': 1971, 'brook': 1972, 'switch': 1973, 'edward': 1974, 'virgin': 1975, 'bullet': 1976, 'convict': 1977, 'joseph': 1978, 'victoria': 1979, 'chosen': 1980, 'alex': 1981, 'scale': 1982, '0': 1983, 'cynic': 1984, 'scenario': 1985, 'gut': 1986, 'com': 1987, 'sword': 1988, 'curs': 1989, 'outrag': 1990, 'driver': 1991, 'substanc': 1992, 'juli': 1993, 'uk': 1994, 'monkey': 1995, 'proper': 1996, 'screenwrit': 1997, 'wrap': 1998, 'par': 1999, 'bird': 2000, 'court': 2001, 'remov': 2002, 'indic': 2003, 'advertis': 2004, 'inevit': 2005, 'naiv': 2006, 'consequ': 2007, 'loser': 2008, 'nanci': 2009, 'rental': 2010, 'grave': 2011, 'roy': 2012, 'le': 2013, 'fatal': 2014, 'bridg': 2015, 'brave': 2016, 'germani': 2017, 'invis': 2018, 'slap': 2019, 'loui': 2020, 'anger': 2021, 'provok': 2022, 'footbal': 2023, 'ador': 2024, 'anderson': 2025, 'chan': 2026, 'alcohol': 2027, 'willi': 2028, 'ryan': 2029, 'stumbl': 2030, 'professor': 2031, 'bat': 2032, 'sharp': 2033, '1930': 2034, 'assassin': 2035, 'australian': 2036, 'patrick': 2037, 'deni': 2038, 'heck': 2039, 'saturday': 2040, 'strongli': 2041, 'lousi': 2042, 'amateurish': 2043, 'eight': 2044, 'trilog': 2045, 'liber': 2046, 'ape': 2047, 'cell': 2048, 'refresh': 2049, 'sin': 2050, 'vagu': 2051, 'resid': 2052, 'justifi': 2053, 'san': 2054, 'creator': 2055, 'indi': 2056, 'reput': 2057, 'mini': 2058, 'sympathi': 2059, 'terrifi': 2060, 'defeat': 2061, 'task': 2062, 'prevent': 2063, 'tabl': 2064, 'tediou': 2065, 'endur': 2066, 'expert': 2067, 'offend': 2068, 'imit': 2069, 'rival': 2070, 'basebal': 2071, 'trial': 2072, 'employ': 2073, 'che': 2074, 'dig': 2075, 'beach': 2076, 'pitch': 2077, 'fairi': 2078, 'complaint': 2079, 'weekend': 2080, 'max': 2081, 'europ': 2082, 'format': 2083, 'purchas': 2084, 'murphi': 2085, 'risk': 2086, 'nois': 2087, 'glimps': 2088, 'bite': 2089, 'harsh': 2090, 'powel': 2091, 'reminisc': 2092, 'tini': 2093, 'titan': 2094, 'hype': 2095, 'asleep': 2096, 'strip': 2097, 'north': 2098, 'till': 2099, 'fals': 2100, '14': 2101, 'prime': 2102, 'revel': 2103, 'destruct': 2104, 'texa': 2105, 'descript': 2106, 'africa': 2107, 'excess': 2108, 'sitcom': 2109, 'inner': 2110, 'spin': 2111, 'surfac': 2112, 'semi': 2113, 'uninterest': 2114, 'arrest': 2115, 'twin': 2116, 'maintain': 2117, 'argu': 2118, 'makeup': 2119, 'controversi': 2120, 'hitchcock': 2121, 'massiv': 2122, 'dinosaur': 2123, 'expens': 2124, 'melodrama': 2125, 'ideal': 2126, 'ludicr': 2127, 'reject': 2128, 'insist': 2129, 'kim': 2130, 'stare': 2131, 'host': 2132, 'erot': 2133, 'press': 2134, 'supernatur': 2135, 'ga': 2136, 'ala': 2137, 'atroci': 2138, 'forest': 2139, 'nail': 2140, 'subplot': 2141, 'columbo': 2142, 'dude': 2143, 'notch': 2144, 'identifi': 2145, 'presum': 2146, 'cant': 2147, 'crude': 2148, 'character': 2149, 'guest': 2150, 'forgett': 2151, 'closer': 2152, 'method': 2153, 'plagu': 2154, 'border': 2155, 'landscap': 2156, 'ear': 2157, 'beast': 2158, 'princess': 2159, 'lion': 2160, 'foster': 2161, 'jungl': 2162, 'pacino': 2163, 'birth': 2164, 'previous': 2165, 'urban': 2166, 'aunt': 2167, 'accus': 2168, 'storytel': 2169, 'bound': 2170, 'damag': 2171, 'chose': 2172, 'propaganda': 2173, 'nude': 2174, 'thirti': 2175, 'emma': 2176, 'jess': 2177, 'guid': 2178, 'doll': 2179, 'pet': 2180, 'mate': 2181, 'mainstream': 2182, '25': 2183, 'whoever': 2184, 'warrior': 2185, 'poster': 2186, 'latest': 2187, 'merit': 2188, 'deadli': 2189, 'size': 2190, 'upset': 2191, 'gritti': 2192, 'exact': 2193, 'friday': 2194, 'cooper': 2195, 'settl': 2196, 'contact': 2197, '1990': 2198, 'contest': 2199, 'rough': 2200, 'popul': 2201, 'citizen': 2202, 'warner': 2203, 'sun': 2204, 'buff': 2205, 'blend': 2206, 'corps': 2207, 'wilson': 2208, 'ton': 2209, 'rat': 2210, 'widow': 2211, 'select': 2212, 'alic': 2213, 'overcom': 2214, 'mgm': 2215, 'metal': 2216, 'environ': 2217, 'pitt': 2218, 'bu': 2219, 'lift': 2220, 'link': 2221, 'particip': 2222, 'guilti': 2223, 'revolut': 2224, 'ted': 2225, 'moron': 2226, 'accompani': 2227, 'corpor': 2228, 'exagger': 2229, 'johnson': 2230, 'prostitut': 2231, '1960': 2232, 'afternoon': 2233, 'corner': 2234, 'matrix': 2235, 'multipl': 2236, 'leagu': 2237, 'sincer': 2238, 'doom': 2239, 'instal': 2240, 'friendli': 2241, 'holm': 2242, 'clair': 2243, 'hood': 2244, 'junk': 2245, 'campi': 2246, 'examin': 2247, 'grim': 2248, 'aka': 2249, 'hip': 2250, 'defend': 2251, 'lugosi': 2252, 'string': 2253, 'sunday': 2254, 'advis': 2255, 'irish': 2256, 'blah': 2257, 'icon': 2258, 'shake': 2259, 'tight': 2260, 'varieti': 2261, 'shut': 2262, 'confid': 2263, 'pro': 2264, 'rachel': 2265, 'mexican': 2266, 'goal': 2267, 'jaw': 2268, 'denni': 2269, 'directli': 2270, 'sullivan': 2271, 'attach': 2272, 'medic': 2273, 'vietnam': 2274, 'legendari': 2275, 'truck': 2276, 'sarah': 2277, 'breast': 2278, 'courag': 2279, 'duke': 2280, 'sentenc': 2281, 'prior': 2282, 'terrorist': 2283, 'bourn': 2284, 'dean': 2285, 'donald': 2286, 'behav': 2287, 'yell': 2288, 'entri': 2289, 'nose': 2290, 'split': 2291, 'un': 2292, 'hong': 2293, 'proceed': 2294, 'everywher': 2295, 'crush': 2296, 'forth': 2297, 'unconvinc': 2298, 'concentr': 2299, 'gather': 2300, 'lifetim': 2301, 'buri': 2302, 'confess': 2303, 'stolen': 2304, 'borrow': 2305, 'swim': 2306, 'jerk': 2307, 'julia': 2308, 'turkey': 2309, 'lip': 2310, 'deliveri': 2311, 'california': 2312, 'spite': 2313, 'pan': 2314, 'downright': 2315, 'proud': 2316, 'freeman': 2317, 'reward': 2318, 'flight': 2319, 'offici': 2320, 'hoffman': 2321, 'china': 2322, 'quest': 2323, 'notori': 2324, 'sir': 2325, 'sink': 2326, 'fade': 2327, 'fabul': 2328, 'jon': 2329, 'inept': 2330, 'jail': 2331, 'betray': 2332, 'lazi': 2333, 'worthwhil': 2334, 'encourag': 2335, 'bag': 2336, 'shower': 2337, 'teeth': 2338, 'bell': 2339, 'retard': 2340, 'imageri': 2341, 'storm': 2342, 'survivor': 2343, 'branagh': 2344, 'lisa': 2345, 'cousin': 2346, 'relev': 2347, 'susan': 2348, 'facial': 2349, 'tremend': 2350, 'mexico': 2351, 'stab': 2352, 'finger': 2353, 'alright': 2354, 'trade': 2355, 'bride': 2356, 'hugh': 2357, 'shark': 2358, 'summari': 2359, 'quirki': 2360, 'toler': 2361, 'blown': 2362, 'ha': 2363, 'hyster': 2364, 'von': 2365, 'pose': 2366, 'bitter': 2367, 'ron': 2368, 'bone': 2369, 'address': 2370, 'christ': 2371, 'afterward': 2372, 'cruel': 2373, 'ned': 2374, 'scheme': 2375, 'larri': 2376, 'pursu': 2377, 'screw': 2378, 'snake': 2379, 'thumb': 2380, 'beg': 2381, 'feed': 2382, 'tour': 2383, 'traci': 2384, 'swear': 2385, 'distinct': 2386, 'occas': 2387, 'stomach': 2388, 'chair': 2389, 'photo': 2390, 'obscur': 2391, 'mechan': 2392, 'raw': 2393, 'heavili': 2394, 'render': 2395, 'holiday': 2396, 'cabin': 2397, 'resist': 2398, 'necessarili': 2399, 'hardi': 2400, 'gruesom': 2401, 'chain': 2402, 'southern': 2403, 'sidney': 2404, 'argument': 2405, 'india': 2406, 'racist': 2407, 'philip': 2408, 'understood': 2409, 'indulg': 2410, 'satan': 2411, 'forgot': 2412, 'pregnant': 2413, 'belov': 2414, 'tongu': 2415, 'integr': 2416, 'lay': 2417, 'stalk': 2418, 'outfit': 2419, 'fourth': 2420, 'obnoxi': 2421, 'midnight': 2422, 'slapstick': 2423, 'inhabit': 2424, 'restor': 2425, 'magazin': 2426, 'deeper': 2427, 'carol': 2428, 'ticket': 2429, 'garden': 2430, '17': 2431, 'shoe': 2432, 'lincoln': 2433, 'devot': 2434, 'incid': 2435, 'brad': 2436, 'elizabeth': 2437, 'benefit': 2438, 'disbelief': 2439, 'underground': 2440, 'divorc': 2441, 'sandler': 2442, 'guarante': 2443, 'maria': 2444, 'anticip': 2445, 'lili': 2446, 'capit': 2447, 'bbc': 2448, 'cring': 2449, 'explod': 2450, 'slave': 2451, 'mildli': 2452, 'princip': 2453, 'creation': 2454, 'amazingli': 2455, 'greater': 2456, 'funnier': 2457, 'introduct': 2458, 'halfway': 2459, 'extraordinari': 2460, 'lesli': 2461, 'advantag': 2462, 'text': 2463, 'overwhelm': 2464, 'tap': 2465, 'transfer': 2466, 'wreck': 2467, 'extent': 2468, 'enhanc': 2469, 'punish': 2470, 'preview': 2471, 'plant': 2472, 'deliber': 2473, 'lo': 2474, 'horrif': 2475, 'error': 2476, 'jessica': 2477, 'east': 2478, 'lane': 2479, 'dynam': 2480, 'ensu': 2481, '2000': 2482, 'vacat': 2483, 'vincent': 2484, 'appli': 2485, 'miscast': 2486, 'homosexu': 2487, 'miller': 2488, 'sophist': 2489, 'basi': 2490, 'mansion': 2491, 'elev': 2492, 'extend': 2493, 'reed': 2494, 'uncomfort': 2495, 'bollywood': 2496, 'steel': 2497, 'measur': 2498, 'sleazi': 2499, 'via': 2500, 'spoken': 2501, 'mous': 2502, 'conceiv': 2503, 'alter': 2504, 'cathol': 2505, 'breathtak': 2506, 'beer': 2507, 'assign': 2508, 'blair': 2509, 'savag': 2510, 'dentist': 2511, 'fix': 2512, 'goofi': 2513, 'stanley': 2514, 'hippi': 2515, 'overact': 2516, 'melt': 2517, 'daili': 2518, 'nowaday': 2519, 'succe': 2520, 'burt': 2521, 'sacrific': 2522, 'everyday': 2523, 'inspector': 2524, 'carpent': 2525, 'oppos': 2526, 'properli': 2527, 'subsequ': 2528, 'neck': 2529, 'massacr': 2530, 'block': 2531, 'circl': 2532, 'laura': 2533, 'fay': 2534, 'concert': 2535, 'mob': 2536, 'portrait': 2537, 'seagal': 2538, 'fallen': 2539, 'pool': 2540, 'christi': 2541, 'access': 2542, 'lesser': 2543, 'grey': 2544, 'sinist': 2545, 'isol': 2546, 'usa': 2547, 'relax': 2548, 'react': 2549, 'jewish': 2550, 'jake': 2551, 'chees': 2552, 'competit': 2553, 'nine': 2554, 'suitabl': 2555, 'stink': 2556, 'ironi': 2557, '2006': 2558, 'appal': 2559, 'lyric': 2560, 'nonetheless': 2561, 'immens': 2562, 'chop': 2563, 'spiritu': 2564, 'creep': 2565, 'shirt': 2566, 'user': 2567, 'reduc': 2568, 'navi': 2569, 'nut': 2570, 'adopt': 2571, 'needless': 2572, 'sold': 2573, 'luci': 2574, 'rage': 2575, 'spring': 2576, 'retir': 2577, 'showcas': 2578, 'franchis': 2579, 'per': 2580, 'zone': 2581, 'jay': 2582, 'bath': 2583, 'uninspir': 2584, 'digit': 2585, 'asham': 2586, 'nurs': 2587, 'bulli': 2588, 'stanwyck': 2589, '1940': 2590, 'illustr': 2591, 'upper': 2592, 'sutherland': 2593, 'oddli': 2594, 'laid': 2595, 'broadcast': 2596, 'amongst': 2597, '2001': 2598, 'throat': 2599, 'aspir': 2600, 'brando': 2601, 'stylish': 2602, 'baker': 2603, 'fulfil': 2604, 'disguis': 2605, 'nobl': 2606, 'em': 2607, 'impli': 2608, 'endear': 2609, 'pound': 2610, 'thief': 2611, 'wanna': 2612, '18': 2613, 'wwii': 2614, 'neighborhood': 2615, 'pride': 2616, 'albeit': 2617, 'coher': 2618, 'bett': 2619, 'dawn': 2620, '16': 2621, 'distribut': 2622, 'diseas': 2623, 'dinner': 2624, 'shift': 2625, 'rochest': 2626, 'shoulder': 2627, 'prop': 2628, 'tens': 2629, 'bo': 2630, 'cinematograph': 2631, 'rebel': 2632, 'shout': 2633, 'poignant': 2634, 'wash': 2635, 'silenc': 2636, 'forti': 2637, 'snow': 2638, 'function': 2639, 'contract': 2640, 'surf': 2641, 'matthau': 2642, 'knife': 2643, 'horrend': 2644, 'duti': 2645, 'cancel': 2646, 'mindless': 2647, 'internet': 2648, 'reunion': 2649, 'cannib': 2650, 'proof': 2651, 'instinct': 2652, 'height': 2653, 'eeri': 2654, 'chuck': 2655, 'derek': 2656, 'henc': 2657, 'heat': 2658, 'silver': 2659, 'widmark': 2660, 'elvira': 2661, 'etern': 2662, 'innov': 2663, 'mill': 2664, 'neat': 2665, 'repetit': 2666, 'incoher': 2667, 'spielberg': 2668, 'torn': 2669, 'absorb': 2670, 'musician': 2671, 'alik': 2672, 'premier': 2673, 'pie': 2674, 'greatli': 2675, 'glori': 2676, 'elvi': 2677, 'announc': 2678, 'homag': 2679, 'precis': 2680, 'wealthi': 2681, 'itali': 2682, 'racism': 2683, 'burton': 2684, 'redempt': 2685, 'horrifi': 2686, 'nelson': 2687, 'crisi': 2688, 'bang': 2689, 'fbi': 2690, 'blank': 2691, 'infam': 2692, 'trite': 2693, 'britain': 2694, 'lovabl': 2695, 'diamond': 2696, 'pat': 2697, 'helen': 2698, 'parallel': 2699, 'flop': 2700, 'hammer': 2701, 'ensembl': 2702, 'chaplin': 2703, 'resolut': 2704, 'dedic': 2705, 'happili': 2706, 'wilder': 2707, 'streisand': 2708, 'disagre': 2709, 'oil': 2710, 'st': 2711, 'factori': 2712, 'plastic': 2713, 'mar': 2714, 'triumph': 2715, 'cube': 2716, 'broke': 2717, 'carter': 2718, 'conclud': 2719, 'own': 2720, 'rocket': 2721, 'chuckl': 2722, 'row': 2723, 'vega': 2724, 'fighter': 2725, 'bush': 2726, 'march': 2727, 'weight': 2728, 'climb': 2729, 'lust': 2730, 'boot': 2731, 'luca': 2732, 'unforgett': 2733, 'kurt': 2734, 'thug': 2735, 'dump': 2736, 'wherea': 2737, 'sensibl': 2738, 'spare': 2739, 'dane': 2740, 'mst3k': 2741, 'meaning': 2742, 'enorm': 2743, 'dear': 2744, 'threat': 2745, 'difficulti': 2746, 'butt': 2747, 'bobbi': 2748, 'caricatur': 2749, 'stress': 2750, 'fifti': 2751, 'engin': 2752, 'rap': 2753, 'karloff': 2754, 'adequ': 2755, 'arnold': 2756, 'brand': 2757, 'ego': 2758, 'ralph': 2759, 'secretari': 2760, 'elabor': 2761, 'journalist': 2762, 'arrog': 2763, 'flynn': 2764, 'polish': 2765, 'swing': 2766, 'fest': 2767, 'barri': 2768, 'homeless': 2769, 'hamlet': 2770, 'grate': 2771, 'induc': 2772, 'resort': 2773, 'simpson': 2774, 'float': 2775, 'spike': 2776, 'conspiraci': 2777, 'unbear': 2778, 'tool': 2779, 'fanci': 2780, 'puppet': 2781, 'arrang': 2782, 'tribut': 2783, 'boll': 2784, 'exercis': 2785, 'pig': 2786, 'choreograph': 2787, 'cruis': 2788, 'guilt': 2789, 'basement': 2790, 'muppet': 2791, 'phillip': 2792, 'layer': 2793, 'ward': 2794, '24': 2795, 'tower': 2796, 'medium': 2797, 'editor': 2798, 'ham': 2799, 'toilet': 2800, 'slip': 2801, 'stan': 2802, 'puzzl': 2803, 'fianc': 2804, 'korean': 2805, 'file': 2806, 'babe': 2807, 'item': 2808, 'document': 2809, 'scarecrow': 2810, 'catherin': 2811, 'minim': 2812, 'assur': 2813, 'inexplic': 2814, 'spark': 2815, 'superfici': 2816, 'persona': 2817, 'territori': 2818, 'librari': 2819, 'glover': 2820, 'larger': 2821, 'denzel': 2822, 'portion': 2823, 'orient': 2824, 'doc': 2825, 'philosoph': 2826, 'slaughter': 2827, 'transit': 2828, 'owe': 2829, 'walken': 2830, 'financi': 2831, 'shi': 2832, 'curti': 2833, 'ban': 2834, 'jeremi': 2835, 'pg': 2836, 'boredom': 2837, 'wolf': 2838, 'sneak': 2839, 'dorothi': 2840, 'jet': 2841, 'metaphor': 2842, 'eleph': 2843, 'backdrop': 2844, 'multi': 2845, 'hudson': 2846, 'whale': 2847, 'profound': 2848, 'ambigu': 2849, 'cusack': 2850, 'ultra': 2851, 'union': 2852, 'elsewher': 2853, 'birthday': 2854, 'implaus': 2855, 'stiff': 2856, 'viru': 2857, '2005': 2858, 'hack': 2859, 'notion': 2860, 'rave': 2861, 'gadget': 2862, 'squar': 2863, 'eastwood': 2864, 'poison': 2865, 'deriv': 2866, 'superhero': 2867, 'newspap': 2868, 'canada': 2869, '1st': 2870, 'slight': 2871, 'bibl': 2872, 'reader': 2873, 'pad': 2874, 'distanc': 2875, 'disc': 2876, 'urg': 2877, 'hawk': 2878, 'eva': 2879, 'lloyd': 2880, 'afford': 2881, 'drown': 2882, 'charisma': 2883, 'heston': 2884, 'spread': 2885, 'skit': 2886, 'restaur': 2887, 'cure': 2888, 'essenc': 2889, 'sadist': 2890, 'huh': 2891, 'montag': 2892, 'button': 2893, 'health': 2894, 'godfath': 2895, 'maniac': 2896, 'companion': 2897, 'estat': 2898, 'lab': 2899, 'gradual': 2900, 'fetch': 2901, 'muslim': 2902, 'invest': 2903, 'peak': 2904, 'dealt': 2905, 'scoobi': 2906, 'servant': 2907, 'miik': 2908, 'subtleti': 2909, 'gothic': 2910, 'kane': 2911, 'countless': 2912, 'tea': 2913, 'cup': 2914, 'alli': 2915, 'ritter': 2916, 'elect': 2917, 'briefli': 2918, 'charismat': 2919, 'heroic': 2920, 'salli': 2921, 'electr': 2922, 'iii': 2923, 'grandmoth': 2924, 'reel': 2925, 'cole': 2926, 'resourc': 2927, 'admittedli': 2928, 'nuanc': 2929, 'wannab': 2930, 'ingredi': 2931, 'neil': 2932, 'tender': 2933, 'toss': 2934, 'bud': 2935, 'stronger': 2936, 'mafia': 2937, 'poverti': 2938, 'shall': 2939, 'kubrick': 2940, 'mild': 2941, 'gate': 2942, 'dawson': 2943, 'punk': 2944, 'pauli': 2945, 'carrey': 2946, 'label': 2947, 'stood': 2948, 'pit': 2949, 'reev': 2950, 'fond': 2951, 'tag': 2952, 'smooth': 2953, 'ian': 2954, 'assault': 2955, 'smash': 2956, 'updat': 2957, 'easier': 2958, 'cox': 2959, 'cardboard': 2960, 'outcom': 2961, 'terri': 2962, 'burst': 2963, 'astair': 2964, 'bakshi': 2965, 'useless': 2966, 'resolv': 2967, 'fist': 2968, 'exchang': 2969, 'divers': 2970, 'vari': 2971, 'samurai': 2972, '2002': 2973, 'coincid': 2974, 'melodramat': 2975, 'qualifi': 2976, 'rex': 2977, 'vulner': 2978, 'increasingli': 2979, 'sketch': 2980, 'reynold': 2981, 'brillianc': 2982, 'be': 2983, 'suspend': 2984, 'tame': 2985, 'conveni': 2986, 'insert': 2987, 'templ': 2988, 'luckili': 2989, 'blast': 2990, 'scratch': 2991, 'matthew': 2992, 'walker': 2993, 'hamilton': 2994, 'coach': 2995, 'ambiti': 2996, 'jami': 2997, 'strictli': 2998, 'nuclear': 2999, 'meat': 3000, 'pin': 3001, 'fisher': 3002, 'gotta': 3003, 'soprano': 3004, 'farm': 3005, 'seventi': 3006, 'eccentr': 3007, 'butcher': 3008, 'discoveri': 3009, 'timeless': 3010, 'struck': 3011, 'cave': 3012, 'spooki': 3013, 'monk': 3014, 'instantli': 3015, 'worthless': 3016, 'kudo': 3017, 'clock': 3018, 'closet': 3019, 'joey': 3020, 'empir': 3021, 'recreat': 3022, 'grasp': 3023, 'ninja': 3024, 'revers': 3025, 'brosnan': 3026, 'convolut': 3027, 'mitchel': 3028, 'gray': 3029, 'fifteen': 3030, 'importantli': 3031, 'miracl': 3032, 'clown': 3033, 'selfish': 3034, 'cliff': 3035, 'communist': 3036, 'seller': 3037, 'sidekick': 3038, 'inconsist': 3039, 'wipe': 3040, 'pal': 3041, 'evok': 3042, 'declar': 3043, 'bleak': 3044, 'sloppi': 3045, 'eighti': 3046, 'norman': 3047, 'partli': 3048, 'piano': 3049, 'websit': 3050, 'aforement': 3051, 'enthusiast': 3052, 'seed': 3053, 'chew': 3054, 'debat': 3055, 'destin': 3056, 'ho': 3057, 'lifestyl': 3058, 'australia': 3059, '45': 3060, 'flawless': 3061, 'farc': 3062, 'psychiatrist': 3063, 'cheek': 3064, 'superbl': 3065, 'stoog': 3066, 'drivel': 3067, 'abc': 3068, 'incompet': 3069, 'emili': 3070, 'dire': 3071, 'anni': 3072, 'soviet': 3073, 'dash': 3074, 'wick': 3075, 'akshay': 3076, 'splatter': 3077, 'wrestl': 3078, 'directori': 3079, 'slice': 3080, 'bash': 3081, 'pressur': 3082, 'regardless': 3083, 'kitchen': 3084, 'beaten': 3085, 'seduc': 3086, 'distant': 3087, 'suppli': 3088, 'increas': 3089, 'flower': 3090, 'chapter': 3091, 'recov': 3092, 'ken': 3093, 'cia': 3094, 'glow': 3095, 'mann': 3096, 'pleasantli': 3097, 'lou': 3098, 'duo': 3099, 'prize': 3100, 'boil': 3101, 'cameron': 3102, 'helicopt': 3103, 'curios': 3104, 'judi': 3105, 'dave': 3106, 'cagney': 3107, 'jar': 3108, 'blob': 3109, 'artifici': 3110, 'doo': 3111, 'perri': 3112, 'web': 3113, 'turner': 3114, 'psychot': 3115, 'drunken': 3116, 'glenn': 3117, 'laurel': 3118, 'hop': 3119, 'splendid': 3120, 'combat': 3121, 'eleg': 3122, 'craven': 3123, 'goldberg': 3124, 'favour': 3125, 'craig': 3126, 'ellen': 3127, 'francisco': 3128, 'ranger': 3129, 'panic': 3130, 'slightest': 3131, 'flip': 3132, '20th': 3133, 'gentl': 3134, 'min': 3135, 'ruth': 3136, 'rid': 3137, 'gandhi': 3138, 'alexand': 3139, 'hatr': 3140, 'philosophi': 3141, 'graduat': 3142, 'wizard': 3143, 'fx': 3144, 'plausibl': 3145, 'modesti': 3146, 'greek': 3147, 'shortli': 3148, 'falk': 3149, 'ocean': 3150, 'dracula': 3151, 'unpleas': 3152, 'lend': 3153, 'felix': 3154, 'legal': 3155, 'knight': 3156, 'we': 3157, 'holi': 3158, 'tall': 3159, 'preciou': 3160, 'fund': 3161, 'harm': 3162, 'jealou': 3163, 'manhattan': 3164, 'futurist': 3165, 'ami': 3166, 'giallo': 3167, 'reviv': 3168, 'digniti': 3169, 'childish': 3170, 'explicit': 3171, 'overdon': 3172, 'bless': 3173, 'tank': 3174, 'mock': 3175, 'thread': 3176, 'scientif': 3177, 'nod': 3178, 'forbidden': 3179, '2004': 3180, 'eve': 3181, 'elderli': 3182, 'nerv': 3183, 'thick': 3184, 'fever': 3185, 'unwatch': 3186, 'torment': 3187, 'repeatedli': 3188, 'margaret': 3189, 'mel': 3190, 'pirat': 3191, 'yesterday': 3192, '99': 3193, 'awaken': 3194, 'awe': 3195, 'verhoeven': 3196, 'broad': 3197, 'ah': 3198, 'lean': 3199, 'automat': 3200, 'royal': 3201, 'eas': 3202, 'absenc': 3203, 'griffith': 3204, 'roman': 3205, 'acclaim': 3206, 'launch': 3207, 'publish': 3208, 'ambit': 3209, 'romero': 3210, 'timothi': 3211, 'rivet': 3212, 'bin': 3213, 'politician': 3214, 'custom': 3215, 'stiller': 3216, 'uniform': 3217, 'kay': 3218, 'tomato': 3219, 'phrase': 3220, 'warren': 3221, 'transport': 3222, 'bathroom': 3223, 'gabriel': 3224, 'crook': 3225, 'sunshin': 3226, 'wallac': 3227, 'pulp': 3228, 'homicid': 3229, 'antic': 3230, 'darker': 3231, 'stinker': 3232, 'termin': 3233, 'pierc': 3234, 'foul': 3235, 'purpl': 3236, 'kenneth': 3237, 'contrari': 3238, 'awak': 3239, 'rambo': 3240, 'pray': 3241, 'choreographi': 3242, 'ought': 3243, 'donna': 3244, 'brazil': 3245, 'q': 3246, 'juvenil': 3247, '2003': 3248, 'viciou': 3249, 'hollow': 3250, 'packag': 3251, 'coloni': 3252, 'eyr': 3253, 'prom': 3254, 'marin': 3255, 'revolutionari': 3256, 'evolv': 3257, 'album': 3258, 'sixti': 3259, 'saint': 3260, 'karen': 3261, 'li': 3262, 'horrid': 3263, 'blade': 3264, 'beatti': 3265, 'stole': 3266, 'overr': 3267, 'candid': 3268, 'nerd': 3269, 'twelv': 3270, 'conserv': 3271, 'boast': 3272, 'kapoor': 3273, 'dose': 3274, 'ramon': 3275, 'mummi': 3276, 'defi': 3277, 'mildr': 3278, 'option': 3279, 'ireland': 3280, 'detract': 3281, 'global': 3282, 'fulci': 3283, 'protest': 3284, 'confirm': 3285, 'trio': 3286, 'altman': 3287, 'funer': 3288, 'astonish': 3289, 'jazz': 3290, 'flame': 3291, 'collabor': 3292, 'natali': 3293, 'kirk': 3294, 'yellow': 3295, 'racial': 3296, 'tommi': 3297, 'delici': 3298, 'destini': 3299, 'blake': 3300, 'bottl': 3301, 'mystic': 3302, 'spit': 3303, 'nicholson': 3304, 'shade': 3305, 'bull': 3306, 'whip': 3307, 'leap': 3308, 'enterpris': 3309, 'audio': 3310, 'harder': 3311, 'bedroom': 3312, 'meaningless': 3313, 'reunit': 3314, 'enchant': 3315, 'merci': 3316, 'adolesc': 3317, 'fonda': 3318, 'todd': 3319, 'neo': 3320, 'vivid': 3321, 'pseudo': 3322, 'inherit': 3323, 'staff': 3324, 'popcorn': 3325, 'threw': 3326, 'altogeth': 3327, 'visibl': 3328, 'swedish': 3329, 'bust': 3330, 'exhibit': 3331, 'await': 3332, 'moodi': 3333, 'ruthless': 3334, 'atlanti': 3335, 'leonard': 3336, 'tip': 3337, 'madonna': 3338, 'fanat': 3339, 'voight': 3340, 'befriend': 3341, 'reserv': 3342, 'jew': 3343, 'suspici': 3344, 'uneven': 3345, 'respond': 3346, 'decor': 3347, 'synopsi': 3348, 'lemmon': 3349, 'roommat': 3350, 'crocodil': 3351, 'edi': 3352, 'lawrenc': 3353, 'kennedi': 3354, 'wire': 3355, 'bold': 3356, 'clint': 3357, 'centr': 3358, 'clumsi': 3359, 'palma': 3360, 'rural': 3361, 'bradi': 3362, '2007': 3363, 'abysm': 3364, 'ventur': 3365, 'voyag': 3366, 'carl': 3367, 'holli': 3368, 'audit': 3369, 'bargain': 3370, 'garner': 3371, 'unsettl': 3372, 'chao': 3373, 'incident': 3374, 'dimens': 3375, 'imperson': 3376, 'versu': 3377, 'cuba': 3378, 'trail': 3379, 'tiger': 3380, 'cd': 3381, 'humili': 3382, '2nd': 3383, 'hart': 3384, 'mall': 3385, 'neglect': 3386, 'daddi': 3387, 'wealth': 3388, 'ant': 3389, 'elimin': 3390, 'lit': 3391, 'poetic': 3392, 'nearbi': 3393, 'characterist': 3394, 'echo': 3395, 'acknowledg': 3396, 'troop': 3397, 'timon': 3398, 'cari': 3399, 'immigr': 3400, 'repuls': 3401, 'paus': 3402, 'marshal': 3403, 'solo': 3404, 'infect': 3405, 'mickey': 3406, 'celluloid': 3407, 'pun': 3408, 'prejudic': 3409, 'mistaken': 3410, 'saga': 3411, 'collaps': 3412, 'jeffrey': 3413, 'domest': 3414, 'homer': 3415, 'ginger': 3416, 'apolog': 3417, 'coat': 3418, 'gear': 3419, 'sore': 3420, 'promin': 3421, 'leon': 3422, 'undoubtedli': 3423, 'milk': 3424, 'inappropri': 3425, 'coffe': 3426, '1996': 3427, 'pant': 3428, 'assembl': 3429, 'tribe': 3430, 'harvey': 3431, 'chest': 3432, 'equip': 3433, 'olivi': 3434, 'cake': 3435, 'interrupt': 3436, 'inan': 3437, 'hbo': 3438, 'colonel': 3439, 'retain': 3440, 'solut': 3441, 'aveng': 3442, 'pot': 3443, 'florida': 3444, 'maggi': 3445, 'exot': 3446, 'colleagu': 3447, 'furthermor': 3448, 'devast': 3449, 'institut': 3450, 'pen': 3451, 'trace': 3452, 'consum': 3453, 'instant': 3454, 'highest': 3455, 'humbl': 3456, 'airplan': 3457, 'vulgar': 3458, 'primari': 3459, 'embrac': 3460, 'brooklyn': 3461, 'polanski': 3462, 'jenni': 3463, 'sale': 3464, '3rd': 3465, 'cope': 3466, 'outer': 3467, 'illog': 3468, 'dian': 3469, '1999': 3470, 'linda': 3471, 'rick': 3472, 'strain': 3473, 'bowl': 3474, 'gender': 3475, 'smaller': 3476, 'descend': 3477, 'poke': 3478, 'seduct': 3479, 'principl': 3480, 'dutch': 3481, 'godzilla': 3482, 'disabl': 3483, 'wive': 3484, 'ya': 3485, 'vast': 3486, 'bubbl': 3487, 'scope': 3488, 'beneath': 3489, 'mixtur': 3490, 'glamor': 3491, 'secondli': 3492, 'primarili': 3493, 'predecessor': 3494, 'inferior': 3495, 'lol': 3496, 'yard': 3497, 'dud': 3498, 'devoid': 3499, 'cue': 3500, 'gloriou': 3501, 'rabbit': 3502, 'dive': 3503, 'blatant': 3504, 'hal': 3505, 'gundam': 3506, 'et': 3507, 'hideou': 3508, 'alert': 3509, 'garbo': 3510, 'shirley': 3511, 'casual': 3512, 'senseless': 3513, 'z': 3514, 'invas': 3515, 'disjoint': 3516, 'breed': 3517, 'pearl': 3518, 'museum': 3519, 'talki': 3520, 'trademark': 3521, 'countrysid': 3522, 'april': 3523, 'streep': 3524, 'grinch': 3525, 'arab': 3526, 'alfr': 3527, 'shelf': 3528, 'simplist': 3529, 'aggress': 3530, 'domino': 3531, 'myer': 3532, 'mail': 3533, 'stellar': 3534, 'hardcor': 3535, 'disgrac': 3536, 'applaud': 3537, 'vanish': 3538, 'slide': 3539, 'robinson': 3540, 'rendit': 3541, 'hopeless': 3542, 'stir': 3543, 'uwe': 3544, 'experiment': 3545, 'obtain': 3546, 'maci': 3547, 'defens': 3548, 'illeg': 3549, 'boom': 3550, 'loyal': 3551, 'acid': 3552, 'robberi': 3553, 'oz': 3554, 'unhappi': 3555, 'sh': 3556, 'khan': 3557, 'stack': 3558, 'mayor': 3559, 'dismiss': 3560, 'amanda': 3561, 'span': 3562, 'wont': 3563, 'spider': 3564, 'declin': 3565, 'tenant': 3566, 'scroog': 3567, 'incomprehens': 3568, 'emphasi': 3569, 'berlin': 3570, 'rifl': 3571, 'soccer': 3572, 'fri': 3573, 'recruit': 3574, 'tempt': 3575, 'craze': 3576, 'diana': 3577, 'topless': 3578, 'grandfath': 3579, 'counter': 3580, 'blew': 3581, 'psychic': 3582, 'hartley': 3583, 'dicken': 3584, 'intim': 3585, 'justin': 3586, 'sympath': 3587, 'woo': 3588, 'shaw': 3589, 'trashi': 3590, 'wet': 3591, 'bitch': 3592, 'shed': 3593, 'niro': 3594, 'goer': 3595, 'parad': 3596, 'faster': 3597, 'resurrect': 3598, 'porno': 3599, 'ethnic': 3600, 'ration': 3601, 'revolt': 3602, 'riot': 3603, 'sibl': 3604, 'lumet': 3605, 'dealer': 3606, 'weakest': 3607, 'lena': 3608, 'partial': 3609, 'gap': 3610, 'region': 3611, 'nephew': 3612, 'honesti': 3613, 'immort': 3614, 'mario': 3615, 'biographi': 3616, '00': 3617, 'choru': 3618, 'unreal': 3619, 'jonathan': 3620, 'farmer': 3621, 'rider': 3622, 'commend': 3623, 'ensur': 3624, 'worm': 3625, 'enlighten': 3626, 'hopper': 3627, 'slick': 3628, 'patriot': 3629, 'wheel': 3630, 'feminist': 3631, 'eager': 3632, 'andr': 3633, 'ballet': 3634, 'steam': 3635, 'hesit': 3636, 'wendi': 3637, 'snap': 3638, 'kingdom': 3639, 'skull': 3640, 'util': 3641, 'psychopath': 3642, 'morri': 3643, 'sappi': 3644, 'nostalg': 3645, 'properti': 3646, 'mutant': 3647, 'composit': 3648, 'prequel': 3649, 'similarli': 3650, 'repress': 3651, 'victori': 3652, 'confin': 3653, 'blunt': 3654, 'leo': 3655, 'charlott': 3656, 'sandra': 3657, 'safeti': 3658, 'owen': 3659, 'wore': 3660, 'hung': 3661, 'vice': 3662, 'franco': 3663, 'macarthur': 3664, 'latin': 3665, 'emperor': 3666, 'miseri': 3667, 'cg': 3668, 'deed': 3669, 'rocki': 3670, 'bonu': 3671, 'rambl': 3672, 'campbel': 3673, 'valuabl': 3674, 'montana': 3675, 'kyle': 3676, 'bow': 3677, 'tail': 3678, 'rope': 3679, 'acquir': 3680, 'farrel': 3681, 'tad': 3682, 'compass': 3683, 'whoopi': 3684, 'drain': 3685, 'repli': 3686, 'bergman': 3687, 'exit': 3688, 'nervou': 3689, 'recycl': 3690, 'pattern': 3691, 'heartbreak': 3692, '1972': 3693, 'dalton': 3694, 'bumbl': 3695, 'strand': 3696, 'despair': 3697, 'speci': 3698, 'compens': 3699, 'drum': 3700, 'del': 3701, 'thru': 3702, 'dust': 3703, 'hyde': 3704, 'snl': 3705, 'airport': 3706, 'da': 3707, 'gimmick': 3708, 'tonight': 3709, 'martian': 3710, 'wacki': 3711, 'radic': 3712, 'bleed': 3713, 'chess': 3714, 'pour': 3715, 'rotten': 3716, 'orson': 3717, 'percept': 3718, 'gal': 3719, 'contempl': 3720, 'rapist': 3721, 'romp': 3722, 'oppress': 3723, 'mistress': 3724, '35': 3725, 'downhil': 3726, 'roth': 3727, 'olli': 3728, 'carradin': 3729, 'slug': 3730, 'programm': 3731, 'pervert': 3732, 'unpredict': 3733, 'banal': 3734, 'shelley': 3735, 'edgar': 3736, 'champion': 3737, 'mislead': 3738, 'pursuit': 3739, 'dazzl': 3740, 'paltrow': 3741, 'stilt': 3742, 'arguabl': 3743, 'pervers': 3744, 'slash': 3745, 'tackl': 3746, 'arc': 3747, '1983': 3748, 'attorney': 3749, 'heal': 3750, 'taught': 3751, 'belt': 3752, 'tooth': 3753, 'preach': 3754, 'melodi': 3755, 'duval': 3756, 'graham': 3757, 'orang': 3758, 'sensat': 3759, 'mesmer': 3760, 'cleverli': 3761, 'vocal': 3762, 'raymond': 3763, 'closest': 3764, 'vengeanc': 3765, 'gambl': 3766, 'virginia': 3767, 'chicken': 3768, 'bela': 3769, 'franki': 3770, 'maid': 3771, 'tiresom': 3772, 'uplift': 3773, 'rubi': 3774, 'poem': 3775, 'dixon': 3776, 'passeng': 3777, 'plight': 3778, 'employe': 3779, 'conneri': 3780, 'marti': 3781, 'crystal': 3782, 'inject': 3783, 'suffic': 3784, 'convincingli': 3785, 'abraham': 3786, 'outing': 3787, 'numb': 3788, 'bay': 3789, 'profan': 3790, 'calm': 3791, 'volum': 3792, 'pokemon': 3793, 'monologu': 3794, 'scottish': 3795, 'swallow': 3796, 'gerard': 3797, 'whine': 3798, 'paranoia': 3799, 'quarter': 3800, 'habit': 3801, 'lundgren': 3802, 'climact': 3803, '1968': 3804, 'amitabh': 3805, 'giggl': 3806, 'iran': 3807, 'engross': 3808, 'tube': 3809, 'secretli': 3810, 'extens': 3811, 'clone': 3812, 'sirk': 3813, 'mute': 3814, 'yawn': 3815, 'taxi': 3816, 'poetri': 3817, 'nichola': 3818, 'fed': 3819, 'bend': 3820, 'linger': 3821, 'junior': 3822, 'trend': 3823, 'meander': 3824, 'expand': 3825, 'austen': 3826, 'profess': 3827, 'im': 3828, 'grotesqu': 3829, 'septemb': 3830, 'franci': 3831, 'earl': 3832, 'richardson': 3833, 'backward': 3834, 'plod': 3835, 'underst': 3836, 'chicago': 3837, 'ethan': 3838, 'lowest': 3839, 'abort': 3840, 'frankenstein': 3841, 'spock': 3842, 'surpass': 3843, 'dispos': 3844, 'spoke': 3845, 'catchi': 3846, 'greedi': 3847, 'eugen': 3848, 'lure': 3849, 'waitress': 3850, 'sue': 3851, 'simplic': 3852, 'nostalgia': 3853, 'rant': 3854, 'hum': 3855, 'rubber': 3856, 'literatur': 3857, 'cannon': 3858, 'tourist': 3859, 'mundan': 3860, 'dysfunct': 3861, 'muddl': 3862, 'household': 3863, 'descent': 3864, 'compliment': 3865, 'instrument': 3866, 'myth': 3867, 'econom': 3868, 'der': 3869, 'stallon': 3870, 'recognit': 3871, 'phoni': 3872, 'map': 3873, 'deaf': 3874, 'phantom': 3875, 'irrelev': 3876, 'recognis': 3877, 'mortal': 3878, 'firstli': 3879, 'omen': 3880, 'equival': 3881, 'occupi': 3882, 'duck': 3883, 'flee': 3884, 'mankind': 3885, 'alongsid': 3886, 'dement': 3887, 'stale': 3888, 'dictat': 3889, 'bacal': 3890, 'damon': 3891, 'molli': 3892, 'insur': 3893, 'lang': 3894, 'coast': 3895, 'crucial': 3896, 'eaten': 3897, 'sissi': 3898, 'hello': 3899, 'june': 3900, 'carel': 3901, 'cent': 3902, 'randi': 3903, 'furi': 3904, 'louis': 3905, 'wisdom': 3906, 'rude': 3907, 'labor': 3908, '1973': 3909, 'lengthi': 3910, 'onlin': 3911, 'bike': 3912, 'damm': 3913, 'newli': 3914, 'blackmail': 3915, 'dreari': 3916, 'cyborg': 3917, 'reign': 3918, 'drake': 3919, 'likewis': 3920, 'twilight': 3921, 'rooney': 3922, 'bump': 3923, 'distinguish': 3924, 'loyalti': 3925, 'antwon': 3926, 'ashley': 3927, 'freez': 3928, 'daisi': 3929, 'buffalo': 3930, 'heel': 3931, 'grayson': 3932, 'biko': 3933, 'interior': 3934, 'unorigin': 3935, 'butler': 3936, 'incorpor': 3937, 'vein': 3938, 'emphas': 3939, 'tunnel': 3940, 'baddi': 3941, 'startl': 3942, 'ridden': 3943, 'approv': 3944, 'pink': 3945, 'prey': 3946, 'nineti': 3947, 'inher': 3948, 'basketbal': 3949, 'analysi': 3950, 'chronicl': 3951, 'provoc': 3952, 'sailor': 3953, 'proce': 3954, 'exposur': 3955, 'worn': 3956, 'barrymor': 3957, 'keith': 3958, 'boxer': 3959, 'attribut': 3960, 'simmon': 3961, 'undeni': 3962, 'stalker': 3963, 'indiffer': 3964, 'underli': 3965, 'drift': 3966, 'barrel': 3967, 'nicol': 3968, 'degrad': 3969, 'hypnot': 3970, 'mormon': 3971, 'belushi': 3972, 'bunni': 3973, 'improvis': 3974, 'walsh': 3975, 'fleet': 3976, 'robbin': 3977, 'millionair': 3978, 'condemn': 3979, 'unrel': 3980, 'carla': 3981, 'er': 3982, 'elm': 3983, 'othello': 3984, 'julian': 3985, 'predat': 3986, 'substitut': 3987, 'meg': 3988, 'mighti': 3989, 'meyer': 3990, 'hay': 3991, 'roof': 3992, 'nyc': 3993, 'edgi': 3994, 'vital': 3995, 'lampoon': 3996, 'shove': 3997, 'watson': 3998, 'marion': 3999, 'mtv': 4000, 'warmth': 4001, 'firm': 4002, 'unawar': 4003, 'rukh': 4004, 'disord': 4005, 'enthusiasm': 4006, 'agenda': 4007, 'greed': 4008, 'priceless': 4009, 'dolph': 4010, 'errol': 4011, 'alarm': 4012, 'novak': 4013, '3d': 4014, 'palac': 4015, 'exquisit': 4016, 'alison': 4017, 'reid': 4018, 'peril': 4019, 'pamela': 4020, 'gestur': 4021, 'unleash': 4022, 'drip': 4023, 'session': 4024, 'testament': 4025, 'nun': 4026, '13th': 4027, 'thompson': 4028, 'israel': 4029, 'simultan': 4030, 'distort': 4031, 'coup': 4032, 'peck': 4033, 'crown': 4034, 'orlean': 4035, 'ponder': 4036, 'profit': 4037, 'sergeant': 4038, 'randomli': 4039, 'spain': 4040, 'angela': 4041, '1933': 4042, 'minimum': 4043, 'championship': 4044, 'campaign': 4045, 'showdown': 4046, 'iraq': 4047, 'what': 4048, 'glanc': 4049, 'eastern': 4050, 'valentin': 4051, 'cassidi': 4052, 'preserv': 4053, 'beatl': 4054, 'petti': 4055, 'zizek': 4056, 'exposit': 4057, 'han': 4058, 'unimagin': 4059, 'climat': 4060, 'stroke': 4061, 'jan': 4062, 'calib': 4063, 'empathi': 4064, 'mon': 4065, 'rout': 4066, 'sabrina': 4067, 'shootout': 4068, 'travesti': 4069, 'reson': 4070, 'restrain': 4071, 'scotland': 4072, 'wig': 4073, 'fido': 4074, 'cream': 4075, 'realm': 4076, 'valley': 4077, 'gentleman': 4078, 'stake': 4079, 'kurosawa': 4080, 'contradict': 4081, 'perpetu': 4082, 'crow': 4083, 'represent': 4084, 'crawl': 4085, '1984': 4086, 'quinn': 4087, 'brenda': 4088, 'buster': 4089, 'miyazaki': 4090, 'bro': 4091, 'regist': 4092, 'cooki': 4093, 'din': 4094, 'tacki': 4095, 'geek': 4096, 'femm': 4097, 'sucker': 4098, 'josh': 4099, 'unsatisfi': 4100, 'wax': 4101, 'censor': 4102, 'crawford': 4103, 'demis': 4104, 'monoton': 4105, 'absent': 4106, 'abomin': 4107, 'ross': 4108, 'derang': 4109, 'delic': 4110, 'businessman': 4111, 'pretens': 4112, 'spacey': 4113, 'passabl': 4114, '1987': 4115, 'compromis': 4116, 'sammi': 4117, 'perceiv': 4118, 'cloud': 4119, 'baldwin': 4120, 'shoddi': 4121, '1997': 4122, 'stargat': 4123, 'shaki': 4124, 'warrant': 4125, 'darren': 4126, 'greg': 4127, 'pole': 4128, 'mclaglen': 4129, 'meryl': 4130, 'distress': 4131, 'traumat': 4132, 'painter': 4133, 'fuller': 4134, 'dana': 4135, 'soderbergh': 4136, 'unseen': 4137, 'ustinov': 4138, 'correctli': 4139, 'sid': 4140, 'tech': 4141, 'deceas': 4142, 'norm': 4143, 'clash': 4144, 'judgment': 4145, 'austin': 4146, 'fog': 4147, 'antonioni': 4148, 'nathan': 4149, 'seal': 4150, 'wholli': 4151, 'valid': 4152, 'unravel': 4153, 'exclus': 4154, 'reluct': 4155, 'jewel': 4156, 'expedit': 4157, 'polici': 4158, 'click': 4159, 'uncov': 4160, 'furiou': 4161, 'anchor': 4162, '1993': 4163, 'dee': 4164, 'deniro': 4165, 'verbal': 4166, 'tarantino': 4167, 'kumar': 4168, 'accuraci': 4169, 'primit': 4170, 'fenc': 4171, 'debt': 4172, 'patienc': 4173, 'clerk': 4174, 'vanc': 4175, 'joel': 4176, 'murray': 4177, 'trait': 4178, 'conduct': 4179, 'mode': 4180, 'logan': 4181, 'unfair': 4182, '1995': 4183, '2008': 4184, 'fart': 4185, 'seldom': 4186, 'malon': 4187, 'bake': 4188, 'ritual': 4189, 'tax': 4190, 'sand': 4191, 'roller': 4192, 'sustain': 4193, 'pocket': 4194, 'temper': 4195, 'enforc': 4196, 'alec': 4197, 'fabric': 4198, 'slam': 4199, 'behold': 4200, 'fought': 4201, 'dreck': 4202, 'darn': 4203, 'crippl': 4204, 'hallucin': 4205, '3000': 4206, 'wretch': 4207, 'sunni': 4208, '1971': 4209, 'sheet': 4210, 'nicola': 4211, 'shanghai': 4212, 'wang': 4213, 'grief': 4214, 'despis': 4215, 'clau': 4216, 'scriptwrit': 4217, 'bridget': 4218, 'phil': 4219, 'tactic': 4220, 'guitar': 4221, 'stark': 4222, 'critiqu': 4223, 'rita': 4224, 'helpless': 4225, 'technicolor': 4226, 'squad': 4227, 'exhaust': 4228, 'shell': 4229, 'bias': 4230, 'robber': 4231, 'preposter': 4232, 'pete': 4233, 'outlin': 4234, 'fundament': 4235, 'conscious': 4236, 'legaci': 4237, 'soup': 4238, 'sweep': 4239, 'divid': 4240, 'canyon': 4241, 'isabel': 4242, 'schedul': 4243, 'stuart': 4244, 'preston': 4245, 'penni': 4246, 'runner': 4247, 'invad': 4248, 'sugar': 4249, 'rear': 4250, 'rehash': 4251, 'palanc': 4252, 'vomit': 4253, 'propos': 4254, 'agenc': 4255, 'liberti': 4256, 'drove': 4257, 'russia': 4258, 'boyl': 4259, 'kansa': 4260, 'alley': 4261, 'sentinel': 4262, 'lacklust': 4263, 'downey': 4264, 'delv': 4265, 'jacket': 4266, 'bloom': 4267, 'passag': 4268, 'cigarett': 4269, 'implic': 4270, 'alicia': 4271, 'sniper': 4272, 'consciou': 4273, 'culmin': 4274, 'flair': 4275, 'connor': 4276, 'inabl': 4277, 'marc': 4278, 'jodi': 4279, 'newman': 4280, 'unexpectedli': 4281, 'restrict': 4282, 'gregori': 4283, 'tripe': 4284, 'tendenc': 4285, 'rehears': 4286, 'chainsaw': 4287, 'pale': 4288, 'asylum': 4289, 'lush': 4290, 'aesthet': 4291, 'awhil': 4292, 'rod': 4293, 'feat': 4294, 'arrow': 4295, 'vet': 4296, '1936': 4297, 'wrench': 4298, 'karl': 4299, 'yeti': 4300, 'ladder': 4301, 'bacon': 4302, 'rampag': 4303, 'behaviour': 4304, 'delet': 4305, 'cap': 4306, '22': 4307, 'mccoy': 4308, 'sharon': 4309, 'improb': 4310, 'kolchak': 4311, 'horn': 4312, 'foxx': 4313, 'el': 4314, 'elit': 4315, 'filler': 4316, 'rhythm': 4317, 'loneli': 4318, 'paradis': 4319, 'rumor': 4320, 'suspicion': 4321, '1978': 4322, 'visitor': 4323, 'underneath': 4324, 'shortcom': 4325, 'stream': 4326, 'prank': 4327, 'tasteless': 4328, 'newcom': 4329, '19th': 4330, '1920': 4331, 'coaster': 4332, 'sung': 4333, 'wildli': 4334, 'conscienc': 4335, 'paramount': 4336, 'minu': 4337, 'aristocrat': 4338, 'fright': 4339, 'spice': 4340, 'tomorrow': 4341, 'wagner': 4342, 'globe': 4343, 'thunderbird': 4344, 'suffici': 4345, 'scoop': 4346, 'hungri': 4347, 'hackney': 4348, 'financ': 4349, 'hulk': 4350, 'lurk': 4351, 'amazon': 4352, 'weav': 4353, 'basing': 4354, '1988': 4355, 'lectur': 4356, 'ram': 4357, 'en': 4358, 'secondari': 4359, '75': 4360, 'immers': 4361, 'choppi': 4362, 'brit': 4363, 'quietli': 4364, 'atroc': 4365, 'counterpart': 4366, 'posey': 4367, 'smell': 4368, 'cancer': 4369, 'straightforward': 4370, 'paxton': 4371, 'ingeni': 4372, '1939': 4373, 'beverli': 4374, 'entranc': 4375, 'inmat': 4376, 'standout': 4377, 'impos': 4378, 'penn': 4379, 'dirt': 4380, 'springer': 4381, 'abrupt': 4382, 'recogniz': 4383, 'iv': 4384, 'literari': 4385, 'minist': 4386, 'leigh': 4387, 'grudg': 4388, 'worship': 4389, 'naughti': 4390, 'heist': 4391, '1989': 4392, 'rub': 4393, 'hopkin': 4394, 'curli': 4395, 'chamberlain': 4396, 'chavez': 4397, 'tierney': 4398, 'bread': 4399, 'couch': 4400, 'teas': 4401, 'wwe': 4402, 'enthral': 4403, 'clan': 4404, 'ace': 4405, 'sublim': 4406, 'convert': 4407, 'variat': 4408, 'quaid': 4409, 'injuri': 4410, 'skeptic': 4411, 'duel': 4412, 'net': 4413, 'misguid': 4414, 'attenborough': 4415, 'cattl': 4416, 'morbid': 4417, 'nemesi': 4418, 'entitl': 4419, 'transcend': 4420, 'moreov': 4421, 'missil': 4422, 'bernard': 4423, 'laurenc': 4424, 'heartfelt': 4425, 'policeman': 4426, 'geni': 4427, 'yearn': 4428, 'nolan': 4429, 'sassi': 4430, 'watcher': 4431, 'lindsay': 4432, 'ratso': 4433, '1986': 4434, 'esther': 4435, 'diari': 4436, 'spiral': 4437, 'cruelti': 4438, 'bean': 4439, 'poe': 4440, 'mytholog': 4441, 'tyler': 4442, 'steadi': 4443, 'uncut': 4444, 'kidman': 4445, 'facil': 4446, 'enabl': 4447, 'out': 4448, 'carlito': 4449, 'setup': 4450, 'brood': 4451, 'bye': 4452, 'artsi': 4453, 'characteris': 4454, 'reliabl': 4455, 'dont': 4456, 'hopelessli': 4457, 'obstacl': 4458, 'unexplain': 4459, 'egg': 4460, 'grin': 4461, 'youngest': 4462, 'kitti': 4463, 'graini': 4464, 'puppi': 4465, '1979': 4466, 'buzz': 4467, 'vader': 4468, 'moder': 4469, 'rosemari': 4470, 'hk': 4471, 'exterior': 4472, 'brendan': 4473, 'niec': 4474, 'fuel': 4475, 'decept': 4476, 'baffl': 4477, 'acquaint': 4478, 'bronson': 4479, 'spontan': 4480, 'gillian': 4481, 'narrow': 4482, 'martha': 4483, '1969': 4484, 'clueless': 4485, 'disastr': 4486, 'underworld': 4487, 'gina': 4488, 'oblig': 4489, 'hammi': 4490, 'heap': 4491, 'athlet': 4492, 'kline': 4493, 'despic': 4494, 'sweat': 4495, 'patricia': 4496, 'hain': 4497, 'bounc': 4498, 'preming': 4499, 'bewar': 4500, 'effici': 4501, 'christin': 4502, 'weather': 4503, 'goof': 4504, 'rome': 4505, 'preachi': 4506, 'tick': 4507, 'suprem': 4508, 'dandi': 4509, 'viewpoint': 4510, 'biker': 4511, 'hepburn': 4512, 'sooner': 4513, 'virtu': 4514, '73': 4515, 'injur': 4516, 'candl': 4517, '19': 4518, 'scar': 4519, 'insipid': 4520, 'outlaw': 4521, 'analyz': 4522, 'mermaid': 4523, 'shatter': 4524, 'sleepwalk': 4525, 'headach': 4526, 'trigger': 4527, 'loath': 4528, 'renaiss': 4529, 'lester': 4530, 'loi': 4531, 'astound': 4532, 'fontain': 4533, 'uh': 4534, 'dilemma': 4535, 'mayhem': 4536, 'harmless': 4537, 'taboo': 4538, 'angst': 4539, 'circu': 4540, 'enlist': 4541, 'housewif': 4542, 'stimul': 4543, 'immatur': 4544, 'slimi': 4545, 'bent': 4546, 'dismal': 4547, 'boston': 4548, 'amor': 4549, 'spade': 4550, 'ebert': 4551, 'surgeri': 4552, 'cassavet': 4553, 'steer': 4554, 'hokey': 4555, 'guin': 4556, 'stair': 4557, 'fluff': 4558, 'intric': 4559, 'tripl': 4560, 'whore': 4561, 'contempt': 4562, 'gere': 4563, 'glorifi': 4564, 'corbett': 4565, 'filth': 4566, 'overlong': 4567, 'redund': 4568, 'camcord': 4569, 'oldest': 4570, 'claustrophob': 4571, 'foolish': 4572, 'macho': 4573, 'hostag': 4574, 'hooker': 4575, 'dish': 4576, 'zoom': 4577, 'salt': 4578, 'idol': 4579, 'phenomenon': 4580, 'sox': 4581, 'scorses': 4582, 'ariel': 4583, 'gabl': 4584, 'corman': 4585, 'conquer': 4586, 'rhyme': 4587, 'widescreen': 4588, '1976': 4589, 'alvin': 4590, 'proport': 4591, 'radiat': 4592, 'cohen': 4593, 'dwarf': 4594, 'schlock': 4595, 'spinal': 4596, 'fascist': 4597, 'antagonist': 4598, 'cow': 4599, 'down': 4600, 'frantic': 4601, 'keen': 4602, 'shred': 4603, 'gasp': 4604, 'mount': 4605, 'margin': 4606, 'mutual': 4607, 'perman': 4608, '1981': 4609, 'preced': 4610, 'astronaut': 4611, 'cush': 4612, 'flag': 4613, 'naschi': 4614, 'strongest': 4615, 'shield': 4616, 'muscl': 4617, 'remad': 4618, 'beard': 4619, 'trivia': 4620, 'flirt': 4621, 'messi': 4622, 'assert': 4623, 'faint': 4624, 'harold': 4625, 'transplant': 4626, 'flashi': 4627, 'spree': 4628, 'joker': 4629, 'obligatori': 4630, 'nolt': 4631, 'zane': 4632, 'discern': 4633, 'www': 4634, 'archiv': 4635, 'bitten': 4636, 'carey': 4637, 'departur': 4638, 'claud': 4639, 'flock': 4640, 'deer': 4641, 'sensual': 4642, 'off': 4643, 'persuad': 4644, 'scandal': 4645, 'brush': 4646, 'interestingli': 4647, 'vaniti': 4648, 'danish': 4649, 'barn': 4650, 'hara': 4651, 'info': 4652, '95': 4653, 'repris': 4654, 'resum': 4655, 'raj': 4656, 'someday': 4657, 'triangl': 4658, '1945': 4659, 'fishburn': 4660, '28': 4661, 'inflict': 4662, 'ritchi': 4663, 'bachelor': 4664, 'divin': 4665, 'wield': 4666, 'neurot': 4667, 'instruct': 4668, 'aborigin': 4669, 'boob': 4670, 'strive': 4671, 'mol': 4672, 'mobil': 4673, 'bate': 4674, 'luka': 4675, 'earnest': 4676, 'proclaim': 4677, 'helm': 4678, 'mobster': 4679, 'timberlak': 4680, 'dame': 4681, 'biblic': 4682, 'melissa': 4683, 'colin': 4684, 'harrison': 4685, 'cycl': 4686, 'dylan': 4687, 'undermin': 4688, 'senior': 4689, 'wendigo': 4690, 'axe': 4691, 'artwork': 4692, 'prophet': 4693, 'hilar': 4694, 'clad': 4695, 'parson': 4696, 'rot': 4697, 'casino': 4698, 'ish': 4699, 'hapless': 4700, 'submit': 4701, 'dim': 4702, 'hug': 4703, 'pacif': 4704, 'neill': 4705, 'europa': 4706, 'heartwarm': 4707, 'fragil': 4708, 'recit': 4709, 'pixar': 4710, 'traffic': 4711, 'vibrant': 4712, 'carlo': 4713, 'cliffhang': 4714, 'jade': 4715, 'miracul': 4716, 'kathryn': 4717, 'frontier': 4718, 'banter': 4719, 'cher': 4720, 'pickford': 4721, 'cb': 4722, 'anton': 4723, 'loretta': 4724, 'jordan': 4725, 'static': 4726, 'estrang': 4727, 'blatantli': 4728, 'http': 4729, 'razor': 4730, 'alexandr': 4731, 'milo': 4732, 'redneck': 4733, 'holocaust': 4734, 'legitim': 4735, 'venom': 4736, 'choke': 4737, 'illus': 4738, 'northern': 4739, 'rooki': 4740, 'feast': 4741, 'vile': 4742, 'lui': 4743, 'marlon': 4744, 'eli': 4745, 'winchest': 4746, 'isra': 4747, 'token': 4748, 'aris': 4749, 'wardrob': 4750, 'bikini': 4751, 'shepherd': 4752, 'antholog': 4753, 'misfortun': 4754, 'bondag': 4755, 'foil': 4756, 'jo': 4757, 'seedi': 4758, 'electron': 4759, 'orphan': 4760, 'pc': 4761, 'mason': 4762, 'cerebr': 4763, 'breakfast': 4764, 'sicken': 4765, 'akin': 4766, 'toronto': 4767, 'articl': 4768, 'flavor': 4769, 'lucil': 4770, 'uma': 4771, 'vanessa': 4772, 'nope': 4773, 'trier': 4774, 'mathieu': 4775, 'oppon': 4776, 'charlton': 4777, 'smack': 4778, 'magician': 4779, 'frog': 4780, 'tack': 4781, 'abund': 4782, 'disregard': 4783, 'fifth': 4784, 'glare': 4785, 'huston': 4786, 'outdat': 4787, 'howl': 4788, 'knightley': 4789, 'retriev': 4790, 'feminin': 4791, 'styliz': 4792, 'turd': 4793, 'cartoonish': 4794, 'affleck': 4795, 'wrestler': 4796, 'dudley': 4797, 'linear': 4798, 'ideolog': 4799, 'leather': 4800, 'gilbert': 4801, 'boyer': 4802, 'peer': 4803, 'audrey': 4804, 'deem': 4805, 'swept': 4806, 'ceremoni': 4807, 'shorter': 4808, 'comprehend': 4809, 'highway': 4810, 'psych': 4811, 'nightclub': 4812, 'clinic': 4813, 'gunga': 4814, 'cuban': 4815, 'energet': 4816, 'boo': 4817, 'deliver': 4818, 'spawn': 4819, 'phenomen': 4820, 'evolut': 4821, '1994': 4822, 'uniformli': 4823, 'collector': 4824, 'bastard': 4825, '4th': 4826, 'potter': 4827, 'lavish': 4828, 'summar': 4829, 'breakdown': 4830, 'cemeteri': 4831, 'whack': 4832, 'compris': 4833, 'toe': 4834, 'lifeless': 4835, 'greet': 4836, 'snatch': 4837, 'spine': 4838, 'durat': 4839, 'conrad': 4840, 'bogu': 4841, 'lighter': 4842, 'chip': 4843, 'newer': 4844, 'mitch': 4845, 'btw': 4846, 'plate': 4847, 'corn': 4848, 'goldsworthi': 4849, 'moe': 4850, 'monument': 4851, '1991': 4852, 'client': 4853, 'einstein': 4854, 'tara': 4855, 'sleaz': 4856, 'salman': 4857, 'braveheart': 4858, 'senat': 4859, 'ie': 4860, 'pronounc': 4861, 'ol': 4862, 'neatli': 4863, 'appl': 4864, 'constitut': 4865, 'jam': 4866, '1977': 4867, 'outright': 4868, 'alleg': 4869, 'randolph': 4870, 'clara': 4871, '1974': 4872, 'lex': 4873, 'kazan': 4874, 'eleven': 4875, 'jare': 4876, 'kent': 4877, 'belli': 4878, 'creek': 4879, 'cecil': 4880, 'healthi': 4881, 'firmli': 4882, 'undertak': 4883, 'occup': 4884, 'wtf': 4885, 'liu': 4886, 'trauma': 4887, 'jedi': 4888, 'replay': 4889, 'signal': 4890, 'armstrong': 4891, 'nina': 4892, 'spectacl': 4893, 'capot': 4894, 'jule': 4895, 'bulk': 4896, 'embark': 4897, 'sorrow': 4898, 'bori': 4899, 'undead': 4900, 'gilliam': 4901, 'inaccuraci': 4902, 'fluid': 4903, 'luxuri': 4904, 'judd': 4905, 'evelyn': 4906, 'historian': 4907, 'mcqueen': 4908, 'groan': 4909, 'propheci': 4910, 'bsg': 4911, 'paula': 4912, 'meal': 4913, 'abound': 4914, 'lanc': 4915, 'inclus': 4916, 'genet': 4917, 'bait': 4918, 'comprehens': 4919, 'goldblum': 4920, '1985': 4921, 'tokyo': 4922, 'palm': 4923, 'mum': 4924, 'fruit': 4925, 'galaxi': 4926, 'spray': 4927, 'roar': 4928, 'knee': 4929, 'rosario': 4930, 'antonio': 4931, 'kiddi': 4932, 'lauren': 4933, 'porter': 4934, 'congratul': 4935, 'unattract': 4936, 'blur': 4937, 'basket': 4938, 'miami': 4939, 'pepper': 4940, 'decapit': 4941, 'pioneer': 4942, 'carmen': 4943, 'relentless': 4944, 'comb': 4945, 'aussi': 4946, 'miniseri': 4947, 'cape': 4948, 'ash': 4949, 'subtli': 4950, 'forgiven': 4951, 'truman': 4952, 'poker': 4953, 'unsuspect': 4954, 'sidewalk': 4955, 'id': 4956, 'walt': 4957, 'conan': 4958, 'vain': 4959, 'vignett': 4960, 'sacrif': 4961, 'curtain': 4962, 'inaccur': 4963, 'evan': 4964, 'scariest': 4965, '21st': 4966, 'drone': 4967, 'sparkl': 4968, 'scarfac': 4969, 'growth': 4970, 'motorcycl': 4971, 'hostil': 4972, 'jill': 4973, 'reincarn': 4974, 'modest': 4975, 'frontal': 4976, 'asset': 4977, 'hackman': 4978, 'assort': 4979, 'handicap': 4980, 'vastli': 4981, 'weaker': 4982, 'weari': 4983, 'masterson': 4984, 'ingrid': 4985, 'sophi': 4986, 'optimist': 4987, 'victorian': 4988, 'dubiou': 4989, 'omin': 4990, 'macabr': 4991, 'bach': 4992, 'playboy': 4993, 'turtl': 4994, 'verg': 4995, 'spill': 4996, 'detach': 4997, 'ghetto': 4998, 'casper': 4999}\n"
     ]
    }
   ],
   "source": [
    "# TODO: Use this space to determine the five most frequently appearing words in the training set.\n",
    "print(word_dict)"
   ]
  },
  {
   "cell_type": "markdown",
   "metadata": {},
   "source": [
    "### Save `word_dict`\n",
    "\n",
    "Later on when we construct an endpoint which processes a submitted review we will need to make use of the `word_dict` which we have created. As such, we will save it to a file now for future use."
   ]
  },
  {
   "cell_type": "code",
   "execution_count": 27,
   "metadata": {},
   "outputs": [],
   "source": [
    "data_dir = '../data/pytorch' # The folder we will use for storing data\n",
    "if not os.path.exists(data_dir): # Make sure that the folder exists\n",
    "    os.makedirs(data_dir)"
   ]
  },
  {
   "cell_type": "code",
   "execution_count": 28,
   "metadata": {},
   "outputs": [],
   "source": [
    "with open(os.path.join(data_dir, 'word_dict.pkl'), \"wb\") as f:\n",
    "    pickle.dump(word_dict, f)"
   ]
  },
  {
   "cell_type": "markdown",
   "metadata": {},
   "source": [
    "### Transform the reviews\n",
    "\n",
    "Now that we have our word dictionary which allows us to transform the words appearing in the reviews into integers, it is time to make use of it and convert our reviews to their integer sequence representation, making sure to pad or truncate to a fixed length, which in our case is `500`."
   ]
  },
  {
   "cell_type": "code",
   "execution_count": 29,
   "metadata": {},
   "outputs": [],
   "source": [
    "def convert_and_pad(word_dict, sentence, pad=500):\n",
    "    NOWORD = 0 # We will use 0 to represent the 'no word' category\n",
    "    INFREQ = 1 # and we use 1 to represent the infrequent words, i.e., words not appearing in word_dict\n",
    "    \n",
    "    working_sentence = [NOWORD] * pad\n",
    "    \n",
    "    for word_index, word in enumerate(sentence[:pad]):\n",
    "        if word in word_dict:\n",
    "            working_sentence[word_index] = word_dict[word]\n",
    "        else:\n",
    "            working_sentence[word_index] = INFREQ\n",
    "            \n",
    "    return working_sentence, min(len(sentence), pad)\n",
    "\n",
    "def convert_and_pad_data(word_dict, data, pad=500):\n",
    "    result = []\n",
    "    lengths = []\n",
    "    \n",
    "    for sentence in data:\n",
    "        converted, leng = convert_and_pad(word_dict, sentence, pad)\n",
    "        result.append(converted)\n",
    "        lengths.append(leng)\n",
    "        \n",
    "    return np.array(result), np.array(lengths)"
   ]
  },
  {
   "cell_type": "code",
   "execution_count": 30,
   "metadata": {},
   "outputs": [],
   "source": [
    "train_X, train_X_len = convert_and_pad_data(word_dict, train_X)\n",
    "test_X, test_X_len = convert_and_pad_data(word_dict, test_X)"
   ]
  },
  {
   "cell_type": "markdown",
   "metadata": {},
   "source": [
    "As a quick check to make sure that things are working as intended, check to see what one of the reviews in the training set looks like after having been processeed. Does this look reasonable? What is the length of a review in the training set?"
   ]
  },
  {
   "cell_type": "code",
   "execution_count": 32,
   "metadata": {},
   "outputs": [
    {
     "data": {
      "text/plain": [
       "array([ 165,   87,   38,   65,   16,    5, 1845,    1,  503,    1,   31,\n",
       "          6,  111,  110, 1416,   27,  111, 1353, 1832,  144,    3, 1022,\n",
       "          1, 1554,    1,    1,  130,  927,  904,   13,   24, 1880,    7,\n",
       "          3,  151,  114,   72,    1,    5,  770,    1,    1,    1,   54,\n",
       "       4543,   69,  414,   85,  457,    1,   38,    4, 1463,  785,   31,\n",
       "        123,  240,    1,  131,  426,   51,   47,    4,    0,    0,    0,\n",
       "          0,    0,    0,    0,    0,    0,    0,    0,    0,    0,    0,\n",
       "          0,    0,    0,    0,    0,    0,    0,    0,    0,    0,    0,\n",
       "          0,    0,    0,    0,    0,    0,    0,    0,    0,    0,    0,\n",
       "          0,    0,    0,    0,    0,    0,    0,    0,    0,    0,    0,\n",
       "          0,    0,    0,    0,    0,    0,    0,    0,    0,    0,    0,\n",
       "          0,    0,    0,    0,    0,    0,    0,    0,    0,    0,    0,\n",
       "          0,    0,    0,    0,    0,    0,    0,    0,    0,    0,    0,\n",
       "          0,    0,    0,    0,    0,    0,    0,    0,    0,    0,    0,\n",
       "          0,    0,    0,    0,    0,    0,    0,    0,    0,    0,    0,\n",
       "          0,    0,    0,    0,    0,    0,    0,    0,    0,    0,    0,\n",
       "          0,    0,    0,    0,    0,    0,    0,    0,    0,    0,    0,\n",
       "          0,    0,    0,    0,    0,    0,    0,    0,    0,    0,    0,\n",
       "          0,    0,    0,    0,    0,    0,    0,    0,    0,    0,    0,\n",
       "          0,    0,    0,    0,    0,    0,    0,    0,    0,    0,    0,\n",
       "          0,    0,    0,    0,    0,    0,    0,    0,    0,    0,    0,\n",
       "          0,    0,    0,    0,    0,    0,    0,    0,    0,    0,    0,\n",
       "          0,    0,    0,    0,    0,    0,    0,    0,    0,    0,    0,\n",
       "          0,    0,    0,    0,    0,    0,    0,    0,    0,    0,    0,\n",
       "          0,    0,    0,    0,    0,    0,    0,    0,    0,    0,    0,\n",
       "          0,    0,    0,    0,    0,    0,    0,    0,    0,    0,    0,\n",
       "          0,    0,    0,    0,    0,    0,    0,    0,    0,    0,    0,\n",
       "          0,    0,    0,    0,    0,    0,    0,    0,    0,    0,    0,\n",
       "          0,    0,    0,    0,    0,    0,    0,    0,    0,    0,    0,\n",
       "          0,    0,    0,    0,    0,    0,    0,    0,    0,    0,    0,\n",
       "          0,    0,    0,    0,    0,    0,    0,    0,    0,    0,    0,\n",
       "          0,    0,    0,    0,    0,    0,    0,    0,    0,    0,    0,\n",
       "          0,    0,    0,    0,    0,    0,    0,    0,    0,    0,    0,\n",
       "          0,    0,    0,    0,    0,    0,    0,    0,    0,    0,    0,\n",
       "          0,    0,    0,    0,    0,    0,    0,    0,    0,    0,    0,\n",
       "          0,    0,    0,    0,    0,    0,    0,    0,    0,    0,    0,\n",
       "          0,    0,    0,    0,    0,    0,    0,    0,    0,    0,    0,\n",
       "          0,    0,    0,    0,    0,    0,    0,    0,    0,    0,    0,\n",
       "          0,    0,    0,    0,    0,    0,    0,    0,    0,    0,    0,\n",
       "          0,    0,    0,    0,    0,    0,    0,    0,    0,    0,    0,\n",
       "          0,    0,    0,    0,    0,    0,    0,    0,    0,    0,    0,\n",
       "          0,    0,    0,    0,    0,    0,    0,    0,    0,    0,    0,\n",
       "          0,    0,    0,    0,    0,    0,    0,    0,    0,    0,    0,\n",
       "          0,    0,    0,    0,    0,    0,    0,    0,    0,    0,    0,\n",
       "          0,    0,    0,    0,    0,    0,    0,    0,    0,    0,    0,\n",
       "          0,    0,    0,    0,    0])"
      ]
     },
     "execution_count": 32,
     "metadata": {},
     "output_type": "execute_result"
    }
   ],
   "source": [
    "# Use this cell to examine one of the processed reviews to make sure everything is working as intended.\n",
    "train_X[1]"
   ]
  },
  {
   "cell_type": "markdown",
   "metadata": {},
   "source": [
    "**Question:** In the cells above we use the `preprocess_data` and `convert_and_pad_data` methods to process both the training and testing set. Why or why not might this be a problem?"
   ]
  },
  {
   "cell_type": "markdown",
   "metadata": {},
   "source": [
    "**Answer:** It may be a problem because it wastes a lot of memory if there is a lot of short reviews. and we may loose some significant data when truncating long ones."
   ]
  },
  {
   "cell_type": "markdown",
   "metadata": {},
   "source": [
    "## Step 3: Upload the data to S3\n",
    "\n",
    "As in the XGBoost notebook, we will need to upload the training dataset to S3 in order for our training code to access it. For now we will save it locally and we will upload to S3 later on.\n",
    "\n",
    "### Save the processed training dataset locally\n",
    "\n",
    "It is important to note the format of the data that we are saving as we will need to know it when we write the training code. In our case, each row of the dataset has the form `label`, `length`, `review[500]` where `review[500]` is a sequence of `500` integers representing the words in the review."
   ]
  },
  {
   "cell_type": "code",
   "execution_count": 33,
   "metadata": {},
   "outputs": [],
   "source": [
    "import pandas as pd\n",
    "    \n",
    "pd.concat([pd.DataFrame(train_y), pd.DataFrame(train_X_len), pd.DataFrame(train_X)], axis=1) \\\n",
    "        .to_csv(os.path.join(data_dir, 'train.csv'), header=False, index=False)"
   ]
  },
  {
   "cell_type": "markdown",
   "metadata": {},
   "source": [
    "### Uploading the training data\n",
    "\n",
    "\n",
    "Next, we need to upload the training data to the SageMaker default S3 bucket so that we can provide access to it while training our model."
   ]
  },
  {
   "cell_type": "code",
   "execution_count": 34,
   "metadata": {},
   "outputs": [],
   "source": [
    "import sagemaker\n",
    "\n",
    "sagemaker_session = sagemaker.Session()\n",
    "\n",
    "bucket = sagemaker_session.default_bucket()\n",
    "prefix = 'sagemaker/sentiment_rnn'\n",
    "\n",
    "role = sagemaker.get_execution_role()"
   ]
  },
  {
   "cell_type": "code",
   "execution_count": 35,
   "metadata": {},
   "outputs": [],
   "source": [
    "input_data = sagemaker_session.upload_data(path=data_dir, bucket=bucket, key_prefix=prefix)"
   ]
  },
  {
   "cell_type": "markdown",
   "metadata": {},
   "source": [
    "**NOTE:** The cell above uploads the entire contents of our data directory. This includes the `word_dict.pkl` file. This is fortunate as we will need this later on when we create an endpoint that accepts an arbitrary review. For now, we will just take note of the fact that it resides in the data directory (and so also in the S3 training bucket) and that we will need to make sure it gets saved in the model directory."
   ]
  },
  {
   "cell_type": "markdown",
   "metadata": {},
   "source": [
    "## Step 4: Build and Train the PyTorch Model\n",
    "\n",
    "In the XGBoost notebook we discussed what a model is in the SageMaker framework. In particular, a model comprises three objects\n",
    "\n",
    " - Model Artifacts,\n",
    " - Training Code, and\n",
    " - Inference Code,\n",
    " \n",
    "each of which interact with one another. In the XGBoost example we used training and inference code that was provided by Amazon. Here we will still be using containers provided by Amazon with the added benefit of being able to include our own custom code.\n",
    "\n",
    "We will start by implementing our own neural network in PyTorch along with a training script. For the purposes of this project we have provided the necessary model object in the `model.py` file, inside of the `train` folder. You can see the provided implementation by running the cell below."
   ]
  },
  {
   "cell_type": "code",
   "execution_count": 36,
   "metadata": {},
   "outputs": [
    {
     "name": "stdout",
     "output_type": "stream",
     "text": [
      "\u001b[34mimport\u001b[39;49;00m \u001b[04m\u001b[36mtorch.nn\u001b[39;49;00m \u001b[34mas\u001b[39;49;00m \u001b[04m\u001b[36mnn\u001b[39;49;00m\r\n",
      "\r\n",
      "\u001b[34mclass\u001b[39;49;00m \u001b[04m\u001b[32mLSTMClassifier\u001b[39;49;00m(nn.Module):\r\n",
      "    \u001b[33m\"\"\"\u001b[39;49;00m\r\n",
      "\u001b[33m    This is the simple RNN model we will be using to perform Sentiment Analysis.\u001b[39;49;00m\r\n",
      "\u001b[33m    \"\"\"\u001b[39;49;00m\r\n",
      "\r\n",
      "    \u001b[34mdef\u001b[39;49;00m \u001b[32m__init__\u001b[39;49;00m(\u001b[36mself\u001b[39;49;00m, embedding_dim, hidden_dim, vocab_size):\r\n",
      "        \u001b[33m\"\"\"\u001b[39;49;00m\r\n",
      "\u001b[33m        Initialize the model by settingg up the various layers.\u001b[39;49;00m\r\n",
      "\u001b[33m        \"\"\"\u001b[39;49;00m\r\n",
      "        \u001b[36msuper\u001b[39;49;00m(LSTMClassifier, \u001b[36mself\u001b[39;49;00m).\u001b[32m__init__\u001b[39;49;00m()\r\n",
      "\r\n",
      "        \u001b[36mself\u001b[39;49;00m.embedding = nn.Embedding(vocab_size, embedding_dim, padding_idx=\u001b[34m0\u001b[39;49;00m)\r\n",
      "        \u001b[36mself\u001b[39;49;00m.lstm = nn.LSTM(embedding_dim, hidden_dim)\r\n",
      "        \u001b[36mself\u001b[39;49;00m.dense = nn.Linear(in_features=hidden_dim, out_features=\u001b[34m1\u001b[39;49;00m)\r\n",
      "        \u001b[36mself\u001b[39;49;00m.sig = nn.Sigmoid()\r\n",
      "        \r\n",
      "        \u001b[36mself\u001b[39;49;00m.word_dict = \u001b[36mNone\u001b[39;49;00m\r\n",
      "\r\n",
      "    \u001b[34mdef\u001b[39;49;00m \u001b[32mforward\u001b[39;49;00m(\u001b[36mself\u001b[39;49;00m, x):\r\n",
      "        \u001b[33m\"\"\"\u001b[39;49;00m\r\n",
      "\u001b[33m        Perform a forward pass of our model on some input.\u001b[39;49;00m\r\n",
      "\u001b[33m        \"\"\"\u001b[39;49;00m\r\n",
      "        x = x.t()\r\n",
      "        lengths = x[\u001b[34m0\u001b[39;49;00m,:]\r\n",
      "        reviews = x[\u001b[34m1\u001b[39;49;00m:,:]\r\n",
      "        embeds = \u001b[36mself\u001b[39;49;00m.embedding(reviews)\r\n",
      "        lstm_out, _ = \u001b[36mself\u001b[39;49;00m.lstm(embeds)\r\n",
      "        out = \u001b[36mself\u001b[39;49;00m.dense(lstm_out)\r\n",
      "        out = out[lengths - \u001b[34m1\u001b[39;49;00m, \u001b[36mrange\u001b[39;49;00m(\u001b[36mlen\u001b[39;49;00m(lengths))]\r\n",
      "        \u001b[34mreturn\u001b[39;49;00m \u001b[36mself\u001b[39;49;00m.sig(out.squeeze())\r\n"
     ]
    }
   ],
   "source": [
    "!pygmentize train/model.py"
   ]
  },
  {
   "cell_type": "markdown",
   "metadata": {},
   "source": [
    "The important takeaway from the implementation provided is that there are three parameters that we may wish to tweak to improve the performance of our model. These are the embedding dimension, the hidden dimension and the size of the vocabulary. We will likely want to make these parameters configurable in the training script so that if we wish to modify them we do not need to modify the script itself. We will see how to do this later on. To start we will write some of the training code in the notebook so that we can more easily diagnose any issues that arise.\n",
    "\n",
    "First we will load a small portion of the training data set to use as a sample. It would be very time consuming to try and train the model completely in the notebook as we do not have access to a gpu and the compute instance that we are using is not particularly powerful. However, we can work on a small bit of the data to get a feel for how our training script is behaving."
   ]
  },
  {
   "cell_type": "code",
   "execution_count": 37,
   "metadata": {},
   "outputs": [],
   "source": [
    "import torch\n",
    "import torch.utils.data\n",
    "\n",
    "# Read in only the first 250 rows\n",
    "train_sample = pd.read_csv(os.path.join(data_dir, 'train.csv'), header=None, names=None, nrows=250)\n",
    "\n",
    "# Turn the input pandas dataframe into tensors\n",
    "train_sample_y = torch.from_numpy(train_sample[[0]].values).float().squeeze()\n",
    "train_sample_X = torch.from_numpy(train_sample.drop([0], axis=1).values).long()\n",
    "\n",
    "# Build the dataset\n",
    "train_sample_ds = torch.utils.data.TensorDataset(train_sample_X, train_sample_y)\n",
    "# Build the dataloader\n",
    "train_sample_dl = torch.utils.data.DataLoader(train_sample_ds, batch_size=50)"
   ]
  },
  {
   "cell_type": "markdown",
   "metadata": {},
   "source": [
    "### (TODO) Writing the training method\n",
    "\n",
    "Next we need to write the training code itself. This should be very similar to training methods that you have written before to train PyTorch models. We will leave any difficult aspects such as model saving / loading and parameter loading until a little later."
   ]
  },
  {
   "cell_type": "code",
   "execution_count": 38,
   "metadata": {},
   "outputs": [],
   "source": [
    "def train(model, train_loader, epochs, optimizer, loss_fn, device):\n",
    "    for epoch in range(1, epochs + 1):\n",
    "        model.train()\n",
    "        total_loss = 0\n",
    "        for batch in train_loader:         \n",
    "            batch_X, batch_y = batch\n",
    "            \n",
    "            batch_X = batch_X.to(device)\n",
    "            batch_y = batch_y.to(device)\n",
    "            \n",
    "            # TODO: Complete this train method to train the model provided.\n",
    "            optimizer.zero_grad()\n",
    "            output = model(batch_X)\n",
    "            loss = loss_fn(output, batch_y)\n",
    "            loss.backward()\n",
    "            optimizer.step()\n",
    "            \n",
    "            total_loss += loss.data.item()\n",
    "        print(\"Epoch: {}, BCELoss: {}\".format(epoch, total_loss / len(train_loader)))"
   ]
  },
  {
   "cell_type": "markdown",
   "metadata": {},
   "source": [
    "Supposing we have the training method above, we will test that it is working by writing a bit of code in the notebook that executes our training method on the small sample training set that we loaded earlier. The reason for doing this in the notebook is so that we have an opportunity to fix any errors that arise early when they are easier to diagnose."
   ]
  },
  {
   "cell_type": "code",
   "execution_count": 39,
   "metadata": {},
   "outputs": [
    {
     "name": "stdout",
     "output_type": "stream",
     "text": [
      "Epoch: 1, BCELoss: 0.6887856483459472\n",
      "Epoch: 2, BCELoss: 0.6780927300453186\n",
      "Epoch: 3, BCELoss: 0.6680547952651977\n",
      "Epoch: 4, BCELoss: 0.6566056609153748\n",
      "Epoch: 5, BCELoss: 0.6425208330154419\n"
     ]
    }
   ],
   "source": [
    "import torch.optim as optim\n",
    "from train.model import LSTMClassifier\n",
    "\n",
    "device = torch.device(\"cuda\" if torch.cuda.is_available() else \"cpu\")\n",
    "model = LSTMClassifier(32, 100, 5000).to(device)\n",
    "optimizer = optim.Adam(model.parameters())\n",
    "loss_fn = torch.nn.BCELoss()\n",
    "\n",
    "train(model, train_sample_dl, 5, optimizer, loss_fn, device)"
   ]
  },
  {
   "cell_type": "markdown",
   "metadata": {},
   "source": [
    "In order to construct a PyTorch model using SageMaker we must provide SageMaker with a training script. We may optionally include a directory which will be copied to the container and from which our training code will be run. When the training container is executed it will check the uploaded directory (if there is one) for a `requirements.txt` file and install any required Python libraries, after which the training script will be run."
   ]
  },
  {
   "cell_type": "markdown",
   "metadata": {},
   "source": [
    "### (TODO) Training the model\n",
    "\n",
    "When a PyTorch model is constructed in SageMaker, an entry point must be specified. This is the Python file which will be executed when the model is trained. Inside of the `train` directory is a file called `train.py` which has been provided and which contains most of the necessary code to train our model. The only thing that is missing is the implementation of the `train()` method which you wrote earlier in this notebook.\n",
    "\n",
    "**TODO**: Copy the `train()` method written above and paste it into the `train/train.py` file where required.\n",
    "\n",
    "The way that SageMaker passes hyperparameters to the training script is by way of arguments. These arguments can then be parsed and used in the training script. To see how this is done take a look at the provided `train/train.py` file."
   ]
  },
  {
   "cell_type": "code",
   "execution_count": 44,
   "metadata": {},
   "outputs": [],
   "source": [
    "from sagemaker.pytorch import PyTorch\n",
    "\n",
    "estimator = PyTorch(entry_point=\"train.py\",\n",
    "                    source_dir=\"train\",\n",
    "                    role=role,\n",
    "                    framework_version='0.4.0',\n",
    "                    train_instance_count=1,\n",
    "                    train_instance_type='ml.m5.xlarge',\n",
    "                    hyperparameters={\n",
    "                        'epochs': 10,\n",
    "                        'hidden_dim': 200,\n",
    "                    })"
   ]
  },
  {
   "cell_type": "code",
   "execution_count": 46,
   "metadata": {},
   "outputs": [
    {
     "name": "stdout",
     "output_type": "stream",
     "text": [
      "2019-12-22 19:41:18 Starting - Starting the training job...\n",
      "2019-12-22 19:41:23 Starting - Launching requested ML instances......\n",
      "2019-12-22 19:42:20 Starting - Preparing the instances for training...\n",
      "2019-12-22 19:43:05 Downloading - Downloading input data...\n",
      "2019-12-22 19:43:34 Training - Training image download completed. Training in progress.\u001b[34mbash: cannot set terminal process group (-1): Inappropriate ioctl for device\u001b[0m\n",
      "\u001b[34mbash: no job control in this shell\u001b[0m\n",
      "\u001b[34m2019-12-22 19:43:35,662 sagemaker-containers INFO     Imported framework sagemaker_pytorch_container.training\u001b[0m\n",
      "\u001b[34m2019-12-22 19:43:35,665 sagemaker-containers INFO     No GPUs detected (normal if no gpus installed)\u001b[0m\n",
      "\u001b[34m2019-12-22 19:43:35,677 sagemaker_pytorch_container.training INFO     Block until all host DNS lookups succeed.\u001b[0m\n",
      "\u001b[34m2019-12-22 19:43:38,723 sagemaker_pytorch_container.training INFO     Invoking user training script.\u001b[0m\n",
      "\u001b[34m2019-12-22 19:43:38,929 sagemaker-containers INFO     Module train does not provide a setup.py. \u001b[0m\n",
      "\u001b[34mGenerating setup.py\u001b[0m\n",
      "\u001b[34m2019-12-22 19:43:38,930 sagemaker-containers INFO     Generating setup.cfg\u001b[0m\n",
      "\u001b[34m2019-12-22 19:43:38,930 sagemaker-containers INFO     Generating MANIFEST.in\u001b[0m\n",
      "\u001b[34m2019-12-22 19:43:38,930 sagemaker-containers INFO     Installing module with the following command:\u001b[0m\n",
      "\u001b[34m/usr/bin/python -m pip install -U . -r requirements.txt\u001b[0m\n",
      "\u001b[34mProcessing /opt/ml/code\u001b[0m\n",
      "\u001b[34mCollecting pandas (from -r requirements.txt (line 1))\n",
      "  Downloading https://files.pythonhosted.org/packages/74/24/0cdbf8907e1e3bc5a8da03345c23cbed7044330bb8f73bb12e711a640a00/pandas-0.24.2-cp35-cp35m-manylinux1_x86_64.whl (10.0MB)\u001b[0m\n",
      "\u001b[34mCollecting numpy (from -r requirements.txt (line 2))\n",
      "  Downloading https://files.pythonhosted.org/packages/eb/ec/d4b7855249ce87ece79783562dd6101b1f0abf461c25101c2e959d691e68/numpy-1.18.0-cp35-cp35m-manylinux1_x86_64.whl (19.9MB)\u001b[0m\n",
      "\u001b[34mCollecting nltk (from -r requirements.txt (line 3))\n",
      "  Downloading https://files.pythonhosted.org/packages/f6/1d/d925cfb4f324ede997f6d47bea4d9babba51b49e87a767c170b77005889d/nltk-3.4.5.zip (1.5MB)\u001b[0m\n",
      "\u001b[34mCollecting beautifulsoup4 (from -r requirements.txt (line 4))\n",
      "  Downloading https://files.pythonhosted.org/packages/3b/c8/a55eb6ea11cd7e5ac4bacdf92bac4693b90d3ba79268be16527555e186f0/beautifulsoup4-4.8.1-py3-none-any.whl (101kB)\u001b[0m\n",
      "\u001b[34mCollecting html5lib (from -r requirements.txt (line 5))\n",
      "  Downloading https://files.pythonhosted.org/packages/a5/62/bbd2be0e7943ec8504b517e62bab011b4946e1258842bc159e5dfde15b96/html5lib-1.0.1-py2.py3-none-any.whl (117kB)\u001b[0m\n",
      "\u001b[34mCollecting pytz>=2011k (from pandas->-r requirements.txt (line 1))\n",
      "  Downloading https://files.pythonhosted.org/packages/e7/f9/f0b53f88060247251bf481fa6ea62cd0d25bf1b11a87888e53ce5b7c8ad2/pytz-2019.3-py2.py3-none-any.whl (509kB)\u001b[0m\n",
      "\u001b[34mRequirement already satisfied, skipping upgrade: python-dateutil>=2.5.0 in /usr/local/lib/python3.5/dist-packages (from pandas->-r requirements.txt (line 1)) (2.7.5)\u001b[0m\n",
      "\u001b[34mRequirement already satisfied, skipping upgrade: six in /usr/local/lib/python3.5/dist-packages (from nltk->-r requirements.txt (line 3)) (1.11.0)\u001b[0m\n",
      "\u001b[34mCollecting soupsieve>=1.2 (from beautifulsoup4->-r requirements.txt (line 4))\n",
      "  Downloading https://files.pythonhosted.org/packages/81/94/03c0f04471fc245d08d0a99f7946ac228ca98da4fa75796c507f61e688c2/soupsieve-1.9.5-py2.py3-none-any.whl\u001b[0m\n",
      "\u001b[34mCollecting webencodings (from html5lib->-r requirements.txt (line 5))\n",
      "  Downloading https://files.pythonhosted.org/packages/f4/24/2a3e3df732393fed8b3ebf2ec078f05546de641fe1b667ee316ec1dcf3b7/webencodings-0.5.1-py2.py3-none-any.whl\u001b[0m\n",
      "\u001b[34mBuilding wheels for collected packages: nltk, train\n",
      "  Running setup.py bdist_wheel for nltk: started\u001b[0m\n",
      "\u001b[34m  Running setup.py bdist_wheel for nltk: finished with status 'done'\n",
      "  Stored in directory: /root/.cache/pip/wheels/96/86/f6/68ab24c23f207c0077381a5e3904b2815136b879538a24b483\n",
      "  Running setup.py bdist_wheel for train: started\u001b[0m\n",
      "\u001b[34m  Running setup.py bdist_wheel for train: finished with status 'done'\n",
      "  Stored in directory: /tmp/pip-ephem-wheel-cache-8mprcr1y/wheels/35/24/16/37574d11bf9bde50616c67372a334f94fa8356bc7164af8ca3\u001b[0m\n",
      "\u001b[34mSuccessfully built nltk train\u001b[0m\n",
      "\u001b[34mInstalling collected packages: pytz, numpy, pandas, nltk, soupsieve, beautifulsoup4, webencodings, html5lib, train\n",
      "  Found existing installation: numpy 1.15.4\n",
      "    Uninstalling numpy-1.15.4:\u001b[0m\n",
      "\u001b[34m      Successfully uninstalled numpy-1.15.4\u001b[0m\n",
      "\u001b[34mSuccessfully installed beautifulsoup4-4.8.1 html5lib-1.0.1 nltk-3.4.5 numpy-1.18.0 pandas-0.24.2 pytz-2019.3 soupsieve-1.9.5 train-1.0.0 webencodings-0.5.1\u001b[0m\n",
      "\u001b[34mYou are using pip version 18.1, however version 19.3.1 is available.\u001b[0m\n",
      "\u001b[34mYou should consider upgrading via the 'pip install --upgrade pip' command.\u001b[0m\n",
      "\u001b[34m2019-12-22 19:43:49,852 sagemaker-containers INFO     No GPUs detected (normal if no gpus installed)\u001b[0m\n",
      "\u001b[34m2019-12-22 19:43:49,865 sagemaker-containers INFO     Invoking user script\n",
      "\u001b[0m\n",
      "\u001b[34mTraining Env:\n",
      "\u001b[0m\n",
      "\u001b[34m{\n",
      "    \"hyperparameters\": {\n",
      "        \"epochs\": 10,\n",
      "        \"hidden_dim\": 200\n",
      "    },\n",
      "    \"channel_input_dirs\": {\n",
      "        \"training\": \"/opt/ml/input/data/training\"\n",
      "    },\n",
      "    \"log_level\": 20,\n",
      "    \"input_data_config\": {\n",
      "        \"training\": {\n",
      "            \"S3DistributionType\": \"FullyReplicated\",\n",
      "            \"RecordWrapperType\": \"None\",\n",
      "            \"TrainingInputMode\": \"File\"\n",
      "        }\n",
      "    },\n",
      "    \"num_cpus\": 4,\n",
      "    \"module_dir\": \"s3://sagemaker-eu-west-3-260759594713/sagemaker-pytorch-2019-12-22-19-41-18-718/source/sourcedir.tar.gz\",\n",
      "    \"output_dir\": \"/opt/ml/output\",\n",
      "    \"output_data_dir\": \"/opt/ml/output/data\",\n",
      "    \"additional_framework_parameters\": {},\n",
      "    \"framework_module\": \"sagemaker_pytorch_container.training:main\",\n",
      "    \"current_host\": \"algo-1\",\n",
      "    \"job_name\": \"sagemaker-pytorch-2019-12-22-19-41-18-718\",\n",
      "    \"output_intermediate_dir\": \"/opt/ml/output/intermediate\",\n",
      "    \"model_dir\": \"/opt/ml/model\",\n",
      "    \"input_config_dir\": \"/opt/ml/input/config\",\n",
      "    \"resource_config\": {\n",
      "        \"network_interface_name\": \"eth0\",\n",
      "        \"hosts\": [\n",
      "            \"algo-1\"\n",
      "        ],\n",
      "        \"current_host\": \"algo-1\"\n",
      "    },\n",
      "    \"hosts\": [\n",
      "        \"algo-1\"\n",
      "    ],\n",
      "    \"user_entry_point\": \"train.py\",\n",
      "    \"input_dir\": \"/opt/ml/input\",\n",
      "    \"num_gpus\": 0,\n",
      "    \"network_interface_name\": \"eth0\",\n",
      "    \"module_name\": \"train\"\u001b[0m\n",
      "\u001b[34m}\n",
      "\u001b[0m\n",
      "\u001b[34mEnvironment variables:\n",
      "\u001b[0m\n",
      "\u001b[34mSM_HP_HIDDEN_DIM=200\u001b[0m\n",
      "\u001b[34mSM_MODULE_NAME=train\u001b[0m\n",
      "\u001b[34mSM_CURRENT_HOST=algo-1\u001b[0m\n",
      "\u001b[34mPYTHONPATH=/usr/local/bin:/usr/lib/python35.zip:/usr/lib/python3.5:/usr/lib/python3.5/plat-x86_64-linux-gnu:/usr/lib/python3.5/lib-dynload:/usr/local/lib/python3.5/dist-packages:/usr/lib/python3/dist-packages\u001b[0m\n",
      "\u001b[34mSM_INPUT_DIR=/opt/ml/input\u001b[0m\n",
      "\u001b[34mSM_USER_ENTRY_POINT=train.py\u001b[0m\n",
      "\u001b[34mSM_HOSTS=[\"algo-1\"]\u001b[0m\n",
      "\u001b[34mSM_FRAMEWORK_MODULE=sagemaker_pytorch_container.training:main\u001b[0m\n",
      "\u001b[34mSM_FRAMEWORK_PARAMS={}\u001b[0m\n",
      "\u001b[34mSM_INPUT_DATA_CONFIG={\"training\":{\"RecordWrapperType\":\"None\",\"S3DistributionType\":\"FullyReplicated\",\"TrainingInputMode\":\"File\"}}\u001b[0m\n",
      "\u001b[34mSM_NETWORK_INTERFACE_NAME=eth0\u001b[0m\n",
      "\u001b[34mSM_HPS={\"epochs\":10,\"hidden_dim\":200}\u001b[0m\n",
      "\u001b[34mSM_OUTPUT_DATA_DIR=/opt/ml/output/data\u001b[0m\n",
      "\u001b[34mSM_RESOURCE_CONFIG={\"current_host\":\"algo-1\",\"hosts\":[\"algo-1\"],\"network_interface_name\":\"eth0\"}\u001b[0m\n",
      "\u001b[34mSM_USER_ARGS=[\"--epochs\",\"10\",\"--hidden_dim\",\"200\"]\u001b[0m\n",
      "\u001b[34mSM_TRAINING_ENV={\"additional_framework_parameters\":{},\"channel_input_dirs\":{\"training\":\"/opt/ml/input/data/training\"},\"current_host\":\"algo-1\",\"framework_module\":\"sagemaker_pytorch_container.training:main\",\"hosts\":[\"algo-1\"],\"hyperparameters\":{\"epochs\":10,\"hidden_dim\":200},\"input_config_dir\":\"/opt/ml/input/config\",\"input_data_config\":{\"training\":{\"RecordWrapperType\":\"None\",\"S3DistributionType\":\"FullyReplicated\",\"TrainingInputMode\":\"File\"}},\"input_dir\":\"/opt/ml/input\",\"job_name\":\"sagemaker-pytorch-2019-12-22-19-41-18-718\",\"log_level\":20,\"model_dir\":\"/opt/ml/model\",\"module_dir\":\"s3://sagemaker-eu-west-3-260759594713/sagemaker-pytorch-2019-12-22-19-41-18-718/source/sourcedir.tar.gz\",\"module_name\":\"train\",\"network_interface_name\":\"eth0\",\"num_cpus\":4,\"num_gpus\":0,\"output_data_dir\":\"/opt/ml/output/data\",\"output_dir\":\"/opt/ml/output\",\"output_intermediate_dir\":\"/opt/ml/output/intermediate\",\"resource_config\":{\"current_host\":\"algo-1\",\"hosts\":[\"algo-1\"],\"network_interface_name\":\"eth0\"},\"user_entry_point\":\"train.py\"}\u001b[0m\n",
      "\u001b[34mSM_MODEL_DIR=/opt/ml/model\u001b[0m\n",
      "\u001b[34mSM_OUTPUT_DIR=/opt/ml/output\u001b[0m\n",
      "\u001b[34mSM_MODULE_DIR=s3://sagemaker-eu-west-3-260759594713/sagemaker-pytorch-2019-12-22-19-41-18-718/source/sourcedir.tar.gz\u001b[0m\n",
      "\u001b[34mSM_CHANNELS=[\"training\"]\u001b[0m\n",
      "\u001b[34mSM_OUTPUT_INTERMEDIATE_DIR=/opt/ml/output/intermediate\u001b[0m\n",
      "\u001b[34mSM_LOG_LEVEL=20\u001b[0m\n",
      "\u001b[34mSM_INPUT_CONFIG_DIR=/opt/ml/input/config\u001b[0m\n",
      "\u001b[34mSM_NUM_CPUS=4\u001b[0m\n",
      "\u001b[34mSM_CHANNEL_TRAINING=/opt/ml/input/data/training\u001b[0m\n",
      "\u001b[34mSM_HP_EPOCHS=10\u001b[0m\n",
      "\u001b[34mSM_NUM_GPUS=0\n",
      "\u001b[0m\n",
      "\u001b[34mInvoking script with the following command:\n",
      "\u001b[0m\n",
      "\u001b[34m/usr/bin/python -m train --epochs 10 --hidden_dim 200\n",
      "\n",
      "\u001b[0m\n",
      "\u001b[34mUsing device cpu.\u001b[0m\n",
      "\u001b[34mGet train data loader.\u001b[0m\n",
      "\u001b[34mModel loaded with embedding_dim 32, hidden_dim 200, vocab_size 5000.\u001b[0m\n",
      "\u001b[34mEpoch: 1, BCELoss: 0.6702567168644497\u001b[0m\n",
      "\u001b[34mEpoch: 2, BCELoss: 0.5953460822300035\u001b[0m\n",
      "\u001b[34mEpoch: 3, BCELoss: 0.5089076307355141\u001b[0m\n",
      "\u001b[34mEpoch: 4, BCELoss: 0.44445091668440373\u001b[0m\n",
      "\u001b[34mEpoch: 5, BCELoss: 0.39179481718004966\u001b[0m\n",
      "\u001b[34mEpoch: 6, BCELoss: 0.39103466393996256\u001b[0m\n",
      "\u001b[34mEpoch: 7, BCELoss: 0.34439920162668036\u001b[0m\n",
      "\u001b[34mEpoch: 8, BCELoss: 0.3246891398210915\u001b[0m\n",
      "\u001b[34mEpoch: 9, BCELoss: 0.29403110091783563\u001b[0m\n",
      "\n",
      "2019-12-22 21:07:43 Uploading - Uploading generated training model\u001b[34mEpoch: 10, BCELoss: 0.27098693318512973\u001b[0m\n",
      "\u001b[34m2019-12-22 21:07:42,319 sagemaker-containers INFO     Reporting training SUCCESS\u001b[0m\n",
      "\n",
      "2019-12-22 21:07:50 Completed - Training job completed\n",
      "Training seconds: 5085\n",
      "Billable seconds: 5085\n"
     ]
    }
   ],
   "source": [
    "estimator.fit({'training': input_data})"
   ]
  },
  {
   "cell_type": "markdown",
   "metadata": {},
   "source": [
    "## Step 5: Testing the model\n",
    "\n",
    "As mentioned at the top of this notebook, we will be testing this model by first deploying it and then sending the testing data to the deployed endpoint. We will do this so that we can make sure that the deployed model is working correctly.\n",
    "\n",
    "## Step 6: Deploy the model for testing\n",
    "\n",
    "Now that we have trained our model, we would like to test it to see how it performs. Currently our model takes input of the form `review_length, review[500]` where `review[500]` is a sequence of `500` integers which describe the words present in the review, encoded using `word_dict`. Fortunately for us, SageMaker provides built-in inference code for models with simple inputs such as this.\n",
    "\n",
    "There is one thing that we need to provide, however, and that is a function which loads the saved model. This function must be called `model_fn()` and takes as its only parameter a path to the directory where the model artifacts are stored. This function must also be present in the python file which we specified as the entry point. In our case the model loading function has been provided and so no changes need to be made.\n",
    "\n",
    "**NOTE**: When the built-in inference code is run it must import the `model_fn()` method from the `train.py` file. This is why the training code is wrapped in a main guard ( ie, `if __name__ == '__main__':` )\n",
    "\n",
    "Since we don't need to change anything in the code that was uploaded during training, we can simply deploy the current model as-is.\n",
    "\n",
    "**NOTE:** When deploying a model you are asking SageMaker to launch an compute instance that will wait for data to be sent to it. As a result, this compute instance will continue to run until *you* shut it down. This is important to know since the cost of a deployed endpoint depends on how long it has been running for.\n",
    "\n",
    "In other words **If you are no longer using a deployed endpoint, shut it down!**\n",
    "\n",
    "**TODO:** Deploy the trained model."
   ]
  },
  {
   "cell_type": "code",
   "execution_count": 69,
   "metadata": {
    "scrolled": true
   },
   "outputs": [
    {
     "name": "stderr",
     "output_type": "stream",
     "text": [
      "Using already existing model: sagemaker-pytorch-2019-12-22-19-41-18-718\n"
     ]
    },
    {
     "name": "stdout",
     "output_type": "stream",
     "text": [
      "-------------------------------------------------------------------------------------!"
     ]
    }
   ],
   "source": [
    "# TODO: Deploy the trained model\n",
    "predictor = estimator.deploy(initial_instance_count=1, instance_type='ml.t2.medium')"
   ]
  },
  {
   "cell_type": "markdown",
   "metadata": {},
   "source": [
    "## Step 7 - Use the model for testing\n",
    "\n",
    "Once deployed, we can read in the test data and send it off to our deployed model to get some results. Once we collect all of the results we can determine how accurate our model is."
   ]
  },
  {
   "cell_type": "code",
   "execution_count": 70,
   "metadata": {},
   "outputs": [],
   "source": [
    "test_X = pd.concat([pd.DataFrame(test_X_len), pd.DataFrame(test_X)], axis=1)"
   ]
  },
  {
   "cell_type": "code",
   "execution_count": 71,
   "metadata": {},
   "outputs": [],
   "source": [
    "# We split the data into chunks and send each chunk seperately, accumulating the results.\n",
    "\n",
    "def predict(data, rows=512):\n",
    "    split_array = np.array_split(data, int(data.shape[0] / float(rows) + 1))\n",
    "    predictions = np.array([])\n",
    "    for array in split_array:\n",
    "        predictions = np.append(predictions, predictor.predict(array))\n",
    "    \n",
    "    return predictions"
   ]
  },
  {
   "cell_type": "code",
   "execution_count": 72,
   "metadata": {},
   "outputs": [],
   "source": [
    "predictions = predict(test_X.values)\n",
    "predictions = [round(num) for num in predictions]"
   ]
  },
  {
   "cell_type": "code",
   "execution_count": 73,
   "metadata": {},
   "outputs": [
    {
     "data": {
      "text/plain": [
       "0.8526"
      ]
     },
     "execution_count": 73,
     "metadata": {},
     "output_type": "execute_result"
    }
   ],
   "source": [
    "from sklearn.metrics import accuracy_score\n",
    "accuracy_score(test_y, predictions)"
   ]
  },
  {
   "cell_type": "markdown",
   "metadata": {},
   "source": [
    "**Question:** How does this model compare to the XGBoost model you created earlier? Why might these two models perform differently on this dataset? Which do *you* think is better for sentiment analysis?"
   ]
  },
  {
   "cell_type": "markdown",
   "metadata": {},
   "source": [
    "**Answer:** Both models produce approximately the same results. However LSTM is more suitable for sentiment analysis since it keeps track of the relations between words in the same sentence ( their order ). XGBoost in the other hand uses Bag of words for encoding and therefore treats the words separatly. "
   ]
  },
  {
   "cell_type": "markdown",
   "metadata": {},
   "source": [
    "### (TODO) More testing\n",
    "\n",
    "We now have a trained model which has been deployed and which we can send processed reviews to and which returns the predicted sentiment. However, ultimately we would like to be able to send our model an unprocessed review. That is, we would like to send the review itself as a string. For example, suppose we wish to send the following review to our model."
   ]
  },
  {
   "cell_type": "code",
   "execution_count": 74,
   "metadata": {},
   "outputs": [],
   "source": [
    "test_review = 'The simplest pleasures in life are the best, and this film is one of them. Combining a rather basic storyline of love and adventure this movie transcends the usual weekend fair with wit and unmitigated charm.'"
   ]
  },
  {
   "cell_type": "markdown",
   "metadata": {},
   "source": [
    "The question we now need to answer is, how do we send this review to our model?\n",
    "\n",
    "Recall in the first section of this notebook we did a bunch of data processing to the IMDb dataset. In particular, we did two specific things to the provided reviews.\n",
    " - Removed any html tags and stemmed the input\n",
    " - Encoded the review as a sequence of integers using `word_dict`\n",
    " \n",
    "In order process the review we will need to repeat these two steps.\n",
    "\n",
    "**TODO**: Using the `review_to_words` and `convert_and_pad` methods from section one, convert `test_review` into a numpy array `test_data` suitable to send to our model. Remember that our model expects input of the form `review_length, review[500]`."
   ]
  },
  {
   "cell_type": "code",
   "execution_count": 75,
   "metadata": {},
   "outputs": [],
   "source": [
    "# TODO: Convert test_review into a form usable by the model and save the results in test_data\n",
    "test_data_review_to_words = review_to_words(test_review)\n",
    "test_data = [np.array(convert_and_pad(word_dict, test_data_review_to_words)[0])]"
   ]
  },
  {
   "cell_type": "markdown",
   "metadata": {},
   "source": [
    "Now that we have processed the review, we can send the resulting array to our model to predict the sentiment of the review."
   ]
  },
  {
   "cell_type": "code",
   "execution_count": 77,
   "metadata": {},
   "outputs": [
    {
     "data": {
      "text/plain": [
       "array(0.43380174, dtype=float32)"
      ]
     },
     "execution_count": 77,
     "metadata": {},
     "output_type": "execute_result"
    }
   ],
   "source": [
    "predictor.predict(test_data)"
   ]
  },
  {
   "cell_type": "markdown",
   "metadata": {},
   "source": [
    "Since the return value of our model is close to `1`, we can be certain that the review we submitted is positive."
   ]
  },
  {
   "cell_type": "markdown",
   "metadata": {},
   "source": [
    "### Delete the endpoint\n",
    "\n",
    "Of course, just like in the XGBoost notebook, once we've deployed an endpoint it continues to run until we tell it to shut down. Since we are done using our endpoint for now, we can delete it."
   ]
  },
  {
   "cell_type": "code",
   "execution_count": 78,
   "metadata": {},
   "outputs": [],
   "source": [
    "estimator.delete_endpoint()"
   ]
  },
  {
   "cell_type": "markdown",
   "metadata": {},
   "source": [
    "## Step 6 (again) - Deploy the model for the web app\n",
    "\n",
    "Now that we know that our model is working, it's time to create some custom inference code so that we can send the model a review which has not been processed and have it determine the sentiment of the review.\n",
    "\n",
    "As we saw above, by default the estimator which we created, when deployed, will use the entry script and directory which we provided when creating the model. However, since we now wish to accept a string as input and our model expects a processed review, we need to write some custom inference code.\n",
    "\n",
    "We will store the code that we write in the `serve` directory. Provided in this directory is the `model.py` file that we used to construct our model, a `utils.py` file which contains the `review_to_words` and `convert_and_pad` pre-processing functions which we used during the initial data processing, and `predict.py`, the file which will contain our custom inference code. Note also that `requirements.txt` is present which will tell SageMaker what Python libraries are required by our custom inference code.\n",
    "\n",
    "When deploying a PyTorch model in SageMaker, you are expected to provide four functions which the SageMaker inference container will use.\n",
    " - `model_fn`: This function is the same function that we used in the training script and it tells SageMaker how to load our model.\n",
    " - `input_fn`: This function receives the raw serialized input that has been sent to the model's endpoint and its job is to de-serialize and make the input available for the inference code.\n",
    " - `output_fn`: This function takes the output of the inference code and its job is to serialize this output and return it to the caller of the model's endpoint.\n",
    " - `predict_fn`: The heart of the inference script, this is where the actual prediction is done and is the function which you will need to complete.\n",
    "\n",
    "For the simple website that we are constructing during this project, the `input_fn` and `output_fn` methods are relatively straightforward. We only require being able to accept a string as input and we expect to return a single value as output. You might imagine though that in a more complex application the input or output may be image data or some other binary data which would require some effort to serialize.\n",
    "\n",
    "### (TODO) Writing inference code\n",
    "\n",
    "Before writing our custom inference code, we will begin by taking a look at the code which has been provided."
   ]
  },
  {
   "cell_type": "code",
   "execution_count": 79,
   "metadata": {},
   "outputs": [
    {
     "name": "stdout",
     "output_type": "stream",
     "text": [
      "\u001b[34mimport\u001b[39;49;00m \u001b[04m\u001b[36margparse\u001b[39;49;00m\r\n",
      "\u001b[34mimport\u001b[39;49;00m \u001b[04m\u001b[36mjson\u001b[39;49;00m\r\n",
      "\u001b[34mimport\u001b[39;49;00m \u001b[04m\u001b[36mos\u001b[39;49;00m\r\n",
      "\u001b[34mimport\u001b[39;49;00m \u001b[04m\u001b[36mpickle\u001b[39;49;00m\r\n",
      "\u001b[34mimport\u001b[39;49;00m \u001b[04m\u001b[36msys\u001b[39;49;00m\r\n",
      "\u001b[34mimport\u001b[39;49;00m \u001b[04m\u001b[36msagemaker_containers\u001b[39;49;00m\r\n",
      "\u001b[34mimport\u001b[39;49;00m \u001b[04m\u001b[36mpandas\u001b[39;49;00m \u001b[34mas\u001b[39;49;00m \u001b[04m\u001b[36mpd\u001b[39;49;00m\r\n",
      "\u001b[34mimport\u001b[39;49;00m \u001b[04m\u001b[36mnumpy\u001b[39;49;00m \u001b[34mas\u001b[39;49;00m \u001b[04m\u001b[36mnp\u001b[39;49;00m\r\n",
      "\u001b[34mimport\u001b[39;49;00m \u001b[04m\u001b[36mtorch\u001b[39;49;00m\r\n",
      "\u001b[34mimport\u001b[39;49;00m \u001b[04m\u001b[36mtorch.nn\u001b[39;49;00m \u001b[34mas\u001b[39;49;00m \u001b[04m\u001b[36mnn\u001b[39;49;00m\r\n",
      "\u001b[34mimport\u001b[39;49;00m \u001b[04m\u001b[36mtorch.optim\u001b[39;49;00m \u001b[34mas\u001b[39;49;00m \u001b[04m\u001b[36moptim\u001b[39;49;00m\r\n",
      "\u001b[34mimport\u001b[39;49;00m \u001b[04m\u001b[36mtorch.utils.data\u001b[39;49;00m\r\n",
      "\r\n",
      "\u001b[34mfrom\u001b[39;49;00m \u001b[04m\u001b[36mmodel\u001b[39;49;00m \u001b[34mimport\u001b[39;49;00m LSTMClassifier\r\n",
      "\r\n",
      "\u001b[34mfrom\u001b[39;49;00m \u001b[04m\u001b[36mutils\u001b[39;49;00m \u001b[34mimport\u001b[39;49;00m review_to_words, convert_and_pad\r\n",
      "\r\n",
      "\u001b[34mdef\u001b[39;49;00m \u001b[32mmodel_fn\u001b[39;49;00m(model_dir):\r\n",
      "    \u001b[33m\"\"\"Load the PyTorch model from the `model_dir` directory.\"\"\"\u001b[39;49;00m\r\n",
      "    \u001b[34mprint\u001b[39;49;00m(\u001b[33m\"\u001b[39;49;00m\u001b[33mLoading model.\u001b[39;49;00m\u001b[33m\"\u001b[39;49;00m)\r\n",
      "\r\n",
      "    \u001b[37m# First, load the parameters used to create the model.\u001b[39;49;00m\r\n",
      "    model_info = {}\r\n",
      "    model_info_path = os.path.join(model_dir, \u001b[33m'\u001b[39;49;00m\u001b[33mmodel_info.pth\u001b[39;49;00m\u001b[33m'\u001b[39;49;00m)\r\n",
      "    \u001b[34mwith\u001b[39;49;00m \u001b[36mopen\u001b[39;49;00m(model_info_path, \u001b[33m'\u001b[39;49;00m\u001b[33mrb\u001b[39;49;00m\u001b[33m'\u001b[39;49;00m) \u001b[34mas\u001b[39;49;00m f:\r\n",
      "        model_info = torch.load(f)\r\n",
      "\r\n",
      "    \u001b[34mprint\u001b[39;49;00m(\u001b[33m\"\u001b[39;49;00m\u001b[33mmodel_info: {}\u001b[39;49;00m\u001b[33m\"\u001b[39;49;00m.format(model_info))\r\n",
      "\r\n",
      "    \u001b[37m# Determine the device and construct the model.\u001b[39;49;00m\r\n",
      "    device = torch.device(\u001b[33m\"\u001b[39;49;00m\u001b[33mcuda\u001b[39;49;00m\u001b[33m\"\u001b[39;49;00m \u001b[34mif\u001b[39;49;00m torch.cuda.is_available() \u001b[34melse\u001b[39;49;00m \u001b[33m\"\u001b[39;49;00m\u001b[33mcpu\u001b[39;49;00m\u001b[33m\"\u001b[39;49;00m)\r\n",
      "    model = LSTMClassifier(model_info[\u001b[33m'\u001b[39;49;00m\u001b[33membedding_dim\u001b[39;49;00m\u001b[33m'\u001b[39;49;00m], model_info[\u001b[33m'\u001b[39;49;00m\u001b[33mhidden_dim\u001b[39;49;00m\u001b[33m'\u001b[39;49;00m], model_info[\u001b[33m'\u001b[39;49;00m\u001b[33mvocab_size\u001b[39;49;00m\u001b[33m'\u001b[39;49;00m])\r\n",
      "\r\n",
      "    \u001b[37m# Load the store model parameters.\u001b[39;49;00m\r\n",
      "    model_path = os.path.join(model_dir, \u001b[33m'\u001b[39;49;00m\u001b[33mmodel.pth\u001b[39;49;00m\u001b[33m'\u001b[39;49;00m)\r\n",
      "    \u001b[34mwith\u001b[39;49;00m \u001b[36mopen\u001b[39;49;00m(model_path, \u001b[33m'\u001b[39;49;00m\u001b[33mrb\u001b[39;49;00m\u001b[33m'\u001b[39;49;00m) \u001b[34mas\u001b[39;49;00m f:\r\n",
      "        model.load_state_dict(torch.load(f))\r\n",
      "\r\n",
      "    \u001b[37m# Load the saved word_dict.\u001b[39;49;00m\r\n",
      "    word_dict_path = os.path.join(model_dir, \u001b[33m'\u001b[39;49;00m\u001b[33mword_dict.pkl\u001b[39;49;00m\u001b[33m'\u001b[39;49;00m)\r\n",
      "    \u001b[34mwith\u001b[39;49;00m \u001b[36mopen\u001b[39;49;00m(word_dict_path, \u001b[33m'\u001b[39;49;00m\u001b[33mrb\u001b[39;49;00m\u001b[33m'\u001b[39;49;00m) \u001b[34mas\u001b[39;49;00m f:\r\n",
      "        model.word_dict = pickle.load(f)\r\n",
      "\r\n",
      "    model.to(device).eval()\r\n",
      "\r\n",
      "    \u001b[34mprint\u001b[39;49;00m(\u001b[33m\"\u001b[39;49;00m\u001b[33mDone loading model.\u001b[39;49;00m\u001b[33m\"\u001b[39;49;00m)\r\n",
      "    \u001b[34mreturn\u001b[39;49;00m model\r\n",
      "\r\n",
      "\u001b[34mdef\u001b[39;49;00m \u001b[32minput_fn\u001b[39;49;00m(serialized_input_data, content_type):\r\n",
      "    \u001b[34mprint\u001b[39;49;00m(\u001b[33m'\u001b[39;49;00m\u001b[33mDeserializing the input data.\u001b[39;49;00m\u001b[33m'\u001b[39;49;00m)\r\n",
      "    \u001b[34mif\u001b[39;49;00m content_type == \u001b[33m'\u001b[39;49;00m\u001b[33mtext/plain\u001b[39;49;00m\u001b[33m'\u001b[39;49;00m:\r\n",
      "        data = serialized_input_data.decode(\u001b[33m'\u001b[39;49;00m\u001b[33mutf-8\u001b[39;49;00m\u001b[33m'\u001b[39;49;00m)\r\n",
      "        \u001b[34mreturn\u001b[39;49;00m data\r\n",
      "    \u001b[34mraise\u001b[39;49;00m \u001b[36mException\u001b[39;49;00m(\u001b[33m'\u001b[39;49;00m\u001b[33mRequested unsupported ContentType in content_type: \u001b[39;49;00m\u001b[33m'\u001b[39;49;00m + content_type)\r\n",
      "\r\n",
      "\u001b[34mdef\u001b[39;49;00m \u001b[32moutput_fn\u001b[39;49;00m(prediction_output, accept):\r\n",
      "    \u001b[34mprint\u001b[39;49;00m(\u001b[33m'\u001b[39;49;00m\u001b[33mSerializing the generated output.\u001b[39;49;00m\u001b[33m'\u001b[39;49;00m)\r\n",
      "    \u001b[34mreturn\u001b[39;49;00m \u001b[36mstr\u001b[39;49;00m(prediction_output)\r\n",
      "\r\n",
      "\u001b[34mdef\u001b[39;49;00m \u001b[32mpredict_fn\u001b[39;49;00m(input_data, model):\r\n",
      "    \u001b[34mprint\u001b[39;49;00m(\u001b[33m'\u001b[39;49;00m\u001b[33mInferring sentiment of input data.\u001b[39;49;00m\u001b[33m'\u001b[39;49;00m)\r\n",
      "\r\n",
      "    device = torch.device(\u001b[33m\"\u001b[39;49;00m\u001b[33mcuda\u001b[39;49;00m\u001b[33m\"\u001b[39;49;00m \u001b[34mif\u001b[39;49;00m torch.cuda.is_available() \u001b[34melse\u001b[39;49;00m \u001b[33m\"\u001b[39;49;00m\u001b[33mcpu\u001b[39;49;00m\u001b[33m\"\u001b[39;49;00m)\r\n",
      "    \r\n",
      "    \u001b[34mif\u001b[39;49;00m model.word_dict \u001b[35mis\u001b[39;49;00m \u001b[36mNone\u001b[39;49;00m:\r\n",
      "        \u001b[34mraise\u001b[39;49;00m \u001b[36mException\u001b[39;49;00m(\u001b[33m'\u001b[39;49;00m\u001b[33mModel has not been loaded properly, no word_dict.\u001b[39;49;00m\u001b[33m'\u001b[39;49;00m)\r\n",
      "    \r\n",
      "    \u001b[37m# TODO: Process input_data so that it is ready to be sent to our model.\u001b[39;49;00m\r\n",
      "    \u001b[37m#       You should produce two variables:\u001b[39;49;00m\r\n",
      "    \u001b[37m#         data_X   - A sequence of length 500 which represents the converted review\u001b[39;49;00m\r\n",
      "    \u001b[37m#         data_len - The length of the review\u001b[39;49;00m\r\n",
      "\r\n",
      "    words = review_to_words(input_data)\r\n",
      "    data_X, data_len = convert_and_pad(model.word_dict, words)\r\n",
      "\r\n",
      "    \u001b[37m# Using data_X and data_len we construct an appropriate input tensor. Remember\u001b[39;49;00m\r\n",
      "    \u001b[37m# that our model expects input data of the form 'len, review[500]'.\u001b[39;49;00m\r\n",
      "    data_pack = np.hstack((data_len, data_X))\r\n",
      "    data_pack = data_pack.reshape(\u001b[34m1\u001b[39;49;00m, -\u001b[34m1\u001b[39;49;00m)\r\n",
      "    \r\n",
      "    data = torch.from_numpy(data_pack)\r\n",
      "    data = data.to(device)\r\n",
      "\r\n",
      "    \u001b[37m# Make sure to put the model into evaluation mode\u001b[39;49;00m\r\n",
      "    model.eval()\r\n",
      "\r\n",
      "    \u001b[37m# TODO: Compute the result of applying the model to the input data. The variable `result` should\u001b[39;49;00m\r\n",
      "    \u001b[37m#       be a numpy array which contains a single integer which is either 1 or 0\u001b[39;49;00m\r\n",
      "\r\n",
      "    \u001b[34mwith\u001b[39;49;00m torch.no_grad():\r\n",
      "        output = model.forward(data)\r\n",
      "\r\n",
      "    result = np.round(output.numpy())\r\n",
      "\r\n",
      "    \u001b[34mreturn\u001b[39;49;00m result\r\n"
     ]
    }
   ],
   "source": [
    "!pygmentize serve/predict.py"
   ]
  },
  {
   "cell_type": "markdown",
   "metadata": {},
   "source": [
    "As mentioned earlier, the `model_fn` method is the same as the one provided in the training code and the `input_fn` and `output_fn` methods are very simple and your task will be to complete the `predict_fn` method. Make sure that you save the completed file as `predict.py` in the `serve` directory.\n",
    "\n",
    "**TODO**: Complete the `predict_fn()` method in the `serve/predict.py` file."
   ]
  },
  {
   "cell_type": "markdown",
   "metadata": {},
   "source": [
    "### Deploying the model\n",
    "\n",
    "Now that the custom inference code has been written, we will create and deploy our model. To begin with, we need to construct a new PyTorchModel object which points to the model artifacts created during training and also points to the inference code that we wish to use. Then we can call the deploy method to launch the deployment container.\n",
    "\n",
    "**NOTE**: The default behaviour for a deployed PyTorch model is to assume that any input passed to the predictor is a `numpy` array. In our case we want to send a string so we need to construct a simple wrapper around the `RealTimePredictor` class to accomodate simple strings. In a more complicated situation you may want to provide a serialization object, for example if you wanted to sent image data."
   ]
  },
  {
   "cell_type": "code",
   "execution_count": 81,
   "metadata": {},
   "outputs": [
    {
     "name": "stdout",
     "output_type": "stream",
     "text": [
      "-------------------------------------------------------------------------------------------------------------------------!"
     ]
    }
   ],
   "source": [
    "from sagemaker.predictor import RealTimePredictor\n",
    "from sagemaker.pytorch import PyTorchModel\n",
    "\n",
    "class StringPredictor(RealTimePredictor):\n",
    "    def __init__(self, endpoint_name, sagemaker_session):\n",
    "        super(StringPredictor, self).__init__(endpoint_name, sagemaker_session, content_type='text/plain')\n",
    "\n",
    "model = PyTorchModel(model_data=estimator.model_data,\n",
    "                     role = role,\n",
    "                     framework_version='0.4.0',\n",
    "                     entry_point='predict.py',\n",
    "                     source_dir='serve',\n",
    "                     predictor_cls=StringPredictor)\n",
    "predictor = model.deploy(initial_instance_count=1, instance_type='ml.t2.medium')"
   ]
  },
  {
   "cell_type": "markdown",
   "metadata": {},
   "source": [
    "### Testing the model\n",
    "\n",
    "Now that we have deployed our model with the custom inference code, we should test to see if everything is working. Here we test our model by loading the first `250` positive and negative reviews and send them to the endpoint, then collect the results. The reason for only sending some of the data is that the amount of time it takes for our model to process the input and then perform inference is quite long and so testing the entire data set would be prohibitive."
   ]
  },
  {
   "cell_type": "code",
   "execution_count": 94,
   "metadata": {},
   "outputs": [],
   "source": [
    "import glob\n",
    "\n",
    "def test_reviews(data_dir='../data/aclImdb', stop=250):\n",
    "    \n",
    "    results = []\n",
    "    ground = []\n",
    "    \n",
    "    # We make sure to test both positive and negative reviews    \n",
    "    for sentiment in ['pos', 'neg']:\n",
    "        \n",
    "        path = os.path.join(data_dir, 'test', sentiment, '*.txt')\n",
    "        files = glob.glob(path)\n",
    "        \n",
    "        files_read = 0\n",
    "        \n",
    "        print('Starting ', sentiment, ' files')\n",
    "        \n",
    "        # Iterate through the files and send them to the predictor\n",
    "        for f in files:\n",
    "            with open(f) as review:\n",
    "                # First, we store the ground truth (was the review positive or negative)\n",
    "                if sentiment == 'pos':\n",
    "                    ground.append(1)\n",
    "                else:\n",
    "                    ground.append(0)\n",
    "                # Read in the review and convert to 'utf-8' for transmission via HTTP\n",
    "                review_input = review.read().encode('utf-8')\n",
    "                # Send the review to the predictor and store the results\n",
    "                results.append(float(predictor.predict(review_input)))\n",
    "                \n",
    "            # Sending reviews to our endpoint one at a time takes a while so we\n",
    "            # only send a small number of reviews\n",
    "            files_read += 1\n",
    "            if files_read == stop:\n",
    "                break\n",
    "            \n",
    "    return ground, results"
   ]
  },
  {
   "cell_type": "code",
   "execution_count": 95,
   "metadata": {},
   "outputs": [
    {
     "name": "stdout",
     "output_type": "stream",
     "text": [
      "Starting  pos  files\n",
      "Starting  neg  files\n"
     ]
    }
   ],
   "source": [
    "ground, results = test_reviews()"
   ]
  },
  {
   "cell_type": "code",
   "execution_count": 96,
   "metadata": {},
   "outputs": [
    {
     "data": {
      "text/plain": [
       "0.866"
      ]
     },
     "execution_count": 96,
     "metadata": {},
     "output_type": "execute_result"
    }
   ],
   "source": [
    "from sklearn.metrics import accuracy_score\n",
    "accuracy_score(ground, results)"
   ]
  },
  {
   "cell_type": "markdown",
   "metadata": {},
   "source": [
    "As an additional test, we can try sending the `test_review` that we looked at earlier."
   ]
  },
  {
   "cell_type": "code",
   "execution_count": 98,
   "metadata": {},
   "outputs": [
    {
     "data": {
      "text/plain": [
       "b'1.0'"
      ]
     },
     "execution_count": 98,
     "metadata": {},
     "output_type": "execute_result"
    }
   ],
   "source": [
    "predictor.predict(test_review)"
   ]
  },
  {
   "cell_type": "markdown",
   "metadata": {},
   "source": [
    "Now that we know our endpoint is working as expected, we can set up the web page that will interact with it. If you don't have time to finish the project now, make sure to skip down to the end of this notebook and shut down your endpoint. You can deploy it again when you come back."
   ]
  },
  {
   "cell_type": "markdown",
   "metadata": {},
   "source": [
    "## Step 7 (again): Use the model for the web app\n",
    "\n",
    "> **TODO:** This entire section and the next contain tasks for you to complete, mostly using the AWS console.\n",
    "\n",
    "So far we have been accessing our model endpoint by constructing a predictor object which uses the endpoint and then just using the predictor object to perform inference. What if we wanted to create a web app which accessed our model? The way things are set up currently makes that not possible since in order to access a SageMaker endpoint the app would first have to authenticate with AWS using an IAM role which included access to SageMaker endpoints. However, there is an easier way! We just need to use some additional AWS services.\n",
    "\n",
    "<img src=\"Web App Diagram.svg\">\n",
    "\n",
    "The diagram above gives an overview of how the various services will work together. On the far right is the model which we trained above and which is deployed using SageMaker. On the far left is our web app that collects a user's movie review, sends it off and expects a positive or negative sentiment in return.\n",
    "\n",
    "In the middle is where some of the magic happens. We will construct a Lambda function, which you can think of as a straightforward Python function that can be executed whenever a specified event occurs. We will give this function permission to send and recieve data from a SageMaker endpoint.\n",
    "\n",
    "Lastly, the method we will use to execute the Lambda function is a new endpoint that we will create using API Gateway. This endpoint will be a url that listens for data to be sent to it. Once it gets some data it will pass that data on to the Lambda function and then return whatever the Lambda function returns. Essentially it will act as an interface that lets our web app communicate with the Lambda function.\n",
    "\n",
    "### Setting up a Lambda function\n",
    "\n",
    "The first thing we are going to do is set up a Lambda function. This Lambda function will be executed whenever our public API has data sent to it. When it is executed it will receive the data, perform any sort of processing that is required, send the data (the review) to the SageMaker endpoint we've created and then return the result.\n",
    "\n",
    "#### Part A: Create an IAM Role for the Lambda function\n",
    "\n",
    "Since we want the Lambda function to call a SageMaker endpoint, we need to make sure that it has permission to do so. To do this, we will construct a role that we can later give the Lambda function.\n",
    "\n",
    "Using the AWS Console, navigate to the **IAM** page and click on **Roles**. Then, click on **Create role**. Make sure that the **AWS service** is the type of trusted entity selected and choose **Lambda** as the service that will use this role, then click **Next: Permissions**.\n",
    "\n",
    "In the search box type `sagemaker` and select the check box next to the **AmazonSageMakerFullAccess** policy. Then, click on **Next: Review**.\n",
    "\n",
    "Lastly, give this role a name. Make sure you use a name that you will remember later on, for example `LambdaSageMakerRole`. Then, click on **Create role**.\n",
    "\n",
    "#### Part B: Create a Lambda function\n",
    "\n",
    "Now it is time to actually create the Lambda function.\n",
    "\n",
    "Using the AWS Console, navigate to the AWS Lambda page and click on **Create a function**. When you get to the next page, make sure that **Author from scratch** is selected. Now, name your Lambda function, using a name that you will remember later on, for example `sentiment_analysis_func`. Make sure that the **Python 3.6** runtime is selected and then choose the role that you created in the previous part. Then, click on **Create Function**.\n",
    "\n",
    "On the next page you will see some information about the Lambda function you've just created. If you scroll down you should see an editor in which you can write the code that will be executed when your Lambda function is triggered. In our example, we will use the code below. \n",
    "\n",
    "```python\n",
    "# We need to use the low-level library to interact with SageMaker since the SageMaker API\n",
    "# is not available natively through Lambda.\n",
    "import boto3\n",
    "\n",
    "def lambda_handler(event, context):\n",
    "\n",
    "    # The SageMaker runtime is what allows us to invoke the endpoint that we've created.\n",
    "    runtime = boto3.Session().client('sagemaker-runtime')\n",
    "\n",
    "    # Now we use the SageMaker runtime to invoke our endpoint, sending the review we were given\n",
    "    response = runtime.invoke_endpoint(EndpointName = '**ENDPOINT NAME HERE**',    # The name of the endpoint we created\n",
    "                                       ContentType = 'text/plain',                 # The data format that is expected\n",
    "                                       Body = event['body'])                       # The actual review\n",
    "\n",
    "    # The response is an HTTP response whose body contains the result of our inference\n",
    "    result = response['Body'].read().decode('utf-8')\n",
    "\n",
    "    return {\n",
    "        'statusCode' : 200,\n",
    "        'headers' : { 'Content-Type' : 'text/plain', 'Access-Control-Allow-Origin' : '*' },\n",
    "        'body' : result\n",
    "    }\n",
    "```\n",
    "\n",
    "Once you have copy and pasted the code above into the Lambda code editor, replace the `**ENDPOINT NAME HERE**` portion with the name of the endpoint that we deployed earlier. You can determine the name of the endpoint using the code cell below."
   ]
  },
  {
   "cell_type": "code",
   "execution_count": 85,
   "metadata": {},
   "outputs": [
    {
     "data": {
      "text/plain": [
       "'sagemaker-pytorch-2019-12-22-21-59-51-214'"
      ]
     },
     "execution_count": 85,
     "metadata": {},
     "output_type": "execute_result"
    }
   ],
   "source": [
    "predictor.endpoint"
   ]
  },
  {
   "cell_type": "markdown",
   "metadata": {},
   "source": [
    "Once you have added the endpoint name to the Lambda function, click on **Save**. Your Lambda function is now up and running. Next we need to create a way for our web app to execute the Lambda function.\n",
    "\n",
    "### Setting up API Gateway\n",
    "\n",
    "Now that our Lambda function is set up, it is time to create a new API using API Gateway that will trigger the Lambda function we have just created.\n",
    "\n",
    "Using AWS Console, navigate to **Amazon API Gateway** and then click on **Get started**.\n",
    "\n",
    "On the next page, make sure that **New API** is selected and give the new api a name, for example, `sentiment_analysis_api`. Then, click on **Create API**.\n",
    "\n",
    "Now we have created an API, however it doesn't currently do anything. What we want it to do is to trigger the Lambda function that we created earlier.\n",
    "\n",
    "Select the **Actions** dropdown menu and click **Create Method**. A new blank method will be created, select its dropdown menu and select **POST**, then click on the check mark beside it.\n",
    "\n",
    "For the integration point, make sure that **Lambda Function** is selected and click on the **Use Lambda Proxy integration**. This option makes sure that the data that is sent to the API is then sent directly to the Lambda function with no processing. It also means that the return value must be a proper response object as it will also not be processed by API Gateway.\n",
    "\n",
    "Type the name of the Lambda function you created earlier into the **Lambda Function** text entry box and then click on **Save**. Click on **OK** in the pop-up box that then appears, giving permission to API Gateway to invoke the Lambda function you created.\n",
    "\n",
    "The last step in creating the API Gateway is to select the **Actions** dropdown and click on **Deploy API**. You will need to create a new Deployment stage and name it anything you like, for example `prod`.\n",
    "\n",
    "You have now successfully set up a public API to access your SageMaker model. Make sure to copy or write down the URL provided to invoke your newly created public API as this will be needed in the next step. This URL can be found at the top of the page, highlighted in blue next to the text **Invoke URL**."
   ]
  },
  {
   "cell_type": "markdown",
   "metadata": {},
   "source": [
    "## Step 4: Deploying our web app\n",
    "\n",
    "Now that we have a publicly available API, we can start using it in a web app. For our purposes, we have provided a simple static html file which can make use of the public api you created earlier.\n",
    "\n",
    "In the `website` folder there should be a file called `index.html`. Download the file to your computer and open that file up in a text editor of your choice. There should be a line which contains **\\*\\*REPLACE WITH PUBLIC API URL\\*\\***. Replace this string with the url that you wrote down in the last step and then save the file.\n",
    "\n",
    "Now, if you open `index.html` on your local computer, your browser will behave as a local web server and you can use the provided site to interact with your SageMaker model.\n",
    "\n",
    "If you'd like to go further, you can host this html file anywhere you'd like, for example using github or hosting a static site on Amazon's S3. Once you have done this you can share the link with anyone you'd like and have them play with it too!\n",
    "\n",
    "> **Important Note** In order for the web app to communicate with the SageMaker endpoint, the endpoint has to actually be deployed and running. This means that you are paying for it. Make sure that the endpoint is running when you want to use the web app but that you shut it down when you don't need it, otherwise you will end up with a surprisingly large AWS bill.\n",
    "\n",
    "**TODO:** Make sure that you include the edited `index.html` file in your project submission."
   ]
  },
  {
   "cell_type": "markdown",
   "metadata": {},
   "source": [
    "Now that your web app is working, trying playing around with it and see how well it works.\n",
    "\n",
    "**Question**: Give an example of a review that you entered into your web app. What was the predicted sentiment of your example review?"
   ]
  },
  {
   "cell_type": "markdown",
   "metadata": {},
   "source": [
    "**Answer:** \" good movie ! I like it and highly recommend it\" , it was positive"
   ]
  },
  {
   "cell_type": "markdown",
   "metadata": {},
   "source": [
    "### Delete the endpoint\n",
    "\n",
    "Remember to always shut down your endpoint if you are no longer using it. You are charged for the length of time that the endpoint is running so if you forget and leave it on you could end up with an unexpectedly large bill."
   ]
  },
  {
   "cell_type": "code",
   "execution_count": 99,
   "metadata": {},
   "outputs": [],
   "source": [
    "predictor.delete_endpoint()"
   ]
  },
  {
   "cell_type": "code",
   "execution_count": null,
   "metadata": {},
   "outputs": [],
   "source": []
  }
 ],
 "metadata": {
  "kernelspec": {
   "display_name": "conda_pytorch_p36",
   "language": "python",
   "name": "conda_pytorch_p36"
  }
 },
 "nbformat": 4,
 "nbformat_minor": 2
}
